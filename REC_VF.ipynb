{
  "cells": [
    {
      "cell_type": "markdown",
      "metadata": {
        "id": "view-in-github",
        "colab_type": "text"
      },
      "source": [
        "<a href=\"https://colab.research.google.com/github/kenza-c/M2BIGDATA/blob/main/REC_VF.ipynb\" target=\"_parent\"><img src=\"https://colab.research.google.com/assets/colab-badge.svg\" alt=\"Open In Colab\"/></a>"
      ]
    },
    {
      "cell_type": "code",
      "execution_count": 6,
      "id": "34e4d67e-502e-473a-a426-5f1228fdfd40",
      "metadata": {
        "colab": {
          "base_uri": "https://localhost:8080/"
        },
        "id": "34e4d67e-502e-473a-a426-5f1228fdfd40",
        "outputId": "028ac815-8267-49fc-ad79-25475eedbd29"
      },
      "outputs": [
        {
          "output_type": "stream",
          "name": "stderr",
          "text": [
            "[nltk_data] Downloading package punkt to /root/nltk_data...\n",
            "[nltk_data]   Package punkt is already up-to-date!\n",
            "[nltk_data] Downloading package stopwords to /root/nltk_data...\n",
            "[nltk_data]   Package stopwords is already up-to-date!\n",
            "[nltk_data] Downloading package wordnet to /root/nltk_data...\n",
            "[nltk_data]   Package wordnet is already up-to-date!\n"
          ]
        }
      ],
      "source": [
        "import pandas as pd\n",
        "import numpy as np\n",
        "import nltk\n",
        "from nltk.corpus import stopwords\n",
        "import re\n",
        "from nltk.stem import WordNetLemmatizer\n",
        "from nltk.tokenize import word_tokenize\n",
        "from textblob import TextBlob\n",
        "from sklearn.feature_extraction.text import CountVectorizer\n",
        "from sklearn.feature_extraction.text import TfidfVectorizer\n",
        "import transformers\n",
        "from transformers import pipeline\n",
        "import string\n",
        "nltk.download('punkt')\n",
        "nltk.download('stopwords')\n",
        "nltk.download('wordnet')\n",
        "import spacy"
      ]
    },
    {
      "cell_type": "code",
      "execution_count": 7,
      "id": "aecfcaf9-5385-47fe-8628-018ae4e3b0e3",
      "metadata": {
        "id": "aecfcaf9-5385-47fe-8628-018ae4e3b0e3"
      },
      "outputs": [],
      "source": [
        "import random"
      ]
    },
    {
      "cell_type": "code",
      "execution_count": 8,
      "id": "c46cc267-45c8-4f99-a05d-7c9c758c2846",
      "metadata": {
        "id": "c46cc267-45c8-4f99-a05d-7c9c758c2846"
      },
      "outputs": [],
      "source": [
        "from spacy.lang.fr.stop_words import STOP_WORDS"
      ]
    },
    {
      "cell_type": "code",
      "execution_count": 9,
      "id": "7b2dc9eb-72ab-4314-a473-8d74878d2259",
      "metadata": {
        "colab": {
          "base_uri": "https://localhost:8080/"
        },
        "id": "7b2dc9eb-72ab-4314-a473-8d74878d2259",
        "outputId": "a35c79dd-52a5-479a-b0ce-82476927cf65"
      },
      "outputs": [
        {
          "output_type": "stream",
          "name": "stdout",
          "text": [
            "Collecting en-core-web-sm==3.7.1\n",
            "  Downloading https://github.com/explosion/spacy-models/releases/download/en_core_web_sm-3.7.1/en_core_web_sm-3.7.1-py3-none-any.whl (12.8 MB)\n",
            "\u001b[2K     \u001b[90m━━━━━━━━━━━━━━━━━━━━━━━━━━━━━━━━━━━━━━━━\u001b[0m \u001b[32m12.8/12.8 MB\u001b[0m \u001b[31m50.0 MB/s\u001b[0m eta \u001b[36m0:00:00\u001b[0m\n",
            "\u001b[?25hRequirement already satisfied: spacy<3.8.0,>=3.7.2 in /usr/local/lib/python3.10/dist-packages (from en-core-web-sm==3.7.1) (3.7.4)\n",
            "Requirement already satisfied: spacy-legacy<3.1.0,>=3.0.11 in /usr/local/lib/python3.10/dist-packages (from spacy<3.8.0,>=3.7.2->en-core-web-sm==3.7.1) (3.0.12)\n",
            "Requirement already satisfied: spacy-loggers<2.0.0,>=1.0.0 in /usr/local/lib/python3.10/dist-packages (from spacy<3.8.0,>=3.7.2->en-core-web-sm==3.7.1) (1.0.5)\n",
            "Requirement already satisfied: murmurhash<1.1.0,>=0.28.0 in /usr/local/lib/python3.10/dist-packages (from spacy<3.8.0,>=3.7.2->en-core-web-sm==3.7.1) (1.0.10)\n",
            "Requirement already satisfied: cymem<2.1.0,>=2.0.2 in /usr/local/lib/python3.10/dist-packages (from spacy<3.8.0,>=3.7.2->en-core-web-sm==3.7.1) (2.0.8)\n",
            "Requirement already satisfied: preshed<3.1.0,>=3.0.2 in /usr/local/lib/python3.10/dist-packages (from spacy<3.8.0,>=3.7.2->en-core-web-sm==3.7.1) (3.0.9)\n",
            "Requirement already satisfied: thinc<8.3.0,>=8.2.2 in /usr/local/lib/python3.10/dist-packages (from spacy<3.8.0,>=3.7.2->en-core-web-sm==3.7.1) (8.2.3)\n",
            "Requirement already satisfied: wasabi<1.2.0,>=0.9.1 in /usr/local/lib/python3.10/dist-packages (from spacy<3.8.0,>=3.7.2->en-core-web-sm==3.7.1) (1.1.2)\n",
            "Requirement already satisfied: srsly<3.0.0,>=2.4.3 in /usr/local/lib/python3.10/dist-packages (from spacy<3.8.0,>=3.7.2->en-core-web-sm==3.7.1) (2.4.8)\n",
            "Requirement already satisfied: catalogue<2.1.0,>=2.0.6 in /usr/local/lib/python3.10/dist-packages (from spacy<3.8.0,>=3.7.2->en-core-web-sm==3.7.1) (2.0.10)\n",
            "Requirement already satisfied: weasel<0.4.0,>=0.1.0 in /usr/local/lib/python3.10/dist-packages (from spacy<3.8.0,>=3.7.2->en-core-web-sm==3.7.1) (0.3.4)\n",
            "Requirement already satisfied: typer<0.10.0,>=0.3.0 in /usr/local/lib/python3.10/dist-packages (from spacy<3.8.0,>=3.7.2->en-core-web-sm==3.7.1) (0.9.4)\n",
            "Requirement already satisfied: smart-open<7.0.0,>=5.2.1 in /usr/local/lib/python3.10/dist-packages (from spacy<3.8.0,>=3.7.2->en-core-web-sm==3.7.1) (6.4.0)\n",
            "Requirement already satisfied: tqdm<5.0.0,>=4.38.0 in /usr/local/lib/python3.10/dist-packages (from spacy<3.8.0,>=3.7.2->en-core-web-sm==3.7.1) (4.66.2)\n",
            "Requirement already satisfied: requests<3.0.0,>=2.13.0 in /usr/local/lib/python3.10/dist-packages (from spacy<3.8.0,>=3.7.2->en-core-web-sm==3.7.1) (2.31.0)\n",
            "Requirement already satisfied: pydantic!=1.8,!=1.8.1,<3.0.0,>=1.7.4 in /usr/local/lib/python3.10/dist-packages (from spacy<3.8.0,>=3.7.2->en-core-web-sm==3.7.1) (2.6.4)\n",
            "Requirement already satisfied: jinja2 in /usr/local/lib/python3.10/dist-packages (from spacy<3.8.0,>=3.7.2->en-core-web-sm==3.7.1) (3.1.3)\n",
            "Requirement already satisfied: setuptools in /usr/local/lib/python3.10/dist-packages (from spacy<3.8.0,>=3.7.2->en-core-web-sm==3.7.1) (67.7.2)\n",
            "Requirement already satisfied: packaging>=20.0 in /usr/local/lib/python3.10/dist-packages (from spacy<3.8.0,>=3.7.2->en-core-web-sm==3.7.1) (24.0)\n",
            "Requirement already satisfied: langcodes<4.0.0,>=3.2.0 in /usr/local/lib/python3.10/dist-packages (from spacy<3.8.0,>=3.7.2->en-core-web-sm==3.7.1) (3.3.0)\n",
            "Requirement already satisfied: numpy>=1.19.0 in /usr/local/lib/python3.10/dist-packages (from spacy<3.8.0,>=3.7.2->en-core-web-sm==3.7.1) (1.25.2)\n",
            "Requirement already satisfied: annotated-types>=0.4.0 in /usr/local/lib/python3.10/dist-packages (from pydantic!=1.8,!=1.8.1,<3.0.0,>=1.7.4->spacy<3.8.0,>=3.7.2->en-core-web-sm==3.7.1) (0.6.0)\n",
            "Requirement already satisfied: pydantic-core==2.16.3 in /usr/local/lib/python3.10/dist-packages (from pydantic!=1.8,!=1.8.1,<3.0.0,>=1.7.4->spacy<3.8.0,>=3.7.2->en-core-web-sm==3.7.1) (2.16.3)\n",
            "Requirement already satisfied: typing-extensions>=4.6.1 in /usr/local/lib/python3.10/dist-packages (from pydantic!=1.8,!=1.8.1,<3.0.0,>=1.7.4->spacy<3.8.0,>=3.7.2->en-core-web-sm==3.7.1) (4.10.0)\n",
            "Requirement already satisfied: charset-normalizer<4,>=2 in /usr/local/lib/python3.10/dist-packages (from requests<3.0.0,>=2.13.0->spacy<3.8.0,>=3.7.2->en-core-web-sm==3.7.1) (3.3.2)\n",
            "Requirement already satisfied: idna<4,>=2.5 in /usr/local/lib/python3.10/dist-packages (from requests<3.0.0,>=2.13.0->spacy<3.8.0,>=3.7.2->en-core-web-sm==3.7.1) (3.6)\n",
            "Requirement already satisfied: urllib3<3,>=1.21.1 in /usr/local/lib/python3.10/dist-packages (from requests<3.0.0,>=2.13.0->spacy<3.8.0,>=3.7.2->en-core-web-sm==3.7.1) (2.0.7)\n",
            "Requirement already satisfied: certifi>=2017.4.17 in /usr/local/lib/python3.10/dist-packages (from requests<3.0.0,>=2.13.0->spacy<3.8.0,>=3.7.2->en-core-web-sm==3.7.1) (2024.2.2)\n",
            "Requirement already satisfied: blis<0.8.0,>=0.7.8 in /usr/local/lib/python3.10/dist-packages (from thinc<8.3.0,>=8.2.2->spacy<3.8.0,>=3.7.2->en-core-web-sm==3.7.1) (0.7.11)\n",
            "Requirement already satisfied: confection<1.0.0,>=0.0.1 in /usr/local/lib/python3.10/dist-packages (from thinc<8.3.0,>=8.2.2->spacy<3.8.0,>=3.7.2->en-core-web-sm==3.7.1) (0.1.4)\n",
            "Requirement already satisfied: click<9.0.0,>=7.1.1 in /usr/local/lib/python3.10/dist-packages (from typer<0.10.0,>=0.3.0->spacy<3.8.0,>=3.7.2->en-core-web-sm==3.7.1) (8.1.7)\n",
            "Requirement already satisfied: cloudpathlib<0.17.0,>=0.7.0 in /usr/local/lib/python3.10/dist-packages (from weasel<0.4.0,>=0.1.0->spacy<3.8.0,>=3.7.2->en-core-web-sm==3.7.1) (0.16.0)\n",
            "Requirement already satisfied: MarkupSafe>=2.0 in /usr/local/lib/python3.10/dist-packages (from jinja2->spacy<3.8.0,>=3.7.2->en-core-web-sm==3.7.1) (2.1.5)\n",
            "\u001b[38;5;2m✔ Download and installation successful\u001b[0m\n",
            "You can now load the package via spacy.load('en_core_web_sm')\n",
            "\u001b[38;5;3m⚠ Restart to reload dependencies\u001b[0m\n",
            "If you are in a Jupyter or Colab notebook, you may need to restart Python in\n",
            "order to load all the package's dependencies. You can do this by selecting the\n",
            "'Restart kernel' or 'Restart runtime' option.\n"
          ]
        }
      ],
      "source": [
        "!python -m spacy download en_core_web_sm"
      ]
    },
    {
      "cell_type": "code",
      "execution_count": 10,
      "id": "d43bfba9-35fa-4aac-987c-c0b56afa8bdc",
      "metadata": {
        "id": "d43bfba9-35fa-4aac-987c-c0b56afa8bdc"
      },
      "outputs": [],
      "source": [
        "df_reclamations=pd.read_excel(\"/content/Rec_kenza.xlsx\")"
      ]
    },
    {
      "cell_type": "code",
      "execution_count": 11,
      "id": "4547382c-ba77-459f-b82d-557ffb56af89",
      "metadata": {
        "scrolled": true,
        "colab": {
          "base_uri": "https://localhost:8080/",
          "height": 550
        },
        "id": "4547382c-ba77-459f-b82d-557ffb56af89",
        "outputId": "ebc2edf9-dcde-41bb-d6b9-72391f2710ca"
      },
      "outputs": [
        {
          "output_type": "execute_result",
          "data": {
            "text/plain": [
              "         REFERENCE     DATREC DAT_ENRGREC  NUMCPT  MAIL_CLT  MAIL_ENV_CLT  \\\n",
              "0  R/00898474/2024 2024-01-01  2024-01-02     NaN       NaN           NaN   \n",
              "1  R/00898546/2024 2024-01-02  2024-01-02     NaN       NaN           NaN   \n",
              "2  R/00898578/2024 2024-01-02  2024-01-02     NaN       NaN           NaN   \n",
              "3  R/00905876/2024 2024-01-02  2024-02-01     NaN       NaN           NaN   \n",
              "4  R/00898673/2024 2024-01-02  2024-01-02     NaN       NaN           NaN   \n",
              "\n",
              "  FICHIERJOINT  UTILISATEUR   SUPPORT             DATOPER  ...  \\\n",
              "0          NaN         2074  SITE WEB 2024-01-02 09:49:03  ...   \n",
              "1          NaN         2098      MAIL 2024-01-02 11:42:25  ...   \n",
              "2     4937.pdf         2021  COURRIER 2024-01-02 14:23:46  ...   \n",
              "3   CH2000.pdf         2837    VISITE 2024-02-01 10:14:30  ...   \n",
              "4          NaN         4724    VISITE 2024-01-02 15:34:55  ...   \n",
              "\n",
              "                                         DESCRIPTION  \\\n",
              "0  BONJOUR,_x000D_\\n_x000D_\\nJE N ARRIVE PAS À ME...   \n",
              "1  BONJOUR_x000D_\\n_x000D_\\nAPUREMENT COMPTE CART...   \n",
              "2  ANNULATION ENCAISSEMENT CHQ VERS SUR CPTE EN D...   \n",
              "3  DEBLOC AGE PROVISION CH REJETE PAP _x000D_\\n_x...   \n",
              "4            AC2 REAL TIME BLOQUÉ MERCI D'INTERVENIR   \n",
              "\n",
              "                                       MOTIF_CLOTURE  TYPE_RECLAM  \\\n",
              "0   NOUS VOUS INFORMONS QUE VOTRE DEMANDE SOUS LA...  RECLAMATION   \n",
              "1  OD valide au niveau DELTA. Reclamation traitee...  RECLAMATION   \n",
              "2  OD valide au niveau DELTA. Reclamation traitee...  RECLAMATION   \n",
              "3  OD valide au niveau DELTA. Reclamation traitee...  RECLAMATION   \n",
              "4   NOUS VOUS INFORMONS QUE VOTRE DEMANDE SOUS LA...  RECLAMATION   \n",
              "\n",
              "             DATTRAIT DATE_CLOTURE                   SORT  \\\n",
              "0 2024-01-04 10:35:32   2024-01-04  Validation traitement   \n",
              "1 2024-01-02 13:34:58   2024-01-03  Validation traitement   \n",
              "2 2024-01-02 14:31:21   2024-01-03  Validation traitement   \n",
              "3 2024-02-01 14:54:58   2024-02-02  Validation traitement   \n",
              "4 2024-01-04 14:05:55   2024-01-04  Validation traitement   \n",
              "\n",
              "                                    DESCRIPTION_SORT MOTIF_CLO  \\\n",
              "0  POUR OBTENIR LE NOUVEAU MOT DE PASSE, NOUS VOU...       NaN   \n",
              "1                                                 nf       NaN   \n",
              "2            od validée merci de clôturer le compte        NaN   \n",
              "3                                                 nf       NaN   \n",
              "4  Abonnement débloqué. Un nouveau mot de passe v...       NaN   \n",
              "\n",
              "      SEGMENT_NMR SPECIFICITE  \n",
              "0  NOUVEAU CLIENT           4  \n",
              "1   S1 EXCELLENCE   PRIVILEGE  \n",
              "2  NOUVEAU CLIENT           4  \n",
              "3       S4 AVENIR         NaN  \n",
              "4      S2 PREMIUM    PRESTIGE  \n",
              "\n",
              "[5 rows x 24 columns]"
            ],
            "text/html": [
              "\n",
              "  <div id=\"df-1f3e0382-0e5e-41a5-8f52-0cf49c64ef0a\" class=\"colab-df-container\">\n",
              "    <div>\n",
              "<style scoped>\n",
              "    .dataframe tbody tr th:only-of-type {\n",
              "        vertical-align: middle;\n",
              "    }\n",
              "\n",
              "    .dataframe tbody tr th {\n",
              "        vertical-align: top;\n",
              "    }\n",
              "\n",
              "    .dataframe thead th {\n",
              "        text-align: right;\n",
              "    }\n",
              "</style>\n",
              "<table border=\"1\" class=\"dataframe\">\n",
              "  <thead>\n",
              "    <tr style=\"text-align: right;\">\n",
              "      <th></th>\n",
              "      <th>REFERENCE</th>\n",
              "      <th>DATREC</th>\n",
              "      <th>DAT_ENRGREC</th>\n",
              "      <th>NUMCPT</th>\n",
              "      <th>MAIL_CLT</th>\n",
              "      <th>MAIL_ENV_CLT</th>\n",
              "      <th>FICHIERJOINT</th>\n",
              "      <th>UTILISATEUR</th>\n",
              "      <th>SUPPORT</th>\n",
              "      <th>DATOPER</th>\n",
              "      <th>...</th>\n",
              "      <th>DESCRIPTION</th>\n",
              "      <th>MOTIF_CLOTURE</th>\n",
              "      <th>TYPE_RECLAM</th>\n",
              "      <th>DATTRAIT</th>\n",
              "      <th>DATE_CLOTURE</th>\n",
              "      <th>SORT</th>\n",
              "      <th>DESCRIPTION_SORT</th>\n",
              "      <th>MOTIF_CLO</th>\n",
              "      <th>SEGMENT_NMR</th>\n",
              "      <th>SPECIFICITE</th>\n",
              "    </tr>\n",
              "  </thead>\n",
              "  <tbody>\n",
              "    <tr>\n",
              "      <th>0</th>\n",
              "      <td>R/00898474/2024</td>\n",
              "      <td>2024-01-01</td>\n",
              "      <td>2024-01-02</td>\n",
              "      <td>NaN</td>\n",
              "      <td>NaN</td>\n",
              "      <td>NaN</td>\n",
              "      <td>NaN</td>\n",
              "      <td>2074</td>\n",
              "      <td>SITE WEB</td>\n",
              "      <td>2024-01-02 09:49:03</td>\n",
              "      <td>...</td>\n",
              "      <td>BONJOUR,_x000D_\\n_x000D_\\nJE N ARRIVE PAS À ME...</td>\n",
              "      <td>NOUS VOUS INFORMONS QUE VOTRE DEMANDE SOUS LA...</td>\n",
              "      <td>RECLAMATION</td>\n",
              "      <td>2024-01-04 10:35:32</td>\n",
              "      <td>2024-01-04</td>\n",
              "      <td>Validation traitement</td>\n",
              "      <td>POUR OBTENIR LE NOUVEAU MOT DE PASSE, NOUS VOU...</td>\n",
              "      <td>NaN</td>\n",
              "      <td>NOUVEAU CLIENT</td>\n",
              "      <td>4</td>\n",
              "    </tr>\n",
              "    <tr>\n",
              "      <th>1</th>\n",
              "      <td>R/00898546/2024</td>\n",
              "      <td>2024-01-02</td>\n",
              "      <td>2024-01-02</td>\n",
              "      <td>NaN</td>\n",
              "      <td>NaN</td>\n",
              "      <td>NaN</td>\n",
              "      <td>NaN</td>\n",
              "      <td>2098</td>\n",
              "      <td>MAIL</td>\n",
              "      <td>2024-01-02 11:42:25</td>\n",
              "      <td>...</td>\n",
              "      <td>BONJOUR_x000D_\\n_x000D_\\nAPUREMENT COMPTE CART...</td>\n",
              "      <td>OD valide au niveau DELTA. Reclamation traitee...</td>\n",
              "      <td>RECLAMATION</td>\n",
              "      <td>2024-01-02 13:34:58</td>\n",
              "      <td>2024-01-03</td>\n",
              "      <td>Validation traitement</td>\n",
              "      <td>nf</td>\n",
              "      <td>NaN</td>\n",
              "      <td>S1 EXCELLENCE</td>\n",
              "      <td>PRIVILEGE</td>\n",
              "    </tr>\n",
              "    <tr>\n",
              "      <th>2</th>\n",
              "      <td>R/00898578/2024</td>\n",
              "      <td>2024-01-02</td>\n",
              "      <td>2024-01-02</td>\n",
              "      <td>NaN</td>\n",
              "      <td>NaN</td>\n",
              "      <td>NaN</td>\n",
              "      <td>4937.pdf</td>\n",
              "      <td>2021</td>\n",
              "      <td>COURRIER</td>\n",
              "      <td>2024-01-02 14:23:46</td>\n",
              "      <td>...</td>\n",
              "      <td>ANNULATION ENCAISSEMENT CHQ VERS SUR CPTE EN D...</td>\n",
              "      <td>OD valide au niveau DELTA. Reclamation traitee...</td>\n",
              "      <td>RECLAMATION</td>\n",
              "      <td>2024-01-02 14:31:21</td>\n",
              "      <td>2024-01-03</td>\n",
              "      <td>Validation traitement</td>\n",
              "      <td>od validée merci de clôturer le compte</td>\n",
              "      <td>NaN</td>\n",
              "      <td>NOUVEAU CLIENT</td>\n",
              "      <td>4</td>\n",
              "    </tr>\n",
              "    <tr>\n",
              "      <th>3</th>\n",
              "      <td>R/00905876/2024</td>\n",
              "      <td>2024-01-02</td>\n",
              "      <td>2024-02-01</td>\n",
              "      <td>NaN</td>\n",
              "      <td>NaN</td>\n",
              "      <td>NaN</td>\n",
              "      <td>CH2000.pdf</td>\n",
              "      <td>2837</td>\n",
              "      <td>VISITE</td>\n",
              "      <td>2024-02-01 10:14:30</td>\n",
              "      <td>...</td>\n",
              "      <td>DEBLOC AGE PROVISION CH REJETE PAP _x000D_\\n_x...</td>\n",
              "      <td>OD valide au niveau DELTA. Reclamation traitee...</td>\n",
              "      <td>RECLAMATION</td>\n",
              "      <td>2024-02-01 14:54:58</td>\n",
              "      <td>2024-02-02</td>\n",
              "      <td>Validation traitement</td>\n",
              "      <td>nf</td>\n",
              "      <td>NaN</td>\n",
              "      <td>S4 AVENIR</td>\n",
              "      <td>NaN</td>\n",
              "    </tr>\n",
              "    <tr>\n",
              "      <th>4</th>\n",
              "      <td>R/00898673/2024</td>\n",
              "      <td>2024-01-02</td>\n",
              "      <td>2024-01-02</td>\n",
              "      <td>NaN</td>\n",
              "      <td>NaN</td>\n",
              "      <td>NaN</td>\n",
              "      <td>NaN</td>\n",
              "      <td>4724</td>\n",
              "      <td>VISITE</td>\n",
              "      <td>2024-01-02 15:34:55</td>\n",
              "      <td>...</td>\n",
              "      <td>AC2 REAL TIME BLOQUÉ MERCI D'INTERVENIR</td>\n",
              "      <td>NOUS VOUS INFORMONS QUE VOTRE DEMANDE SOUS LA...</td>\n",
              "      <td>RECLAMATION</td>\n",
              "      <td>2024-01-04 14:05:55</td>\n",
              "      <td>2024-01-04</td>\n",
              "      <td>Validation traitement</td>\n",
              "      <td>Abonnement débloqué. Un nouveau mot de passe v...</td>\n",
              "      <td>NaN</td>\n",
              "      <td>S2 PREMIUM</td>\n",
              "      <td>PRESTIGE</td>\n",
              "    </tr>\n",
              "  </tbody>\n",
              "</table>\n",
              "<p>5 rows × 24 columns</p>\n",
              "</div>\n",
              "    <div class=\"colab-df-buttons\">\n",
              "\n",
              "  <div class=\"colab-df-container\">\n",
              "    <button class=\"colab-df-convert\" onclick=\"convertToInteractive('df-1f3e0382-0e5e-41a5-8f52-0cf49c64ef0a')\"\n",
              "            title=\"Convert this dataframe to an interactive table.\"\n",
              "            style=\"display:none;\">\n",
              "\n",
              "  <svg xmlns=\"http://www.w3.org/2000/svg\" height=\"24px\" viewBox=\"0 -960 960 960\">\n",
              "    <path d=\"M120-120v-720h720v720H120Zm60-500h600v-160H180v160Zm220 220h160v-160H400v160Zm0 220h160v-160H400v160ZM180-400h160v-160H180v160Zm440 0h160v-160H620v160ZM180-180h160v-160H180v160Zm440 0h160v-160H620v160Z\"/>\n",
              "  </svg>\n",
              "    </button>\n",
              "\n",
              "  <style>\n",
              "    .colab-df-container {\n",
              "      display:flex;\n",
              "      gap: 12px;\n",
              "    }\n",
              "\n",
              "    .colab-df-convert {\n",
              "      background-color: #E8F0FE;\n",
              "      border: none;\n",
              "      border-radius: 50%;\n",
              "      cursor: pointer;\n",
              "      display: none;\n",
              "      fill: #1967D2;\n",
              "      height: 32px;\n",
              "      padding: 0 0 0 0;\n",
              "      width: 32px;\n",
              "    }\n",
              "\n",
              "    .colab-df-convert:hover {\n",
              "      background-color: #E2EBFA;\n",
              "      box-shadow: 0px 1px 2px rgba(60, 64, 67, 0.3), 0px 1px 3px 1px rgba(60, 64, 67, 0.15);\n",
              "      fill: #174EA6;\n",
              "    }\n",
              "\n",
              "    .colab-df-buttons div {\n",
              "      margin-bottom: 4px;\n",
              "    }\n",
              "\n",
              "    [theme=dark] .colab-df-convert {\n",
              "      background-color: #3B4455;\n",
              "      fill: #D2E3FC;\n",
              "    }\n",
              "\n",
              "    [theme=dark] .colab-df-convert:hover {\n",
              "      background-color: #434B5C;\n",
              "      box-shadow: 0px 1px 3px 1px rgba(0, 0, 0, 0.15);\n",
              "      filter: drop-shadow(0px 1px 2px rgba(0, 0, 0, 0.3));\n",
              "      fill: #FFFFFF;\n",
              "    }\n",
              "  </style>\n",
              "\n",
              "    <script>\n",
              "      const buttonEl =\n",
              "        document.querySelector('#df-1f3e0382-0e5e-41a5-8f52-0cf49c64ef0a button.colab-df-convert');\n",
              "      buttonEl.style.display =\n",
              "        google.colab.kernel.accessAllowed ? 'block' : 'none';\n",
              "\n",
              "      async function convertToInteractive(key) {\n",
              "        const element = document.querySelector('#df-1f3e0382-0e5e-41a5-8f52-0cf49c64ef0a');\n",
              "        const dataTable =\n",
              "          await google.colab.kernel.invokeFunction('convertToInteractive',\n",
              "                                                    [key], {});\n",
              "        if (!dataTable) return;\n",
              "\n",
              "        const docLinkHtml = 'Like what you see? Visit the ' +\n",
              "          '<a target=\"_blank\" href=https://colab.research.google.com/notebooks/data_table.ipynb>data table notebook</a>'\n",
              "          + ' to learn more about interactive tables.';\n",
              "        element.innerHTML = '';\n",
              "        dataTable['output_type'] = 'display_data';\n",
              "        await google.colab.output.renderOutput(dataTable, element);\n",
              "        const docLink = document.createElement('div');\n",
              "        docLink.innerHTML = docLinkHtml;\n",
              "        element.appendChild(docLink);\n",
              "      }\n",
              "    </script>\n",
              "  </div>\n",
              "\n",
              "\n",
              "<div id=\"df-e622bcf6-1750-4af8-8c9d-df19fab063fc\">\n",
              "  <button class=\"colab-df-quickchart\" onclick=\"quickchart('df-e622bcf6-1750-4af8-8c9d-df19fab063fc')\"\n",
              "            title=\"Suggest charts\"\n",
              "            style=\"display:none;\">\n",
              "\n",
              "<svg xmlns=\"http://www.w3.org/2000/svg\" height=\"24px\"viewBox=\"0 0 24 24\"\n",
              "     width=\"24px\">\n",
              "    <g>\n",
              "        <path d=\"M19 3H5c-1.1 0-2 .9-2 2v14c0 1.1.9 2 2 2h14c1.1 0 2-.9 2-2V5c0-1.1-.9-2-2-2zM9 17H7v-7h2v7zm4 0h-2V7h2v10zm4 0h-2v-4h2v4z\"/>\n",
              "    </g>\n",
              "</svg>\n",
              "  </button>\n",
              "\n",
              "<style>\n",
              "  .colab-df-quickchart {\n",
              "      --bg-color: #E8F0FE;\n",
              "      --fill-color: #1967D2;\n",
              "      --hover-bg-color: #E2EBFA;\n",
              "      --hover-fill-color: #174EA6;\n",
              "      --disabled-fill-color: #AAA;\n",
              "      --disabled-bg-color: #DDD;\n",
              "  }\n",
              "\n",
              "  [theme=dark] .colab-df-quickchart {\n",
              "      --bg-color: #3B4455;\n",
              "      --fill-color: #D2E3FC;\n",
              "      --hover-bg-color: #434B5C;\n",
              "      --hover-fill-color: #FFFFFF;\n",
              "      --disabled-bg-color: #3B4455;\n",
              "      --disabled-fill-color: #666;\n",
              "  }\n",
              "\n",
              "  .colab-df-quickchart {\n",
              "    background-color: var(--bg-color);\n",
              "    border: none;\n",
              "    border-radius: 50%;\n",
              "    cursor: pointer;\n",
              "    display: none;\n",
              "    fill: var(--fill-color);\n",
              "    height: 32px;\n",
              "    padding: 0;\n",
              "    width: 32px;\n",
              "  }\n",
              "\n",
              "  .colab-df-quickchart:hover {\n",
              "    background-color: var(--hover-bg-color);\n",
              "    box-shadow: 0 1px 2px rgba(60, 64, 67, 0.3), 0 1px 3px 1px rgba(60, 64, 67, 0.15);\n",
              "    fill: var(--button-hover-fill-color);\n",
              "  }\n",
              "\n",
              "  .colab-df-quickchart-complete:disabled,\n",
              "  .colab-df-quickchart-complete:disabled:hover {\n",
              "    background-color: var(--disabled-bg-color);\n",
              "    fill: var(--disabled-fill-color);\n",
              "    box-shadow: none;\n",
              "  }\n",
              "\n",
              "  .colab-df-spinner {\n",
              "    border: 2px solid var(--fill-color);\n",
              "    border-color: transparent;\n",
              "    border-bottom-color: var(--fill-color);\n",
              "    animation:\n",
              "      spin 1s steps(1) infinite;\n",
              "  }\n",
              "\n",
              "  @keyframes spin {\n",
              "    0% {\n",
              "      border-color: transparent;\n",
              "      border-bottom-color: var(--fill-color);\n",
              "      border-left-color: var(--fill-color);\n",
              "    }\n",
              "    20% {\n",
              "      border-color: transparent;\n",
              "      border-left-color: var(--fill-color);\n",
              "      border-top-color: var(--fill-color);\n",
              "    }\n",
              "    30% {\n",
              "      border-color: transparent;\n",
              "      border-left-color: var(--fill-color);\n",
              "      border-top-color: var(--fill-color);\n",
              "      border-right-color: var(--fill-color);\n",
              "    }\n",
              "    40% {\n",
              "      border-color: transparent;\n",
              "      border-right-color: var(--fill-color);\n",
              "      border-top-color: var(--fill-color);\n",
              "    }\n",
              "    60% {\n",
              "      border-color: transparent;\n",
              "      border-right-color: var(--fill-color);\n",
              "    }\n",
              "    80% {\n",
              "      border-color: transparent;\n",
              "      border-right-color: var(--fill-color);\n",
              "      border-bottom-color: var(--fill-color);\n",
              "    }\n",
              "    90% {\n",
              "      border-color: transparent;\n",
              "      border-bottom-color: var(--fill-color);\n",
              "    }\n",
              "  }\n",
              "</style>\n",
              "\n",
              "  <script>\n",
              "    async function quickchart(key) {\n",
              "      const quickchartButtonEl =\n",
              "        document.querySelector('#' + key + ' button');\n",
              "      quickchartButtonEl.disabled = true;  // To prevent multiple clicks.\n",
              "      quickchartButtonEl.classList.add('colab-df-spinner');\n",
              "      try {\n",
              "        const charts = await google.colab.kernel.invokeFunction(\n",
              "            'suggestCharts', [key], {});\n",
              "      } catch (error) {\n",
              "        console.error('Error during call to suggestCharts:', error);\n",
              "      }\n",
              "      quickchartButtonEl.classList.remove('colab-df-spinner');\n",
              "      quickchartButtonEl.classList.add('colab-df-quickchart-complete');\n",
              "    }\n",
              "    (() => {\n",
              "      let quickchartButtonEl =\n",
              "        document.querySelector('#df-e622bcf6-1750-4af8-8c9d-df19fab063fc button');\n",
              "      quickchartButtonEl.style.display =\n",
              "        google.colab.kernel.accessAllowed ? 'block' : 'none';\n",
              "    })();\n",
              "  </script>\n",
              "</div>\n",
              "\n",
              "    </div>\n",
              "  </div>\n"
            ],
            "application/vnd.google.colaboratory.intrinsic+json": {
              "type": "dataframe",
              "variable_name": "df_reclamations"
            }
          },
          "metadata": {},
          "execution_count": 11
        }
      ],
      "source": [
        "df_reclamations.head()"
      ]
    },
    {
      "cell_type": "code",
      "execution_count": 12,
      "id": "a586d836-f9a1-4a47-bccb-45e41bae87dc",
      "metadata": {
        "id": "a586d836-f9a1-4a47-bccb-45e41bae87dc"
      },
      "outputs": [],
      "source": [
        "df_clients = pd.read_csv(\"/content/table_client.txt\",delimiter = ';')\n",
        "# Éliminer les lignes qui n'ont pas d'ID\n",
        "df_clients1 = df_clients.dropna(subset=['Id_client'])\n",
        "\n",
        "# Réinitialiser l'index après avoir supprimé des lignes\n",
        "df_clients2 = df_clients1.reset_index(drop=True)\n",
        "\n",
        "df_clients_VF = df_clients2.sample(n=3500)"
      ]
    },
    {
      "cell_type": "code",
      "execution_count": 13,
      "id": "e3a7fa4d-71d2-4fe2-be44-3ec45f9d4677",
      "metadata": {
        "colab": {
          "base_uri": "https://localhost:8080/",
          "height": 1000
        },
        "id": "e3a7fa4d-71d2-4fe2-be44-3ec45f9d4677",
        "outputId": "3795012d-fad8-4367-8dc8-f75a7e5357bd"
      },
      "outputs": [
        {
          "output_type": "execute_result",
          "data": {
            "text/plain": [
              "       Id_client     Tranche_age   Sexe Nationalite Situation_familiale  \\\n",
              "18656    18657.0       46-55 ans  Homme  Tunisienne            Marié(e)   \n",
              "21020    21021.0       36-45 ans  Femme  Tunisienne            Marié(e)   \n",
              "11952    11953.0       46-55 ans  Homme  Tunisienne         Célibataire   \n",
              "3076      3077.0       36-45 ans  Femme  Tunisienne         Célibataire   \n",
              "782        783.0  56 ans et plus  Femme  Tunisienne          Divorcé(e)   \n",
              "13370    13371.0       26-35 ans  Homme  Tunisienne            Marié(e)   \n",
              "3683      3684.0       26-35 ans  Homme  Tunisienne          Divorcé(e)   \n",
              "17347    17348.0  56 ans et plus  Homme  Tunisienne            Veuf(ve)   \n",
              "20295    20296.0       36-45 ans  Homme  Tunisienne          Divorcé(e)   \n",
              "11007    11008.0       18-25 ans  Femme  Tunisienne         Célibataire   \n",
              "13548    13549.0       46-55 ans  Femme  Tunisienne         Célibataire   \n",
              "2361      2362.0       18-25 ans  Femme  Tunisienne            Marié(e)   \n",
              "16697    16698.0       36-45 ans  Homme  Tunisienne         Célibataire   \n",
              "1766      1767.0       46-55 ans  Femme  Tunisienne            Veuf(ve)   \n",
              "19228    19229.0  56 ans et plus  Homme  Tunisienne         Célibataire   \n",
              "20594    20595.0       36-45 ans  Femme  Tunisienne          Divorcé(e)   \n",
              "15161    15162.0       46-55 ans  Femme  Tunisienne          Divorcé(e)   \n",
              "22358    22359.0       46-55 ans  Femme  Tunisienne            Marié(e)   \n",
              "5606      5607.0  56 ans et plus  Femme  Tunisienne            Veuf(ve)   \n",
              "13991    13992.0       46-55 ans  Homme  Tunisienne            Marié(e)   \n",
              "7270      7271.0       36-45 ans  Homme  Tunisienne          Divorcé(e)   \n",
              "22555    22556.0       36-45 ans  Homme  Tunisienne         Célibataire   \n",
              "3342      3343.0       46-55 ans  Homme  Tunisienne          Divorcé(e)   \n",
              "9758      9759.0       26-35 ans  Femme  Tunisienne          Divorcé(e)   \n",
              "19433    19434.0       36-45 ans  Femme  Tunisienne            Veuf(ve)   \n",
              "12181    12182.0       18-25 ans  Femme  Tunisienne            Marié(e)   \n",
              "14903    14904.0       36-45 ans  Homme  Tunisienne          Divorcé(e)   \n",
              "928        929.0       26-35 ans  Homme  Tunisienne          Divorcé(e)   \n",
              "4414      4415.0       36-45 ans  Femme  Tunisienne            Veuf(ve)   \n",
              "16354    16355.0  56 ans et plus  Femme  Tunisienne         Célibataire   \n",
              "2380      2381.0       26-35 ans  Femme  Tunisienne            Marié(e)   \n",
              "15285    15286.0       18-25 ans  Femme  Tunisienne            Veuf(ve)   \n",
              "8184      8185.0       18-25 ans  Femme  Tunisienne          Divorcé(e)   \n",
              "12695    12696.0       46-55 ans  Homme  Tunisienne            Veuf(ve)   \n",
              "21370    21371.0       18-25 ans  Homme  Tunisienne          Divorcé(e)   \n",
              "1435      1436.0  56 ans et plus  Femme  Tunisienne         Célibataire   \n",
              "15278    15279.0  56 ans et plus  Femme  Tunisienne         Célibataire   \n",
              "9852      9853.0       36-45 ans  Homme  Tunisienne            Veuf(ve)   \n",
              "3922      3923.0       36-45 ans  Homme  Tunisienne            Veuf(ve)   \n",
              "10192    10193.0       18-25 ans  Homme  Tunisienne         Célibataire   \n",
              "13439    13440.0  56 ans et plus  Homme  Tunisienne            Marié(e)   \n",
              "10815    10816.0       46-55 ans  Homme  Tunisienne          Divorcé(e)   \n",
              "19022    19023.0       36-45 ans  Femme  Tunisienne            Veuf(ve)   \n",
              "8713      8714.0  56 ans et plus  Homme  Tunisienne            Veuf(ve)   \n",
              "19880    19881.0       26-35 ans  Femme  Tunisienne          Divorcé(e)   \n",
              "13087    13088.0  56 ans et plus  Femme  Tunisienne         Célibataire   \n",
              "5255      5256.0       36-45 ans  Femme  Tunisienne         Célibataire   \n",
              "12087    12088.0  56 ans et plus  Femme  Tunisienne         Célibataire   \n",
              "109        110.0       26-35 ans  Homme  Tunisienne            Marié(e)   \n",
              "8284      8285.0       46-55 ans  Femme  Tunisienne            Veuf(ve)   \n",
              "\n",
              "                             CSP                  Secteur_activite  \\\n",
              "18656                    Ouvrier           Administration publique   \n",
              "21020               Cadre moyens         Intermediation financière   \n",
              "11952  Commerçants - Habillement                   Agroalimentaire   \n",
              "3076                    Retraité                        Automobile   \n",
              "782                 Cadre moyens                            Police   \n",
              "13370      Professeur secondaire                            Police   \n",
              "3683                     Employé           Activites hospitalières   \n",
              "17347      Professeur secondaire    Commerce de gros d'habillement   \n",
              "20295                    Ouvrier            Boulangerie/Patisserie   \n",
              "11007        Professeur primaire        Extraction de petrole brut   \n",
              "13548        Professeur primaire                   Agroalimentaire   \n",
              "2361                    Retraité                             Pêche   \n",
              "16697                Force armée           Activites hospitalières   \n",
              "1766                Cadre moyens                      Informatique   \n",
              "19228      Professeur secondaire                      Informatique   \n",
              "20594  Commerçants - Habillement  Commerce d'alimentation générale   \n",
              "15161                Force armée      Commerce de gros de boissons   \n",
              "22358      Professeur secondaire    Commerce de gros d'habillement   \n",
              "5606                    Retraité           Administration publique   \n",
              "13991                Force armée        Extraction de petrole brut   \n",
              "7270             Sans Profession              Services domestiques   \n",
              "22555         Sal.Pub Technicien           Administration publique   \n",
              "3342         Professeur primaire                      Informatique   \n",
              "9758                 Force armée                            Police   \n",
              "19433               Cadre moyens                            Police   \n",
              "12181        Professeur primaire                      Informatique   \n",
              "14903     Dirigeant d'entreprise               Services personnels   \n",
              "928                     Retraité      Commerce de gros de boissons   \n",
              "4414                Cadre moyens            Activites immobilières   \n",
              "16354                    Ouvrier  Commerce d'alimentation générale   \n",
              "2380          Sal.Pub Technicien    Commerce de gros d'habillement   \n",
              "15285   Profession intermédiaire                   Agroalimentaire   \n",
              "8184         Professeur primaire            Activites immobilières   \n",
              "12695      Professeur secondaire                      Informatique   \n",
              "21370     Dirigeant d'entreprise                   Agroalimentaire   \n",
              "1435                    Retraité                  Banque/Assurance   \n",
              "15278            Sans Profession  Commerce d'alimentation générale   \n",
              "9852   Commerçants - Habillement                             Pêche   \n",
              "3922                Cadre moyens                      Construction   \n",
              "10192   Profession intermédiaire                        Automobile   \n",
              "13439        Professeur primaire         Intermediation financière   \n",
              "10815            Sans Profession              Activites juridiques   \n",
              "19022  Commerçants - Habillement         Intermediation financière   \n",
              "8713                    Retraité                             Pêche   \n",
              "19880            Cadre supérieur                   Agroalimentaire   \n",
              "13087     Dirigeant d'entreprise                      Construction   \n",
              "5255                Cadre moyens                  Chimie/Pharmacie   \n",
              "12087                    Ouvrier                            Police   \n",
              "109              Sans Profession                      Construction   \n",
              "8284       Professeur secondaire        Extraction de petrole brut   \n",
              "\n",
              "                 Type_marche Type_personne      Ville  Code_postal     Pays  \\\n",
              "18656            Particulier      Physique   Zaghouan       1200.0  Tunisie   \n",
              "21020          Professionnel        Morale       Béja       1000.0  Tunisie   \n",
              "11952    Services personnels        Morale     Tozeur       2200.0  Tunisie   \n",
              "3076           Professionnel        Morale     Sousse       1200.0  Tunisie   \n",
              "782              Particulier      Physique   Kairouan       4000.0  Tunisie   \n",
              "13370  TPE PERSONNE PHYSIQUE        Morale      Gafsa       6000.0  Tunisie   \n",
              "3683     Services personnels        Morale     Kébili       2080.0  Tunisie   \n",
              "17347                    NaN           NaN        NaN          NaN      NaN   \n",
              "20295    Services personnels        Morale     Kébili       9000.0  Tunisie   \n",
              "11007    Services personnels        Morale     Mahdia       5000.0  Tunisie   \n",
              "13548    Services personnels        Morale      Gafsa       5100.0  Tunisie   \n",
              "2361           Professionnel      Physique    Siliana       3000.0  Tunisie   \n",
              "16697    Services personnels      Physique     Ariana       4100.0  Tunisie   \n",
              "1766             Particulier      Physique     Kébili       7000.0  Tunisie   \n",
              "19228          Professionnel        Morale      Gafsa       5100.0  Tunisie   \n",
              "20594          Professionnel        Morale     Sousse       8110.0  Tunisie   \n",
              "15161  TPE PERSONNE PHYSIQUE      Physique   Jendouba       3000.0  Tunisie   \n",
              "22358                    NaN           NaN        NaN          NaN      NaN   \n",
              "5606             Particulier      Physique   Jendouba       7000.0  Tunisie   \n",
              "13991          Professionnel      Physique      Gabès       2100.0  Tunisie   \n",
              "7270     Services personnels      Physique       Béja       6000.0  Tunisie   \n",
              "22555          Professionnel        Morale  Ben Arous       9000.0  Tunisie   \n",
              "3342                     TRE      Physique       Béja       4000.0  Tunisie   \n",
              "9758             Particulier      Physique   Monastir       4200.0  Tunisie   \n",
              "19433          Professionnel      Physique   Monastir       3200.0  Tunisie   \n",
              "12181            Particulier        Morale   Jendouba       3000.0  Tunisie   \n",
              "14903            Particulier      Physique    Bizerte       2080.0  Tunisie   \n",
              "928    TPE PERSONNE PHYSIQUE        Morale    Bizerte       5100.0  Tunisie   \n",
              "4414     Services personnels      Physique       Sfax       8110.0  Tunisie   \n",
              "16354                    TRE        Morale   Monastir       8110.0  Tunisie   \n",
              "2380                     NaN           NaN        NaN          NaN      NaN   \n",
              "15285    Services personnels      Physique   Monastir       8000.0  Tunisie   \n",
              "8184     Services personnels        Morale  Kasserine       2013.0  Tunisie   \n",
              "12695            Particulier      Physique     Mahdia       9000.0  Tunisie   \n",
              "21370                    TRE        Morale  Kasserine       6000.0  Tunisie   \n",
              "1435             Particulier        Morale       Béja       9000.0  Tunisie   \n",
              "15278  TPE PERSONNE PHYSIQUE        Morale   Zaghouan       4200.0  Tunisie   \n",
              "9852   TPE PERSONNE PHYSIQUE        Morale   Kairouan       2200.0  Tunisie   \n",
              "3922   TPE PERSONNE PHYSIQUE        Morale      Gabès       4000.0  Tunisie   \n",
              "10192                    TRE      Physique     Sousse       2200.0  Tunisie   \n",
              "13439            Particulier      Physique     Nabeul       1100.0  Tunisie   \n",
              "10815    Services personnels        Morale   Jendouba       9000.0  Tunisie   \n",
              "19022          Professionnel      Physique  Kasserine       4000.0  Tunisie   \n",
              "8713                     TRE      Physique   Monastir       3200.0  Tunisie   \n",
              "19880            Particulier        Morale    Bizerte       1000.0  Tunisie   \n",
              "13087    Services personnels        Morale     Tozeur       5000.0  Tunisie   \n",
              "5255                     TRE      Physique      Gabès       9000.0  Tunisie   \n",
              "12087            Particulier      Physique       Sfax       5000.0  Tunisie   \n",
              "109              Particulier        Morale  Ben Arous       3100.0  Tunisie   \n",
              "8284   TPE PERSONNE PHYSIQUE      Physique      Tunis       2013.0  Tunisie   \n",
              "\n",
              "      Statut_client  Agence_rattachement  \n",
              "18656      Prospect                  7.0  \n",
              "21020        Client                183.0  \n",
              "11952        Client                 99.0  \n",
              "3076       Prospect                217.0  \n",
              "782        Prospect                107.0  \n",
              "13370        Client                209.0  \n",
              "3683       Prospect                  6.0  \n",
              "17347           NaN                  NaN  \n",
              "20295        Client                 32.0  \n",
              "11007      Prospect                210.0  \n",
              "13548      Prospect                176.0  \n",
              "2361       Prospect                195.0  \n",
              "16697      Prospect                 15.0  \n",
              "1766         Client                127.0  \n",
              "19228      Prospect                 22.0  \n",
              "20594      Prospect                 66.0  \n",
              "15161        Client                176.0  \n",
              "22358           NaN                  NaN  \n",
              "5606       Prospect                 22.0  \n",
              "13991      Prospect                 22.0  \n",
              "7270       Prospect                 38.0  \n",
              "22555      Prospect                 12.0  \n",
              "3342       Prospect                 13.0  \n",
              "9758       Prospect                216.0  \n",
              "19433      Prospect                 94.0  \n",
              "12181        Client                 10.0  \n",
              "14903      Prospect                102.0  \n",
              "928        Prospect                 15.0  \n",
              "4414         Client                156.0  \n",
              "16354      Prospect                227.0  \n",
              "2380            NaN                  NaN  \n",
              "15285      Prospect                220.0  \n",
              "8184       Prospect                 71.0  \n",
              "12695      Prospect                 48.0  \n",
              "21370        Client                198.0  \n",
              "1435         Client                 32.0  \n",
              "15278        Client                 98.0  \n",
              "9852       Prospect                 58.0  \n",
              "3922       Prospect                  1.0  \n",
              "10192      Prospect                 74.0  \n",
              "13439        Client                 89.0  \n",
              "10815      Prospect                178.0  \n",
              "19022      Prospect                210.0  \n",
              "8713       Prospect                 49.0  \n",
              "19880        Client                232.0  \n",
              "13087      Prospect                 18.0  \n",
              "5255         Client                123.0  \n",
              "12087      Prospect                 90.0  \n",
              "109          Client                182.0  \n",
              "8284         Client                201.0  "
            ],
            "text/html": [
              "\n",
              "  <div id=\"df-220690ea-39b5-4a71-a2d8-bea9ca6267ef\" class=\"colab-df-container\">\n",
              "    <div>\n",
              "<style scoped>\n",
              "    .dataframe tbody tr th:only-of-type {\n",
              "        vertical-align: middle;\n",
              "    }\n",
              "\n",
              "    .dataframe tbody tr th {\n",
              "        vertical-align: top;\n",
              "    }\n",
              "\n",
              "    .dataframe thead th {\n",
              "        text-align: right;\n",
              "    }\n",
              "</style>\n",
              "<table border=\"1\" class=\"dataframe\">\n",
              "  <thead>\n",
              "    <tr style=\"text-align: right;\">\n",
              "      <th></th>\n",
              "      <th>Id_client</th>\n",
              "      <th>Tranche_age</th>\n",
              "      <th>Sexe</th>\n",
              "      <th>Nationalite</th>\n",
              "      <th>Situation_familiale</th>\n",
              "      <th>CSP</th>\n",
              "      <th>Secteur_activite</th>\n",
              "      <th>Type_marche</th>\n",
              "      <th>Type_personne</th>\n",
              "      <th>Ville</th>\n",
              "      <th>Code_postal</th>\n",
              "      <th>Pays</th>\n",
              "      <th>Statut_client</th>\n",
              "      <th>Agence_rattachement</th>\n",
              "    </tr>\n",
              "  </thead>\n",
              "  <tbody>\n",
              "    <tr>\n",
              "      <th>18656</th>\n",
              "      <td>18657.0</td>\n",
              "      <td>46-55 ans</td>\n",
              "      <td>Homme</td>\n",
              "      <td>Tunisienne</td>\n",
              "      <td>Marié(e)</td>\n",
              "      <td>Ouvrier</td>\n",
              "      <td>Administration publique</td>\n",
              "      <td>Particulier</td>\n",
              "      <td>Physique</td>\n",
              "      <td>Zaghouan</td>\n",
              "      <td>1200.0</td>\n",
              "      <td>Tunisie</td>\n",
              "      <td>Prospect</td>\n",
              "      <td>7.0</td>\n",
              "    </tr>\n",
              "    <tr>\n",
              "      <th>21020</th>\n",
              "      <td>21021.0</td>\n",
              "      <td>36-45 ans</td>\n",
              "      <td>Femme</td>\n",
              "      <td>Tunisienne</td>\n",
              "      <td>Marié(e)</td>\n",
              "      <td>Cadre moyens</td>\n",
              "      <td>Intermediation financière</td>\n",
              "      <td>Professionnel</td>\n",
              "      <td>Morale</td>\n",
              "      <td>Béja</td>\n",
              "      <td>1000.0</td>\n",
              "      <td>Tunisie</td>\n",
              "      <td>Client</td>\n",
              "      <td>183.0</td>\n",
              "    </tr>\n",
              "    <tr>\n",
              "      <th>11952</th>\n",
              "      <td>11953.0</td>\n",
              "      <td>46-55 ans</td>\n",
              "      <td>Homme</td>\n",
              "      <td>Tunisienne</td>\n",
              "      <td>Célibataire</td>\n",
              "      <td>Commerçants - Habillement</td>\n",
              "      <td>Agroalimentaire</td>\n",
              "      <td>Services personnels</td>\n",
              "      <td>Morale</td>\n",
              "      <td>Tozeur</td>\n",
              "      <td>2200.0</td>\n",
              "      <td>Tunisie</td>\n",
              "      <td>Client</td>\n",
              "      <td>99.0</td>\n",
              "    </tr>\n",
              "    <tr>\n",
              "      <th>3076</th>\n",
              "      <td>3077.0</td>\n",
              "      <td>36-45 ans</td>\n",
              "      <td>Femme</td>\n",
              "      <td>Tunisienne</td>\n",
              "      <td>Célibataire</td>\n",
              "      <td>Retraité</td>\n",
              "      <td>Automobile</td>\n",
              "      <td>Professionnel</td>\n",
              "      <td>Morale</td>\n",
              "      <td>Sousse</td>\n",
              "      <td>1200.0</td>\n",
              "      <td>Tunisie</td>\n",
              "      <td>Prospect</td>\n",
              "      <td>217.0</td>\n",
              "    </tr>\n",
              "    <tr>\n",
              "      <th>782</th>\n",
              "      <td>783.0</td>\n",
              "      <td>56 ans et plus</td>\n",
              "      <td>Femme</td>\n",
              "      <td>Tunisienne</td>\n",
              "      <td>Divorcé(e)</td>\n",
              "      <td>Cadre moyens</td>\n",
              "      <td>Police</td>\n",
              "      <td>Particulier</td>\n",
              "      <td>Physique</td>\n",
              "      <td>Kairouan</td>\n",
              "      <td>4000.0</td>\n",
              "      <td>Tunisie</td>\n",
              "      <td>Prospect</td>\n",
              "      <td>107.0</td>\n",
              "    </tr>\n",
              "    <tr>\n",
              "      <th>13370</th>\n",
              "      <td>13371.0</td>\n",
              "      <td>26-35 ans</td>\n",
              "      <td>Homme</td>\n",
              "      <td>Tunisienne</td>\n",
              "      <td>Marié(e)</td>\n",
              "      <td>Professeur secondaire</td>\n",
              "      <td>Police</td>\n",
              "      <td>TPE PERSONNE PHYSIQUE</td>\n",
              "      <td>Morale</td>\n",
              "      <td>Gafsa</td>\n",
              "      <td>6000.0</td>\n",
              "      <td>Tunisie</td>\n",
              "      <td>Client</td>\n",
              "      <td>209.0</td>\n",
              "    </tr>\n",
              "    <tr>\n",
              "      <th>3683</th>\n",
              "      <td>3684.0</td>\n",
              "      <td>26-35 ans</td>\n",
              "      <td>Homme</td>\n",
              "      <td>Tunisienne</td>\n",
              "      <td>Divorcé(e)</td>\n",
              "      <td>Employé</td>\n",
              "      <td>Activites hospitalières</td>\n",
              "      <td>Services personnels</td>\n",
              "      <td>Morale</td>\n",
              "      <td>Kébili</td>\n",
              "      <td>2080.0</td>\n",
              "      <td>Tunisie</td>\n",
              "      <td>Prospect</td>\n",
              "      <td>6.0</td>\n",
              "    </tr>\n",
              "    <tr>\n",
              "      <th>17347</th>\n",
              "      <td>17348.0</td>\n",
              "      <td>56 ans et plus</td>\n",
              "      <td>Homme</td>\n",
              "      <td>Tunisienne</td>\n",
              "      <td>Veuf(ve)</td>\n",
              "      <td>Professeur secondaire</td>\n",
              "      <td>Commerce de gros d'habillement</td>\n",
              "      <td>NaN</td>\n",
              "      <td>NaN</td>\n",
              "      <td>NaN</td>\n",
              "      <td>NaN</td>\n",
              "      <td>NaN</td>\n",
              "      <td>NaN</td>\n",
              "      <td>NaN</td>\n",
              "    </tr>\n",
              "    <tr>\n",
              "      <th>20295</th>\n",
              "      <td>20296.0</td>\n",
              "      <td>36-45 ans</td>\n",
              "      <td>Homme</td>\n",
              "      <td>Tunisienne</td>\n",
              "      <td>Divorcé(e)</td>\n",
              "      <td>Ouvrier</td>\n",
              "      <td>Boulangerie/Patisserie</td>\n",
              "      <td>Services personnels</td>\n",
              "      <td>Morale</td>\n",
              "      <td>Kébili</td>\n",
              "      <td>9000.0</td>\n",
              "      <td>Tunisie</td>\n",
              "      <td>Client</td>\n",
              "      <td>32.0</td>\n",
              "    </tr>\n",
              "    <tr>\n",
              "      <th>11007</th>\n",
              "      <td>11008.0</td>\n",
              "      <td>18-25 ans</td>\n",
              "      <td>Femme</td>\n",
              "      <td>Tunisienne</td>\n",
              "      <td>Célibataire</td>\n",
              "      <td>Professeur primaire</td>\n",
              "      <td>Extraction de petrole brut</td>\n",
              "      <td>Services personnels</td>\n",
              "      <td>Morale</td>\n",
              "      <td>Mahdia</td>\n",
              "      <td>5000.0</td>\n",
              "      <td>Tunisie</td>\n",
              "      <td>Prospect</td>\n",
              "      <td>210.0</td>\n",
              "    </tr>\n",
              "    <tr>\n",
              "      <th>13548</th>\n",
              "      <td>13549.0</td>\n",
              "      <td>46-55 ans</td>\n",
              "      <td>Femme</td>\n",
              "      <td>Tunisienne</td>\n",
              "      <td>Célibataire</td>\n",
              "      <td>Professeur primaire</td>\n",
              "      <td>Agroalimentaire</td>\n",
              "      <td>Services personnels</td>\n",
              "      <td>Morale</td>\n",
              "      <td>Gafsa</td>\n",
              "      <td>5100.0</td>\n",
              "      <td>Tunisie</td>\n",
              "      <td>Prospect</td>\n",
              "      <td>176.0</td>\n",
              "    </tr>\n",
              "    <tr>\n",
              "      <th>2361</th>\n",
              "      <td>2362.0</td>\n",
              "      <td>18-25 ans</td>\n",
              "      <td>Femme</td>\n",
              "      <td>Tunisienne</td>\n",
              "      <td>Marié(e)</td>\n",
              "      <td>Retraité</td>\n",
              "      <td>Pêche</td>\n",
              "      <td>Professionnel</td>\n",
              "      <td>Physique</td>\n",
              "      <td>Siliana</td>\n",
              "      <td>3000.0</td>\n",
              "      <td>Tunisie</td>\n",
              "      <td>Prospect</td>\n",
              "      <td>195.0</td>\n",
              "    </tr>\n",
              "    <tr>\n",
              "      <th>16697</th>\n",
              "      <td>16698.0</td>\n",
              "      <td>36-45 ans</td>\n",
              "      <td>Homme</td>\n",
              "      <td>Tunisienne</td>\n",
              "      <td>Célibataire</td>\n",
              "      <td>Force armée</td>\n",
              "      <td>Activites hospitalières</td>\n",
              "      <td>Services personnels</td>\n",
              "      <td>Physique</td>\n",
              "      <td>Ariana</td>\n",
              "      <td>4100.0</td>\n",
              "      <td>Tunisie</td>\n",
              "      <td>Prospect</td>\n",
              "      <td>15.0</td>\n",
              "    </tr>\n",
              "    <tr>\n",
              "      <th>1766</th>\n",
              "      <td>1767.0</td>\n",
              "      <td>46-55 ans</td>\n",
              "      <td>Femme</td>\n",
              "      <td>Tunisienne</td>\n",
              "      <td>Veuf(ve)</td>\n",
              "      <td>Cadre moyens</td>\n",
              "      <td>Informatique</td>\n",
              "      <td>Particulier</td>\n",
              "      <td>Physique</td>\n",
              "      <td>Kébili</td>\n",
              "      <td>7000.0</td>\n",
              "      <td>Tunisie</td>\n",
              "      <td>Client</td>\n",
              "      <td>127.0</td>\n",
              "    </tr>\n",
              "    <tr>\n",
              "      <th>19228</th>\n",
              "      <td>19229.0</td>\n",
              "      <td>56 ans et plus</td>\n",
              "      <td>Homme</td>\n",
              "      <td>Tunisienne</td>\n",
              "      <td>Célibataire</td>\n",
              "      <td>Professeur secondaire</td>\n",
              "      <td>Informatique</td>\n",
              "      <td>Professionnel</td>\n",
              "      <td>Morale</td>\n",
              "      <td>Gafsa</td>\n",
              "      <td>5100.0</td>\n",
              "      <td>Tunisie</td>\n",
              "      <td>Prospect</td>\n",
              "      <td>22.0</td>\n",
              "    </tr>\n",
              "    <tr>\n",
              "      <th>20594</th>\n",
              "      <td>20595.0</td>\n",
              "      <td>36-45 ans</td>\n",
              "      <td>Femme</td>\n",
              "      <td>Tunisienne</td>\n",
              "      <td>Divorcé(e)</td>\n",
              "      <td>Commerçants - Habillement</td>\n",
              "      <td>Commerce d'alimentation générale</td>\n",
              "      <td>Professionnel</td>\n",
              "      <td>Morale</td>\n",
              "      <td>Sousse</td>\n",
              "      <td>8110.0</td>\n",
              "      <td>Tunisie</td>\n",
              "      <td>Prospect</td>\n",
              "      <td>66.0</td>\n",
              "    </tr>\n",
              "    <tr>\n",
              "      <th>15161</th>\n",
              "      <td>15162.0</td>\n",
              "      <td>46-55 ans</td>\n",
              "      <td>Femme</td>\n",
              "      <td>Tunisienne</td>\n",
              "      <td>Divorcé(e)</td>\n",
              "      <td>Force armée</td>\n",
              "      <td>Commerce de gros de boissons</td>\n",
              "      <td>TPE PERSONNE PHYSIQUE</td>\n",
              "      <td>Physique</td>\n",
              "      <td>Jendouba</td>\n",
              "      <td>3000.0</td>\n",
              "      <td>Tunisie</td>\n",
              "      <td>Client</td>\n",
              "      <td>176.0</td>\n",
              "    </tr>\n",
              "    <tr>\n",
              "      <th>22358</th>\n",
              "      <td>22359.0</td>\n",
              "      <td>46-55 ans</td>\n",
              "      <td>Femme</td>\n",
              "      <td>Tunisienne</td>\n",
              "      <td>Marié(e)</td>\n",
              "      <td>Professeur secondaire</td>\n",
              "      <td>Commerce de gros d'habillement</td>\n",
              "      <td>NaN</td>\n",
              "      <td>NaN</td>\n",
              "      <td>NaN</td>\n",
              "      <td>NaN</td>\n",
              "      <td>NaN</td>\n",
              "      <td>NaN</td>\n",
              "      <td>NaN</td>\n",
              "    </tr>\n",
              "    <tr>\n",
              "      <th>5606</th>\n",
              "      <td>5607.0</td>\n",
              "      <td>56 ans et plus</td>\n",
              "      <td>Femme</td>\n",
              "      <td>Tunisienne</td>\n",
              "      <td>Veuf(ve)</td>\n",
              "      <td>Retraité</td>\n",
              "      <td>Administration publique</td>\n",
              "      <td>Particulier</td>\n",
              "      <td>Physique</td>\n",
              "      <td>Jendouba</td>\n",
              "      <td>7000.0</td>\n",
              "      <td>Tunisie</td>\n",
              "      <td>Prospect</td>\n",
              "      <td>22.0</td>\n",
              "    </tr>\n",
              "    <tr>\n",
              "      <th>13991</th>\n",
              "      <td>13992.0</td>\n",
              "      <td>46-55 ans</td>\n",
              "      <td>Homme</td>\n",
              "      <td>Tunisienne</td>\n",
              "      <td>Marié(e)</td>\n",
              "      <td>Force armée</td>\n",
              "      <td>Extraction de petrole brut</td>\n",
              "      <td>Professionnel</td>\n",
              "      <td>Physique</td>\n",
              "      <td>Gabès</td>\n",
              "      <td>2100.0</td>\n",
              "      <td>Tunisie</td>\n",
              "      <td>Prospect</td>\n",
              "      <td>22.0</td>\n",
              "    </tr>\n",
              "    <tr>\n",
              "      <th>7270</th>\n",
              "      <td>7271.0</td>\n",
              "      <td>36-45 ans</td>\n",
              "      <td>Homme</td>\n",
              "      <td>Tunisienne</td>\n",
              "      <td>Divorcé(e)</td>\n",
              "      <td>Sans Profession</td>\n",
              "      <td>Services domestiques</td>\n",
              "      <td>Services personnels</td>\n",
              "      <td>Physique</td>\n",
              "      <td>Béja</td>\n",
              "      <td>6000.0</td>\n",
              "      <td>Tunisie</td>\n",
              "      <td>Prospect</td>\n",
              "      <td>38.0</td>\n",
              "    </tr>\n",
              "    <tr>\n",
              "      <th>22555</th>\n",
              "      <td>22556.0</td>\n",
              "      <td>36-45 ans</td>\n",
              "      <td>Homme</td>\n",
              "      <td>Tunisienne</td>\n",
              "      <td>Célibataire</td>\n",
              "      <td>Sal.Pub Technicien</td>\n",
              "      <td>Administration publique</td>\n",
              "      <td>Professionnel</td>\n",
              "      <td>Morale</td>\n",
              "      <td>Ben Arous</td>\n",
              "      <td>9000.0</td>\n",
              "      <td>Tunisie</td>\n",
              "      <td>Prospect</td>\n",
              "      <td>12.0</td>\n",
              "    </tr>\n",
              "    <tr>\n",
              "      <th>3342</th>\n",
              "      <td>3343.0</td>\n",
              "      <td>46-55 ans</td>\n",
              "      <td>Homme</td>\n",
              "      <td>Tunisienne</td>\n",
              "      <td>Divorcé(e)</td>\n",
              "      <td>Professeur primaire</td>\n",
              "      <td>Informatique</td>\n",
              "      <td>TRE</td>\n",
              "      <td>Physique</td>\n",
              "      <td>Béja</td>\n",
              "      <td>4000.0</td>\n",
              "      <td>Tunisie</td>\n",
              "      <td>Prospect</td>\n",
              "      <td>13.0</td>\n",
              "    </tr>\n",
              "    <tr>\n",
              "      <th>9758</th>\n",
              "      <td>9759.0</td>\n",
              "      <td>26-35 ans</td>\n",
              "      <td>Femme</td>\n",
              "      <td>Tunisienne</td>\n",
              "      <td>Divorcé(e)</td>\n",
              "      <td>Force armée</td>\n",
              "      <td>Police</td>\n",
              "      <td>Particulier</td>\n",
              "      <td>Physique</td>\n",
              "      <td>Monastir</td>\n",
              "      <td>4200.0</td>\n",
              "      <td>Tunisie</td>\n",
              "      <td>Prospect</td>\n",
              "      <td>216.0</td>\n",
              "    </tr>\n",
              "    <tr>\n",
              "      <th>19433</th>\n",
              "      <td>19434.0</td>\n",
              "      <td>36-45 ans</td>\n",
              "      <td>Femme</td>\n",
              "      <td>Tunisienne</td>\n",
              "      <td>Veuf(ve)</td>\n",
              "      <td>Cadre moyens</td>\n",
              "      <td>Police</td>\n",
              "      <td>Professionnel</td>\n",
              "      <td>Physique</td>\n",
              "      <td>Monastir</td>\n",
              "      <td>3200.0</td>\n",
              "      <td>Tunisie</td>\n",
              "      <td>Prospect</td>\n",
              "      <td>94.0</td>\n",
              "    </tr>\n",
              "    <tr>\n",
              "      <th>12181</th>\n",
              "      <td>12182.0</td>\n",
              "      <td>18-25 ans</td>\n",
              "      <td>Femme</td>\n",
              "      <td>Tunisienne</td>\n",
              "      <td>Marié(e)</td>\n",
              "      <td>Professeur primaire</td>\n",
              "      <td>Informatique</td>\n",
              "      <td>Particulier</td>\n",
              "      <td>Morale</td>\n",
              "      <td>Jendouba</td>\n",
              "      <td>3000.0</td>\n",
              "      <td>Tunisie</td>\n",
              "      <td>Client</td>\n",
              "      <td>10.0</td>\n",
              "    </tr>\n",
              "    <tr>\n",
              "      <th>14903</th>\n",
              "      <td>14904.0</td>\n",
              "      <td>36-45 ans</td>\n",
              "      <td>Homme</td>\n",
              "      <td>Tunisienne</td>\n",
              "      <td>Divorcé(e)</td>\n",
              "      <td>Dirigeant d'entreprise</td>\n",
              "      <td>Services personnels</td>\n",
              "      <td>Particulier</td>\n",
              "      <td>Physique</td>\n",
              "      <td>Bizerte</td>\n",
              "      <td>2080.0</td>\n",
              "      <td>Tunisie</td>\n",
              "      <td>Prospect</td>\n",
              "      <td>102.0</td>\n",
              "    </tr>\n",
              "    <tr>\n",
              "      <th>928</th>\n",
              "      <td>929.0</td>\n",
              "      <td>26-35 ans</td>\n",
              "      <td>Homme</td>\n",
              "      <td>Tunisienne</td>\n",
              "      <td>Divorcé(e)</td>\n",
              "      <td>Retraité</td>\n",
              "      <td>Commerce de gros de boissons</td>\n",
              "      <td>TPE PERSONNE PHYSIQUE</td>\n",
              "      <td>Morale</td>\n",
              "      <td>Bizerte</td>\n",
              "      <td>5100.0</td>\n",
              "      <td>Tunisie</td>\n",
              "      <td>Prospect</td>\n",
              "      <td>15.0</td>\n",
              "    </tr>\n",
              "    <tr>\n",
              "      <th>4414</th>\n",
              "      <td>4415.0</td>\n",
              "      <td>36-45 ans</td>\n",
              "      <td>Femme</td>\n",
              "      <td>Tunisienne</td>\n",
              "      <td>Veuf(ve)</td>\n",
              "      <td>Cadre moyens</td>\n",
              "      <td>Activites immobilières</td>\n",
              "      <td>Services personnels</td>\n",
              "      <td>Physique</td>\n",
              "      <td>Sfax</td>\n",
              "      <td>8110.0</td>\n",
              "      <td>Tunisie</td>\n",
              "      <td>Client</td>\n",
              "      <td>156.0</td>\n",
              "    </tr>\n",
              "    <tr>\n",
              "      <th>16354</th>\n",
              "      <td>16355.0</td>\n",
              "      <td>56 ans et plus</td>\n",
              "      <td>Femme</td>\n",
              "      <td>Tunisienne</td>\n",
              "      <td>Célibataire</td>\n",
              "      <td>Ouvrier</td>\n",
              "      <td>Commerce d'alimentation générale</td>\n",
              "      <td>TRE</td>\n",
              "      <td>Morale</td>\n",
              "      <td>Monastir</td>\n",
              "      <td>8110.0</td>\n",
              "      <td>Tunisie</td>\n",
              "      <td>Prospect</td>\n",
              "      <td>227.0</td>\n",
              "    </tr>\n",
              "    <tr>\n",
              "      <th>2380</th>\n",
              "      <td>2381.0</td>\n",
              "      <td>26-35 ans</td>\n",
              "      <td>Femme</td>\n",
              "      <td>Tunisienne</td>\n",
              "      <td>Marié(e)</td>\n",
              "      <td>Sal.Pub Technicien</td>\n",
              "      <td>Commerce de gros d'habillement</td>\n",
              "      <td>NaN</td>\n",
              "      <td>NaN</td>\n",
              "      <td>NaN</td>\n",
              "      <td>NaN</td>\n",
              "      <td>NaN</td>\n",
              "      <td>NaN</td>\n",
              "      <td>NaN</td>\n",
              "    </tr>\n",
              "    <tr>\n",
              "      <th>15285</th>\n",
              "      <td>15286.0</td>\n",
              "      <td>18-25 ans</td>\n",
              "      <td>Femme</td>\n",
              "      <td>Tunisienne</td>\n",
              "      <td>Veuf(ve)</td>\n",
              "      <td>Profession intermédiaire</td>\n",
              "      <td>Agroalimentaire</td>\n",
              "      <td>Services personnels</td>\n",
              "      <td>Physique</td>\n",
              "      <td>Monastir</td>\n",
              "      <td>8000.0</td>\n",
              "      <td>Tunisie</td>\n",
              "      <td>Prospect</td>\n",
              "      <td>220.0</td>\n",
              "    </tr>\n",
              "    <tr>\n",
              "      <th>8184</th>\n",
              "      <td>8185.0</td>\n",
              "      <td>18-25 ans</td>\n",
              "      <td>Femme</td>\n",
              "      <td>Tunisienne</td>\n",
              "      <td>Divorcé(e)</td>\n",
              "      <td>Professeur primaire</td>\n",
              "      <td>Activites immobilières</td>\n",
              "      <td>Services personnels</td>\n",
              "      <td>Morale</td>\n",
              "      <td>Kasserine</td>\n",
              "      <td>2013.0</td>\n",
              "      <td>Tunisie</td>\n",
              "      <td>Prospect</td>\n",
              "      <td>71.0</td>\n",
              "    </tr>\n",
              "    <tr>\n",
              "      <th>12695</th>\n",
              "      <td>12696.0</td>\n",
              "      <td>46-55 ans</td>\n",
              "      <td>Homme</td>\n",
              "      <td>Tunisienne</td>\n",
              "      <td>Veuf(ve)</td>\n",
              "      <td>Professeur secondaire</td>\n",
              "      <td>Informatique</td>\n",
              "      <td>Particulier</td>\n",
              "      <td>Physique</td>\n",
              "      <td>Mahdia</td>\n",
              "      <td>9000.0</td>\n",
              "      <td>Tunisie</td>\n",
              "      <td>Prospect</td>\n",
              "      <td>48.0</td>\n",
              "    </tr>\n",
              "    <tr>\n",
              "      <th>21370</th>\n",
              "      <td>21371.0</td>\n",
              "      <td>18-25 ans</td>\n",
              "      <td>Homme</td>\n",
              "      <td>Tunisienne</td>\n",
              "      <td>Divorcé(e)</td>\n",
              "      <td>Dirigeant d'entreprise</td>\n",
              "      <td>Agroalimentaire</td>\n",
              "      <td>TRE</td>\n",
              "      <td>Morale</td>\n",
              "      <td>Kasserine</td>\n",
              "      <td>6000.0</td>\n",
              "      <td>Tunisie</td>\n",
              "      <td>Client</td>\n",
              "      <td>198.0</td>\n",
              "    </tr>\n",
              "    <tr>\n",
              "      <th>1435</th>\n",
              "      <td>1436.0</td>\n",
              "      <td>56 ans et plus</td>\n",
              "      <td>Femme</td>\n",
              "      <td>Tunisienne</td>\n",
              "      <td>Célibataire</td>\n",
              "      <td>Retraité</td>\n",
              "      <td>Banque/Assurance</td>\n",
              "      <td>Particulier</td>\n",
              "      <td>Morale</td>\n",
              "      <td>Béja</td>\n",
              "      <td>9000.0</td>\n",
              "      <td>Tunisie</td>\n",
              "      <td>Client</td>\n",
              "      <td>32.0</td>\n",
              "    </tr>\n",
              "    <tr>\n",
              "      <th>15278</th>\n",
              "      <td>15279.0</td>\n",
              "      <td>56 ans et plus</td>\n",
              "      <td>Femme</td>\n",
              "      <td>Tunisienne</td>\n",
              "      <td>Célibataire</td>\n",
              "      <td>Sans Profession</td>\n",
              "      <td>Commerce d'alimentation générale</td>\n",
              "      <td>TPE PERSONNE PHYSIQUE</td>\n",
              "      <td>Morale</td>\n",
              "      <td>Zaghouan</td>\n",
              "      <td>4200.0</td>\n",
              "      <td>Tunisie</td>\n",
              "      <td>Client</td>\n",
              "      <td>98.0</td>\n",
              "    </tr>\n",
              "    <tr>\n",
              "      <th>9852</th>\n",
              "      <td>9853.0</td>\n",
              "      <td>36-45 ans</td>\n",
              "      <td>Homme</td>\n",
              "      <td>Tunisienne</td>\n",
              "      <td>Veuf(ve)</td>\n",
              "      <td>Commerçants - Habillement</td>\n",
              "      <td>Pêche</td>\n",
              "      <td>TPE PERSONNE PHYSIQUE</td>\n",
              "      <td>Morale</td>\n",
              "      <td>Kairouan</td>\n",
              "      <td>2200.0</td>\n",
              "      <td>Tunisie</td>\n",
              "      <td>Prospect</td>\n",
              "      <td>58.0</td>\n",
              "    </tr>\n",
              "    <tr>\n",
              "      <th>3922</th>\n",
              "      <td>3923.0</td>\n",
              "      <td>36-45 ans</td>\n",
              "      <td>Homme</td>\n",
              "      <td>Tunisienne</td>\n",
              "      <td>Veuf(ve)</td>\n",
              "      <td>Cadre moyens</td>\n",
              "      <td>Construction</td>\n",
              "      <td>TPE PERSONNE PHYSIQUE</td>\n",
              "      <td>Morale</td>\n",
              "      <td>Gabès</td>\n",
              "      <td>4000.0</td>\n",
              "      <td>Tunisie</td>\n",
              "      <td>Prospect</td>\n",
              "      <td>1.0</td>\n",
              "    </tr>\n",
              "    <tr>\n",
              "      <th>10192</th>\n",
              "      <td>10193.0</td>\n",
              "      <td>18-25 ans</td>\n",
              "      <td>Homme</td>\n",
              "      <td>Tunisienne</td>\n",
              "      <td>Célibataire</td>\n",
              "      <td>Profession intermédiaire</td>\n",
              "      <td>Automobile</td>\n",
              "      <td>TRE</td>\n",
              "      <td>Physique</td>\n",
              "      <td>Sousse</td>\n",
              "      <td>2200.0</td>\n",
              "      <td>Tunisie</td>\n",
              "      <td>Prospect</td>\n",
              "      <td>74.0</td>\n",
              "    </tr>\n",
              "    <tr>\n",
              "      <th>13439</th>\n",
              "      <td>13440.0</td>\n",
              "      <td>56 ans et plus</td>\n",
              "      <td>Homme</td>\n",
              "      <td>Tunisienne</td>\n",
              "      <td>Marié(e)</td>\n",
              "      <td>Professeur primaire</td>\n",
              "      <td>Intermediation financière</td>\n",
              "      <td>Particulier</td>\n",
              "      <td>Physique</td>\n",
              "      <td>Nabeul</td>\n",
              "      <td>1100.0</td>\n",
              "      <td>Tunisie</td>\n",
              "      <td>Client</td>\n",
              "      <td>89.0</td>\n",
              "    </tr>\n",
              "    <tr>\n",
              "      <th>10815</th>\n",
              "      <td>10816.0</td>\n",
              "      <td>46-55 ans</td>\n",
              "      <td>Homme</td>\n",
              "      <td>Tunisienne</td>\n",
              "      <td>Divorcé(e)</td>\n",
              "      <td>Sans Profession</td>\n",
              "      <td>Activites juridiques</td>\n",
              "      <td>Services personnels</td>\n",
              "      <td>Morale</td>\n",
              "      <td>Jendouba</td>\n",
              "      <td>9000.0</td>\n",
              "      <td>Tunisie</td>\n",
              "      <td>Prospect</td>\n",
              "      <td>178.0</td>\n",
              "    </tr>\n",
              "    <tr>\n",
              "      <th>19022</th>\n",
              "      <td>19023.0</td>\n",
              "      <td>36-45 ans</td>\n",
              "      <td>Femme</td>\n",
              "      <td>Tunisienne</td>\n",
              "      <td>Veuf(ve)</td>\n",
              "      <td>Commerçants - Habillement</td>\n",
              "      <td>Intermediation financière</td>\n",
              "      <td>Professionnel</td>\n",
              "      <td>Physique</td>\n",
              "      <td>Kasserine</td>\n",
              "      <td>4000.0</td>\n",
              "      <td>Tunisie</td>\n",
              "      <td>Prospect</td>\n",
              "      <td>210.0</td>\n",
              "    </tr>\n",
              "    <tr>\n",
              "      <th>8713</th>\n",
              "      <td>8714.0</td>\n",
              "      <td>56 ans et plus</td>\n",
              "      <td>Homme</td>\n",
              "      <td>Tunisienne</td>\n",
              "      <td>Veuf(ve)</td>\n",
              "      <td>Retraité</td>\n",
              "      <td>Pêche</td>\n",
              "      <td>TRE</td>\n",
              "      <td>Physique</td>\n",
              "      <td>Monastir</td>\n",
              "      <td>3200.0</td>\n",
              "      <td>Tunisie</td>\n",
              "      <td>Prospect</td>\n",
              "      <td>49.0</td>\n",
              "    </tr>\n",
              "    <tr>\n",
              "      <th>19880</th>\n",
              "      <td>19881.0</td>\n",
              "      <td>26-35 ans</td>\n",
              "      <td>Femme</td>\n",
              "      <td>Tunisienne</td>\n",
              "      <td>Divorcé(e)</td>\n",
              "      <td>Cadre supérieur</td>\n",
              "      <td>Agroalimentaire</td>\n",
              "      <td>Particulier</td>\n",
              "      <td>Morale</td>\n",
              "      <td>Bizerte</td>\n",
              "      <td>1000.0</td>\n",
              "      <td>Tunisie</td>\n",
              "      <td>Client</td>\n",
              "      <td>232.0</td>\n",
              "    </tr>\n",
              "    <tr>\n",
              "      <th>13087</th>\n",
              "      <td>13088.0</td>\n",
              "      <td>56 ans et plus</td>\n",
              "      <td>Femme</td>\n",
              "      <td>Tunisienne</td>\n",
              "      <td>Célibataire</td>\n",
              "      <td>Dirigeant d'entreprise</td>\n",
              "      <td>Construction</td>\n",
              "      <td>Services personnels</td>\n",
              "      <td>Morale</td>\n",
              "      <td>Tozeur</td>\n",
              "      <td>5000.0</td>\n",
              "      <td>Tunisie</td>\n",
              "      <td>Prospect</td>\n",
              "      <td>18.0</td>\n",
              "    </tr>\n",
              "    <tr>\n",
              "      <th>5255</th>\n",
              "      <td>5256.0</td>\n",
              "      <td>36-45 ans</td>\n",
              "      <td>Femme</td>\n",
              "      <td>Tunisienne</td>\n",
              "      <td>Célibataire</td>\n",
              "      <td>Cadre moyens</td>\n",
              "      <td>Chimie/Pharmacie</td>\n",
              "      <td>TRE</td>\n",
              "      <td>Physique</td>\n",
              "      <td>Gabès</td>\n",
              "      <td>9000.0</td>\n",
              "      <td>Tunisie</td>\n",
              "      <td>Client</td>\n",
              "      <td>123.0</td>\n",
              "    </tr>\n",
              "    <tr>\n",
              "      <th>12087</th>\n",
              "      <td>12088.0</td>\n",
              "      <td>56 ans et plus</td>\n",
              "      <td>Femme</td>\n",
              "      <td>Tunisienne</td>\n",
              "      <td>Célibataire</td>\n",
              "      <td>Ouvrier</td>\n",
              "      <td>Police</td>\n",
              "      <td>Particulier</td>\n",
              "      <td>Physique</td>\n",
              "      <td>Sfax</td>\n",
              "      <td>5000.0</td>\n",
              "      <td>Tunisie</td>\n",
              "      <td>Prospect</td>\n",
              "      <td>90.0</td>\n",
              "    </tr>\n",
              "    <tr>\n",
              "      <th>109</th>\n",
              "      <td>110.0</td>\n",
              "      <td>26-35 ans</td>\n",
              "      <td>Homme</td>\n",
              "      <td>Tunisienne</td>\n",
              "      <td>Marié(e)</td>\n",
              "      <td>Sans Profession</td>\n",
              "      <td>Construction</td>\n",
              "      <td>Particulier</td>\n",
              "      <td>Morale</td>\n",
              "      <td>Ben Arous</td>\n",
              "      <td>3100.0</td>\n",
              "      <td>Tunisie</td>\n",
              "      <td>Client</td>\n",
              "      <td>182.0</td>\n",
              "    </tr>\n",
              "    <tr>\n",
              "      <th>8284</th>\n",
              "      <td>8285.0</td>\n",
              "      <td>46-55 ans</td>\n",
              "      <td>Femme</td>\n",
              "      <td>Tunisienne</td>\n",
              "      <td>Veuf(ve)</td>\n",
              "      <td>Professeur secondaire</td>\n",
              "      <td>Extraction de petrole brut</td>\n",
              "      <td>TPE PERSONNE PHYSIQUE</td>\n",
              "      <td>Physique</td>\n",
              "      <td>Tunis</td>\n",
              "      <td>2013.0</td>\n",
              "      <td>Tunisie</td>\n",
              "      <td>Client</td>\n",
              "      <td>201.0</td>\n",
              "    </tr>\n",
              "  </tbody>\n",
              "</table>\n",
              "</div>\n",
              "    <div class=\"colab-df-buttons\">\n",
              "\n",
              "  <div class=\"colab-df-container\">\n",
              "    <button class=\"colab-df-convert\" onclick=\"convertToInteractive('df-220690ea-39b5-4a71-a2d8-bea9ca6267ef')\"\n",
              "            title=\"Convert this dataframe to an interactive table.\"\n",
              "            style=\"display:none;\">\n",
              "\n",
              "  <svg xmlns=\"http://www.w3.org/2000/svg\" height=\"24px\" viewBox=\"0 -960 960 960\">\n",
              "    <path d=\"M120-120v-720h720v720H120Zm60-500h600v-160H180v160Zm220 220h160v-160H400v160Zm0 220h160v-160H400v160ZM180-400h160v-160H180v160Zm440 0h160v-160H620v160ZM180-180h160v-160H180v160Zm440 0h160v-160H620v160Z\"/>\n",
              "  </svg>\n",
              "    </button>\n",
              "\n",
              "  <style>\n",
              "    .colab-df-container {\n",
              "      display:flex;\n",
              "      gap: 12px;\n",
              "    }\n",
              "\n",
              "    .colab-df-convert {\n",
              "      background-color: #E8F0FE;\n",
              "      border: none;\n",
              "      border-radius: 50%;\n",
              "      cursor: pointer;\n",
              "      display: none;\n",
              "      fill: #1967D2;\n",
              "      height: 32px;\n",
              "      padding: 0 0 0 0;\n",
              "      width: 32px;\n",
              "    }\n",
              "\n",
              "    .colab-df-convert:hover {\n",
              "      background-color: #E2EBFA;\n",
              "      box-shadow: 0px 1px 2px rgba(60, 64, 67, 0.3), 0px 1px 3px 1px rgba(60, 64, 67, 0.15);\n",
              "      fill: #174EA6;\n",
              "    }\n",
              "\n",
              "    .colab-df-buttons div {\n",
              "      margin-bottom: 4px;\n",
              "    }\n",
              "\n",
              "    [theme=dark] .colab-df-convert {\n",
              "      background-color: #3B4455;\n",
              "      fill: #D2E3FC;\n",
              "    }\n",
              "\n",
              "    [theme=dark] .colab-df-convert:hover {\n",
              "      background-color: #434B5C;\n",
              "      box-shadow: 0px 1px 3px 1px rgba(0, 0, 0, 0.15);\n",
              "      filter: drop-shadow(0px 1px 2px rgba(0, 0, 0, 0.3));\n",
              "      fill: #FFFFFF;\n",
              "    }\n",
              "  </style>\n",
              "\n",
              "    <script>\n",
              "      const buttonEl =\n",
              "        document.querySelector('#df-220690ea-39b5-4a71-a2d8-bea9ca6267ef button.colab-df-convert');\n",
              "      buttonEl.style.display =\n",
              "        google.colab.kernel.accessAllowed ? 'block' : 'none';\n",
              "\n",
              "      async function convertToInteractive(key) {\n",
              "        const element = document.querySelector('#df-220690ea-39b5-4a71-a2d8-bea9ca6267ef');\n",
              "        const dataTable =\n",
              "          await google.colab.kernel.invokeFunction('convertToInteractive',\n",
              "                                                    [key], {});\n",
              "        if (!dataTable) return;\n",
              "\n",
              "        const docLinkHtml = 'Like what you see? Visit the ' +\n",
              "          '<a target=\"_blank\" href=https://colab.research.google.com/notebooks/data_table.ipynb>data table notebook</a>'\n",
              "          + ' to learn more about interactive tables.';\n",
              "        element.innerHTML = '';\n",
              "        dataTable['output_type'] = 'display_data';\n",
              "        await google.colab.output.renderOutput(dataTable, element);\n",
              "        const docLink = document.createElement('div');\n",
              "        docLink.innerHTML = docLinkHtml;\n",
              "        element.appendChild(docLink);\n",
              "      }\n",
              "    </script>\n",
              "  </div>\n",
              "\n",
              "\n",
              "<div id=\"df-d4582ff5-eecf-4c64-bc99-b871ac48d214\">\n",
              "  <button class=\"colab-df-quickchart\" onclick=\"quickchart('df-d4582ff5-eecf-4c64-bc99-b871ac48d214')\"\n",
              "            title=\"Suggest charts\"\n",
              "            style=\"display:none;\">\n",
              "\n",
              "<svg xmlns=\"http://www.w3.org/2000/svg\" height=\"24px\"viewBox=\"0 0 24 24\"\n",
              "     width=\"24px\">\n",
              "    <g>\n",
              "        <path d=\"M19 3H5c-1.1 0-2 .9-2 2v14c0 1.1.9 2 2 2h14c1.1 0 2-.9 2-2V5c0-1.1-.9-2-2-2zM9 17H7v-7h2v7zm4 0h-2V7h2v10zm4 0h-2v-4h2v4z\"/>\n",
              "    </g>\n",
              "</svg>\n",
              "  </button>\n",
              "\n",
              "<style>\n",
              "  .colab-df-quickchart {\n",
              "      --bg-color: #E8F0FE;\n",
              "      --fill-color: #1967D2;\n",
              "      --hover-bg-color: #E2EBFA;\n",
              "      --hover-fill-color: #174EA6;\n",
              "      --disabled-fill-color: #AAA;\n",
              "      --disabled-bg-color: #DDD;\n",
              "  }\n",
              "\n",
              "  [theme=dark] .colab-df-quickchart {\n",
              "      --bg-color: #3B4455;\n",
              "      --fill-color: #D2E3FC;\n",
              "      --hover-bg-color: #434B5C;\n",
              "      --hover-fill-color: #FFFFFF;\n",
              "      --disabled-bg-color: #3B4455;\n",
              "      --disabled-fill-color: #666;\n",
              "  }\n",
              "\n",
              "  .colab-df-quickchart {\n",
              "    background-color: var(--bg-color);\n",
              "    border: none;\n",
              "    border-radius: 50%;\n",
              "    cursor: pointer;\n",
              "    display: none;\n",
              "    fill: var(--fill-color);\n",
              "    height: 32px;\n",
              "    padding: 0;\n",
              "    width: 32px;\n",
              "  }\n",
              "\n",
              "  .colab-df-quickchart:hover {\n",
              "    background-color: var(--hover-bg-color);\n",
              "    box-shadow: 0 1px 2px rgba(60, 64, 67, 0.3), 0 1px 3px 1px rgba(60, 64, 67, 0.15);\n",
              "    fill: var(--button-hover-fill-color);\n",
              "  }\n",
              "\n",
              "  .colab-df-quickchart-complete:disabled,\n",
              "  .colab-df-quickchart-complete:disabled:hover {\n",
              "    background-color: var(--disabled-bg-color);\n",
              "    fill: var(--disabled-fill-color);\n",
              "    box-shadow: none;\n",
              "  }\n",
              "\n",
              "  .colab-df-spinner {\n",
              "    border: 2px solid var(--fill-color);\n",
              "    border-color: transparent;\n",
              "    border-bottom-color: var(--fill-color);\n",
              "    animation:\n",
              "      spin 1s steps(1) infinite;\n",
              "  }\n",
              "\n",
              "  @keyframes spin {\n",
              "    0% {\n",
              "      border-color: transparent;\n",
              "      border-bottom-color: var(--fill-color);\n",
              "      border-left-color: var(--fill-color);\n",
              "    }\n",
              "    20% {\n",
              "      border-color: transparent;\n",
              "      border-left-color: var(--fill-color);\n",
              "      border-top-color: var(--fill-color);\n",
              "    }\n",
              "    30% {\n",
              "      border-color: transparent;\n",
              "      border-left-color: var(--fill-color);\n",
              "      border-top-color: var(--fill-color);\n",
              "      border-right-color: var(--fill-color);\n",
              "    }\n",
              "    40% {\n",
              "      border-color: transparent;\n",
              "      border-right-color: var(--fill-color);\n",
              "      border-top-color: var(--fill-color);\n",
              "    }\n",
              "    60% {\n",
              "      border-color: transparent;\n",
              "      border-right-color: var(--fill-color);\n",
              "    }\n",
              "    80% {\n",
              "      border-color: transparent;\n",
              "      border-right-color: var(--fill-color);\n",
              "      border-bottom-color: var(--fill-color);\n",
              "    }\n",
              "    90% {\n",
              "      border-color: transparent;\n",
              "      border-bottom-color: var(--fill-color);\n",
              "    }\n",
              "  }\n",
              "</style>\n",
              "\n",
              "  <script>\n",
              "    async function quickchart(key) {\n",
              "      const quickchartButtonEl =\n",
              "        document.querySelector('#' + key + ' button');\n",
              "      quickchartButtonEl.disabled = true;  // To prevent multiple clicks.\n",
              "      quickchartButtonEl.classList.add('colab-df-spinner');\n",
              "      try {\n",
              "        const charts = await google.colab.kernel.invokeFunction(\n",
              "            'suggestCharts', [key], {});\n",
              "      } catch (error) {\n",
              "        console.error('Error during call to suggestCharts:', error);\n",
              "      }\n",
              "      quickchartButtonEl.classList.remove('colab-df-spinner');\n",
              "      quickchartButtonEl.classList.add('colab-df-quickchart-complete');\n",
              "    }\n",
              "    (() => {\n",
              "      let quickchartButtonEl =\n",
              "        document.querySelector('#df-d4582ff5-eecf-4c64-bc99-b871ac48d214 button');\n",
              "      quickchartButtonEl.style.display =\n",
              "        google.colab.kernel.accessAllowed ? 'block' : 'none';\n",
              "    })();\n",
              "  </script>\n",
              "</div>\n",
              "\n",
              "    </div>\n",
              "  </div>\n"
            ],
            "application/vnd.google.colaboratory.intrinsic+json": {
              "type": "dataframe",
              "variable_name": "df_clients_VF",
              "summary": "{\n  \"name\": \"df_clients_VF\",\n  \"rows\": 3500,\n  \"fields\": [\n    {\n      \"column\": \"Id_client\",\n      \"properties\": {\n        \"dtype\": \"number\",\n        \"std\": 6579.749326363498,\n        \"min\": 4.0,\n        \"max\": 22820.0,\n        \"num_unique_values\": 3500,\n        \"samples\": [\n          1144.0,\n          15513.0,\n          7343.0\n        ],\n        \"semantic_type\": \"\",\n        \"description\": \"\"\n      }\n    },\n    {\n      \"column\": \"Tranche_age\",\n      \"properties\": {\n        \"dtype\": \"category\",\n        \"num_unique_values\": 5,\n        \"samples\": [\n          \"36-45 ans\",\n          \"18-25 ans\",\n          \"56 ans et plus\"\n        ],\n        \"semantic_type\": \"\",\n        \"description\": \"\"\n      }\n    },\n    {\n      \"column\": \"Sexe\",\n      \"properties\": {\n        \"dtype\": \"category\",\n        \"num_unique_values\": 2,\n        \"samples\": [\n          \"Femme\",\n          \"Homme\"\n        ],\n        \"semantic_type\": \"\",\n        \"description\": \"\"\n      }\n    },\n    {\n      \"column\": \"Nationalite\",\n      \"properties\": {\n        \"dtype\": \"category\",\n        \"num_unique_values\": 1,\n        \"samples\": [\n          \"Tunisienne\"\n        ],\n        \"semantic_type\": \"\",\n        \"description\": \"\"\n      }\n    },\n    {\n      \"column\": \"Situation_familiale\",\n      \"properties\": {\n        \"dtype\": \"category\",\n        \"num_unique_values\": 4,\n        \"samples\": [\n          \"C\\u00e9libataire\"\n        ],\n        \"semantic_type\": \"\",\n        \"description\": \"\"\n      }\n    },\n    {\n      \"column\": \"CSP\",\n      \"properties\": {\n        \"dtype\": \"category\",\n        \"num_unique_values\": 14,\n        \"samples\": [\n          \"Sal.Pub Technicien\"\n        ],\n        \"semantic_type\": \"\",\n        \"description\": \"\"\n      }\n    },\n    {\n      \"column\": \"Secteur_activite\",\n      \"properties\": {\n        \"dtype\": \"category\",\n        \"num_unique_values\": 22,\n        \"samples\": [\n          \"Administration publique\"\n        ],\n        \"semantic_type\": \"\",\n        \"description\": \"\"\n      }\n    },\n    {\n      \"column\": \"Type_marche\",\n      \"properties\": {\n        \"dtype\": \"category\",\n        \"num_unique_values\": 5,\n        \"samples\": [\n          \"Professionnel\"\n        ],\n        \"semantic_type\": \"\",\n        \"description\": \"\"\n      }\n    },\n    {\n      \"column\": \"Type_personne\",\n      \"properties\": {\n        \"dtype\": \"category\",\n        \"num_unique_values\": 2,\n        \"samples\": [\n          \"Morale\"\n        ],\n        \"semantic_type\": \"\",\n        \"description\": \"\"\n      }\n    },\n    {\n      \"column\": \"Ville\",\n      \"properties\": {\n        \"dtype\": \"category\",\n        \"num_unique_values\": 20,\n        \"samples\": [\n          \"Zaghouan\"\n        ],\n        \"semantic_type\": \"\",\n        \"description\": \"\"\n      }\n    },\n    {\n      \"column\": \"Code_postal\",\n      \"properties\": {\n        \"dtype\": \"number\",\n        \"std\": 2416.2224660345123,\n        \"min\": 1000.0,\n        \"max\": 9000.0,\n        \"num_unique_values\": 20,\n        \"samples\": [\n          1200.0\n        ],\n        \"semantic_type\": \"\",\n        \"description\": \"\"\n      }\n    },\n    {\n      \"column\": \"Pays\",\n      \"properties\": {\n        \"dtype\": \"category\",\n        \"num_unique_values\": 1,\n        \"samples\": [\n          \"Tunisie\"\n        ],\n        \"semantic_type\": \"\",\n        \"description\": \"\"\n      }\n    },\n    {\n      \"column\": \"Statut_client\",\n      \"properties\": {\n        \"dtype\": \"category\",\n        \"num_unique_values\": 2,\n        \"samples\": [\n          \"Client\"\n        ],\n        \"semantic_type\": \"\",\n        \"description\": \"\"\n      }\n    },\n    {\n      \"column\": \"Agence_rattachement\",\n      \"properties\": {\n        \"dtype\": \"number\",\n        \"std\": 68.57545896932709,\n        \"min\": 0.0,\n        \"max\": 235.0,\n        \"num_unique_values\": 236,\n        \"samples\": [\n          91.0\n        ],\n        \"semantic_type\": \"\",\n        \"description\": \"\"\n      }\n    }\n  ]\n}"
            }
          },
          "metadata": {},
          "execution_count": 13
        }
      ],
      "source": [
        "df_clients_VF.head(50)"
      ]
    },
    {
      "cell_type": "code",
      "execution_count": 14,
      "id": "584194db-ea0c-4dde-a046-97dad6ce71e2",
      "metadata": {
        "id": "584194db-ea0c-4dde-a046-97dad6ce71e2"
      },
      "outputs": [],
      "source": [
        "df_clients_VF.to_csv('df_clients_VF.csv', index=False)"
      ]
    },
    {
      "cell_type": "code",
      "execution_count": 15,
      "id": "27f99f1c-b980-4f93-bbc5-389a26d810cf",
      "metadata": {
        "id": "27f99f1c-b980-4f93-bbc5-389a26d810cf"
      },
      "outputs": [],
      "source": [
        "client_ids = df_clients_VF['Id_client'].unique()"
      ]
    },
    {
      "cell_type": "code",
      "execution_count": 16,
      "id": "ffa3d00a-8432-4d08-9672-4709f3dd503d",
      "metadata": {
        "id": "ffa3d00a-8432-4d08-9672-4709f3dd503d"
      },
      "outputs": [],
      "source": [
        "client_ids = np.repeat(client_ids, np.random.randint(1, 5, size=len(client_ids)))"
      ]
    },
    {
      "cell_type": "code",
      "execution_count": 17,
      "id": "c545c233-1681-4483-b416-fbd8fa7d1ab3",
      "metadata": {
        "id": "c545c233-1681-4483-b416-fbd8fa7d1ab3"
      },
      "outputs": [],
      "source": [
        "if len(df_reclamations) < len(client_ids):\n",
        "    client_ids = client_ids[:len(df_reclamations)]\n",
        "\n",
        "df_reclamations['Id_client'] = client_ids"
      ]
    },
    {
      "cell_type": "code",
      "execution_count": 18,
      "id": "22db3841-4e3f-49b1-aedb-085d13fb6cf1",
      "metadata": {
        "id": "22db3841-4e3f-49b1-aedb-085d13fb6cf1"
      },
      "outputs": [],
      "source": [
        "df_reclamations.to_csv('reclamations_modifie.csv', index=False)"
      ]
    },
    {
      "cell_type": "code",
      "execution_count": 19,
      "id": "551f9bc6-fb97-475a-9a0e-c268b00ff6ae",
      "metadata": {
        "id": "551f9bc6-fb97-475a-9a0e-c268b00ff6ae"
      },
      "outputs": [],
      "source": [
        "new_client_ids = []\n",
        "\n",
        "# Pour chaque id_client dans client_ids\n",
        "for Id_client in client_ids:\n",
        "    # Générer un nombre aléatoire entre 1 et 4\n",
        "    num_reclamations = np.random.randint(1, 5)\n",
        "\n",
        "    # Ajouter l'id_client à new_client_ids pour chaque réclamation\n",
        "    new_client_ids.extend([Id_client] * num_reclamations)\n",
        "\n",
        "# Si df_reclamations a moins de lignes que new_client_ids, nous allons réduire new_client_ids\n",
        "if len(df_reclamations) < len(new_client_ids):\n",
        "    new_client_ids = new_client_ids[:len(df_reclamations)]\n",
        "\n",
        "df_reclamations['Id_client'] = new_client_ids"
      ]
    },
    {
      "cell_type": "code",
      "execution_count": 20,
      "id": "7ee0ef68-3f93-4baa-bfff-6756422a8798",
      "metadata": {
        "id": "7ee0ef68-3f93-4baa-bfff-6756422a8798"
      },
      "outputs": [],
      "source": [
        "df_reclamations.to_csv('reclamations_modifie_V1.csv', index=False)"
      ]
    },
    {
      "cell_type": "code",
      "execution_count": 21,
      "id": "25e96b43-ac8f-4b00-a19b-31ca5339d61f",
      "metadata": {
        "id": "25e96b43-ac8f-4b00-a19b-31ca5339d61f"
      },
      "outputs": [],
      "source": [
        "# Effectuer l'opération de fusion\n",
        "df_clients_reclamations = pd.merge(df_clients, df_reclamations, on='Id_client', how='inner')"
      ]
    },
    {
      "cell_type": "code",
      "execution_count": 22,
      "id": "e1c4831b-c5b5-43b4-a352-c32b38b9822a",
      "metadata": {
        "id": "e1c4831b-c5b5-43b4-a352-c32b38b9822a"
      },
      "outputs": [],
      "source": [
        "df_clients_reclamations.to_csv('clients_reclamations.csv', index=False)"
      ]
    },
    {
      "cell_type": "code",
      "execution_count": 23,
      "id": "81f8f44a-34b5-46aa-8922-c22669264535",
      "metadata": {
        "id": "81f8f44a-34b5-46aa-8922-c22669264535"
      },
      "outputs": [],
      "source": [
        "df_reclamations = df_reclamations.drop('MOTIF_CLO', axis=1)"
      ]
    },
    {
      "cell_type": "code",
      "execution_count": 24,
      "id": "6577d2d1-ceb2-4650-bed6-0e1d386d0149",
      "metadata": {
        "id": "6577d2d1-ceb2-4650-bed6-0e1d386d0149"
      },
      "outputs": [],
      "source": [
        "df_clients_reclamations.to_csv('clients_reclamations.csv', index=False)"
      ]
    },
    {
      "cell_type": "code",
      "execution_count": 25,
      "id": "a1539f11-e6c9-46eb-87bd-92c6dee04f87",
      "metadata": {
        "id": "a1539f11-e6c9-46eb-87bd-92c6dee04f87"
      },
      "outputs": [],
      "source": [
        "# Extraire les lignes où statut_client est égal à 'Prospect'\n",
        "df_prospect = df_clients_reclamations[df_clients_reclamations['Statut_client'] == 'Prospect']"
      ]
    },
    {
      "cell_type": "code",
      "execution_count": 26,
      "id": "2a27dc1a-2d40-43dc-8d8c-4f7b47894eab",
      "metadata": {
        "id": "2a27dc1a-2d40-43dc-8d8c-4f7b47894eab"
      },
      "outputs": [],
      "source": [
        "# Enregistrer le DataFrame extrait dans un nouveau fichier csv\n",
        "df_prospect.to_csv('prospect.csv', index=False)"
      ]
    },
    {
      "cell_type": "code",
      "execution_count": 27,
      "id": "efd261cf-d69b-4132-bca5-e973d6325003",
      "metadata": {
        "colab": {
          "base_uri": "https://localhost:8080/"
        },
        "id": "efd261cf-d69b-4132-bca5-e973d6325003",
        "outputId": "70ab3dc1-ba30-41ae-c54e-3574538fb7b1"
      },
      "outputs": [
        {
          "output_type": "stream",
          "name": "stdout",
          "text": [
            "          Id_client  Code_postal  Agence_rattachement  \\\n",
            "count   4499.000000  4265.000000          4265.000000   \n",
            "mean   11356.389864  3908.049707           122.551934   \n",
            "min       16.000000  1000.000000             1.000000   \n",
            "25%     5409.000000  2080.000000            59.000000   \n",
            "50%    11436.000000  3200.000000           128.000000   \n",
            "75%    17368.000000  5100.000000           185.000000   \n",
            "max    22739.000000  9000.000000           235.000000   \n",
            "std     6640.372114  2328.043573            70.179846   \n",
            "\n",
            "                              DATREC                    DAT_ENRGREC  NUMCPT  \\\n",
            "count                           4499                           4499     0.0   \n",
            "mean   2024-02-07 15:53:48.717492736  2024-02-08 12:59:03.187374848     NaN   \n",
            "min              2024-01-01 00:00:00            2024-01-02 00:00:00     NaN   \n",
            "25%              2024-01-17 00:00:00            2024-01-17 00:00:00     NaN   \n",
            "50%              2024-02-01 00:00:00            2024-02-02 00:00:00     NaN   \n",
            "75%              2024-03-01 00:00:00            2024-03-04 00:00:00     NaN   \n",
            "max              2024-04-01 00:00:00            2024-04-01 00:00:00     NaN   \n",
            "std                              NaN                            NaN     NaN   \n",
            "\n",
            "       MAIL_CLT  MAIL_ENV_CLT   UTILISATEUR                        DATOPER  \\\n",
            "count       0.0           0.0   4499.000000                           4499   \n",
            "mean        NaN           NaN   4143.306068  2024-02-09 01:00:02.911980544   \n",
            "min         NaN           NaN   1494.000000            2024-01-02 08:24:07   \n",
            "25%         NaN           NaN   2823.500000            2024-01-17 14:25:01   \n",
            "50%         NaN           NaN   3404.000000            2024-02-02 15:15:59   \n",
            "75%         NaN           NaN   4805.000000     2024-03-04 10:54:19.500000   \n",
            "max         NaN           NaN  24250.000000            2024-04-01 10:53:54   \n",
            "std         NaN           NaN   3094.532127                            NaN   \n",
            "\n",
            "       NUMDOC  CHARG_CLIENT                       DATTRAIT  \\\n",
            "count     0.0   3432.000000                           4375   \n",
            "mean      NaN   3576.129662  2024-02-10 21:38:28.801143040   \n",
            "min       NaN   1494.000000            2024-01-02 11:19:37   \n",
            "25%       NaN   2825.000000            2024-01-22 09:42:40   \n",
            "50%       NaN   3260.000000            2024-02-06 13:16:39   \n",
            "75%       NaN   4605.000000     2024-03-04 16:26:13.500000   \n",
            "max       NaN   5638.000000            2024-04-01 11:06:13   \n",
            "std       NaN    987.650259                            NaN   \n",
            "\n",
            "                        DATE_CLOTURE  MOTIF_CLO  \n",
            "count                           4379        0.0  \n",
            "mean   2024-02-10 20:15:04.316054016        NaN  \n",
            "min              2024-01-02 00:00:00        NaN  \n",
            "25%              2024-01-22 00:00:00        NaN  \n",
            "50%              2024-02-06 00:00:00        NaN  \n",
            "75%              2024-03-04 00:00:00        NaN  \n",
            "max              2024-04-01 00:00:00        NaN  \n",
            "std                              NaN        NaN  \n"
          ]
        }
      ],
      "source": [
        "print(df_clients_reclamations.describe())"
      ]
    },
    {
      "cell_type": "code",
      "execution_count": 28,
      "id": "5ef61e00-3ba8-4efd-8cc7-a3b1065eeafd",
      "metadata": {
        "colab": {
          "base_uri": "https://localhost:8080/",
          "height": 203
        },
        "id": "5ef61e00-3ba8-4efd-8cc7-a3b1065eeafd",
        "outputId": "eb00f433-ce83-4adc-8279-b062ef5cc1fe"
      },
      "outputs": [
        {
          "output_type": "execute_result",
          "data": {
            "text/plain": [
              "<bound method DataFrame.info of       Id_client     Tranche_age   Sexe Nationalite Situation_familiale  \\\n",
              "0          16.0  56 ans et plus  Homme  Tunisienne            Marié(e)   \n",
              "1          16.0  56 ans et plus  Homme  Tunisienne            Marié(e)   \n",
              "2          16.0  56 ans et plus  Homme  Tunisienne            Marié(e)   \n",
              "3          16.0  56 ans et plus  Homme  Tunisienne            Marié(e)   \n",
              "4          16.0  56 ans et plus  Homme  Tunisienne            Marié(e)   \n",
              "...         ...             ...    ...         ...                 ...   \n",
              "4494    22739.0       18-25 ans  Femme  Tunisienne          Divorcé(e)   \n",
              "4495    22739.0       18-25 ans  Femme  Tunisienne          Divorcé(e)   \n",
              "4496    22739.0       18-25 ans  Femme  Tunisienne          Divorcé(e)   \n",
              "4497    22739.0       18-25 ans  Femme  Tunisienne          Divorcé(e)   \n",
              "4498    22739.0       18-25 ans  Femme  Tunisienne          Divorcé(e)   \n",
              "\n",
              "                         CSP  Secteur_activite    Type_marche Type_personne  \\\n",
              "0      Professeur secondaire          Services            TRE        Morale   \n",
              "1      Professeur secondaire          Services            TRE        Morale   \n",
              "2      Professeur secondaire          Services            TRE        Morale   \n",
              "3      Professeur secondaire          Services            TRE        Morale   \n",
              "4      Professeur secondaire          Services            TRE        Morale   \n",
              "...                      ...               ...            ...           ...   \n",
              "4494  Dirigeant d'entreprise  Banque/Assurance  Professionnel        Morale   \n",
              "4495  Dirigeant d'entreprise  Banque/Assurance  Professionnel        Morale   \n",
              "4496  Dirigeant d'entreprise  Banque/Assurance  Professionnel        Morale   \n",
              "4497  Dirigeant d'entreprise  Banque/Assurance  Professionnel        Morale   \n",
              "4498  Dirigeant d'entreprise  Banque/Assurance  Professionnel        Morale   \n",
              "\n",
              "       Ville  ...                                        DESCRIPTION  \\\n",
              "0     Mahdia  ...                               BLOCAGE NON UTILISÉ    \n",
              "1     Mahdia  ...  LA RELATION WEBANK N'ARRIVE PAS A CONSULTER LE...   \n",
              "2     Mahdia  ...           RÉGULARISATION CPTE CARTE TECH DEBITEUR    \n",
              "3     Mahdia  ...  BONOUR,_x000D_\\n_x000D_\\nPRIÈRE DE NOUS VALIDE...   \n",
              "4     Mahdia  ...  BONJOUR _x000D_\\n_x000D_\\nPRIÈRE DE VALIDER L'...   \n",
              "...      ...  ...                                                ...   \n",
              "4494    Sfax  ...  REDRESSEMENT RETRAIT ESPECES EFFECTUE PAR ERRE...   \n",
              "4495    Sfax  ...  RETARD DE TRAITEMENT DE CONTRAT D'HYPOTHÈQUE _...   \n",
              "4496    Sfax  ...  BONJOUR,_x000D_\\n_x000D_\\nPRIERE DE DEBLOQUER ...   \n",
              "4497    Sfax  ...  _x000D_\\n_x000D_\\nBONJOUR,_x000D_\\n_x000D_\\nPR...   \n",
              "4498    Sfax  ...  BONJOUR,_x000D_\\n_x000D_\\nPRIERE DE DEBLOQUER ...   \n",
              "\n",
              "                                          MOTIF_CLOTURE  TYPE_RECLAM  \\\n",
              "0     OD valide au niveau DELTA. Reclamation traitee...  RECLAMATION   \n",
              "1      NOUS VOUS INFORMONS QUE VOTRE DEMANDE SOUS LA...  RECLAMATION   \n",
              "2     OD valide au niveau DELTA. Reclamation traitee...  RECLAMATION   \n",
              "3     OD non valide au niveau DELTA. Reclamation tra...  RECLAMATION   \n",
              "4     OD non valide au niveau DELTA. Reclamation tra...  RECLAMATION   \n",
              "...                                                 ...          ...   \n",
              "4494  OD valide au niveau DELTA. Reclamation traitee...  RECLAMATION   \n",
              "4495   NOUS VOUS INFORMONS QUE VOTRE DEMANDE SOUS LA...  RECLAMATION   \n",
              "4496  OD valide au niveau DELTA. Reclamation traitee...  RECLAMATION   \n",
              "4497  OD valide au niveau DELTA. Reclamation traitee...  RECLAMATION   \n",
              "4498  OD valide au niveau DELTA. Reclamation traitee...  RECLAMATION   \n",
              "\n",
              "                DATTRAIT DATE_CLOTURE                   SORT  \\\n",
              "0    2024-02-09 13:45:59   2024-02-10  Validation traitement   \n",
              "1    2024-02-09 10:23:57   2024-02-09  Validation traitement   \n",
              "2    2024-02-09 10:11:37   2024-02-10  Validation traitement   \n",
              "3    2024-02-09 11:11:03   2024-02-10       Manque documents   \n",
              "4    2024-02-12 13:59:53   2024-02-13       Manque documents   \n",
              "...                  ...          ...                    ...   \n",
              "4494 2024-02-29 16:11:54   2024-03-01  Validation traitement   \n",
              "4495 2024-02-29 15:33:01   2024-03-01  Validation traitement   \n",
              "4496 2024-02-29 13:52:57   2024-03-01  Validation traitement   \n",
              "4497 2024-02-29 13:56:18   2024-03-01  Validation traitement   \n",
              "4498 2024-02-29 14:00:38   2024-03-01  Validation traitement   \n",
              "\n",
              "                                       DESCRIPTION_SORT  MOTIF_CLO  \\\n",
              "0                                                    nf        NaN   \n",
              "1                   nécessaire fait veuillez reessayer         NaN   \n",
              "2                                                    nf        NaN   \n",
              "3     MERCI D'UTILISER LE COMPTE COMMISSION PLUS TVA...        NaN   \n",
              "4     merci de remplacer le compte inter siège par l...        NaN   \n",
              "...                                                 ...        ...   \n",
              "4494                                         OD VALIDEE        NaN   \n",
              "4495  LA RÉCLAMATION A ÉTÉ TRAITER AVEC SERVICE GARA...        NaN   \n",
              "4496                                         OD VALIDEE        NaN   \n",
              "4497                                         OD VALIDEE        NaN   \n",
              "4498                                         OD VALIDEE        NaN   \n",
              "\n",
              "         SEGMENT_NMR  SPECIFICITE  \n",
              "0       S3 ESSENTIEL          NaN  \n",
              "1     NOUVEAU CLIENT          NaN  \n",
              "2       S3 ESSENTIEL          NaN  \n",
              "3       S3 ESSENTIEL          NaN  \n",
              "4       S3 ESSENTIEL          NaN  \n",
              "...              ...          ...  \n",
              "4494      S5 UNIVERS          NaN  \n",
              "4495    S3 ESSENTIEL          NaN  \n",
              "4496  CLIENT INACTIF          NaN  \n",
              "4497  CLIENT INACTIF          NaN  \n",
              "4498       S4 AVENIR          NaN  \n",
              "\n",
              "[4499 rows x 38 columns]>"
            ],
            "text/html": [
              "<div style=\"max-width:800px; border: 1px solid var(--colab-border-color);\"><style>\n",
              "      pre.function-repr-contents {\n",
              "        overflow-x: auto;\n",
              "        padding: 8px 12px;\n",
              "        max-height: 500px;\n",
              "      }\n",
              "\n",
              "      pre.function-repr-contents.function-repr-contents-collapsed {\n",
              "        cursor: pointer;\n",
              "        max-height: 100px;\n",
              "      }\n",
              "    </style>\n",
              "    <pre style=\"white-space: initial; background:\n",
              "         var(--colab-secondary-surface-color); padding: 8px 12px;\n",
              "         border-bottom: 1px solid var(--colab-border-color);\"><b>pandas.core.frame.DataFrame.info</b><br/>def info(verbose: bool | None=None, buf: WriteBuffer[str] | None=None, max_cols: int | None=None, memory_usage: bool | str | None=None, show_counts: bool | None=None) -&gt; None</pre><pre class=\"function-repr-contents function-repr-contents-collapsed\" style=\"\"><a class=\"filepath\" style=\"display:none\" href=\"#\">/usr/local/lib/python3.10/dist-packages/pandas/core/frame.py</a>Print a concise summary of a DataFrame.\n",
              "\n",
              "This method prints information about a DataFrame including\n",
              "the index dtype and columns, non-null values and memory usage.\n",
              "\n",
              "Parameters\n",
              "----------\n",
              "verbose : bool, optional\n",
              "    Whether to print the full summary. By default, the setting in\n",
              "    ``pandas.options.display.max_info_columns`` is followed.\n",
              "buf : writable buffer, defaults to sys.stdout\n",
              "    Where to send the output. By default, the output is printed to\n",
              "    sys.stdout. Pass a writable buffer if you need to further process\n",
              "    the output.\n",
              "max_cols : int, optional\n",
              "    When to switch from the verbose to the truncated output. If the\n",
              "    DataFrame has more than `max_cols` columns, the truncated output\n",
              "    is used. By default, the setting in\n",
              "    ``pandas.options.display.max_info_columns`` is used.\n",
              "memory_usage : bool, str, optional\n",
              "    Specifies whether total memory usage of the DataFrame\n",
              "    elements (including the index) should be displayed. By default,\n",
              "    this follows the ``pandas.options.display.memory_usage`` setting.\n",
              "\n",
              "    True always show memory usage. False never shows memory usage.\n",
              "    A value of &#x27;deep&#x27; is equivalent to &quot;True with deep introspection&quot;.\n",
              "    Memory usage is shown in human-readable units (base-2\n",
              "    representation). Without deep introspection a memory estimation is\n",
              "    made based in column dtype and number of rows assuming values\n",
              "    consume the same memory amount for corresponding dtypes. With deep\n",
              "    memory introspection, a real memory usage calculation is performed\n",
              "    at the cost of computational resources. See the\n",
              "    :ref:`Frequently Asked Questions &lt;df-memory-usage&gt;` for more\n",
              "    details.\n",
              "show_counts : bool, optional\n",
              "    Whether to show the non-null counts. By default, this is shown\n",
              "    only if the DataFrame is smaller than\n",
              "    ``pandas.options.display.max_info_rows`` and\n",
              "    ``pandas.options.display.max_info_columns``. A value of True always\n",
              "    shows the counts, and False never shows the counts.\n",
              "\n",
              "Returns\n",
              "-------\n",
              "None\n",
              "    This method prints a summary of a DataFrame and returns None.\n",
              "\n",
              "See Also\n",
              "--------\n",
              "DataFrame.describe: Generate descriptive statistics of DataFrame\n",
              "    columns.\n",
              "DataFrame.memory_usage: Memory usage of DataFrame columns.\n",
              "\n",
              "Examples\n",
              "--------\n",
              "&gt;&gt;&gt; int_values = [1, 2, 3, 4, 5]\n",
              "&gt;&gt;&gt; text_values = [&#x27;alpha&#x27;, &#x27;beta&#x27;, &#x27;gamma&#x27;, &#x27;delta&#x27;, &#x27;epsilon&#x27;]\n",
              "&gt;&gt;&gt; float_values = [0.0, 0.25, 0.5, 0.75, 1.0]\n",
              "&gt;&gt;&gt; df = pd.DataFrame({&quot;int_col&quot;: int_values, &quot;text_col&quot;: text_values,\n",
              "...                   &quot;float_col&quot;: float_values})\n",
              "&gt;&gt;&gt; df\n",
              "    int_col text_col  float_col\n",
              "0        1    alpha       0.00\n",
              "1        2     beta       0.25\n",
              "2        3    gamma       0.50\n",
              "3        4    delta       0.75\n",
              "4        5  epsilon       1.00\n",
              "\n",
              "Prints information of all columns:\n",
              "\n",
              "&gt;&gt;&gt; df.info(verbose=True)\n",
              "&lt;class &#x27;pandas.core.frame.DataFrame&#x27;&gt;\n",
              "RangeIndex: 5 entries, 0 to 4\n",
              "Data columns (total 3 columns):\n",
              " #   Column     Non-Null Count  Dtype\n",
              "---  ------     --------------  -----\n",
              " 0   int_col    5 non-null      int64\n",
              " 1   text_col   5 non-null      object\n",
              " 2   float_col  5 non-null      float64\n",
              "dtypes: float64(1), int64(1), object(1)\n",
              "memory usage: 248.0+ bytes\n",
              "\n",
              "Prints a summary of columns count and its dtypes but not per column\n",
              "information:\n",
              "\n",
              "&gt;&gt;&gt; df.info(verbose=False)\n",
              "&lt;class &#x27;pandas.core.frame.DataFrame&#x27;&gt;\n",
              "RangeIndex: 5 entries, 0 to 4\n",
              "Columns: 3 entries, int_col to float_col\n",
              "dtypes: float64(1), int64(1), object(1)\n",
              "memory usage: 248.0+ bytes\n",
              "\n",
              "Pipe output of DataFrame.info to buffer instead of sys.stdout, get\n",
              "buffer content and writes to a text file:\n",
              "\n",
              "&gt;&gt;&gt; import io\n",
              "&gt;&gt;&gt; buffer = io.StringIO()\n",
              "&gt;&gt;&gt; df.info(buf=buffer)\n",
              "&gt;&gt;&gt; s = buffer.getvalue()\n",
              "&gt;&gt;&gt; with open(&quot;df_info.txt&quot;, &quot;w&quot;,\n",
              "...           encoding=&quot;utf-8&quot;) as f:  # doctest: +SKIP\n",
              "...     f.write(s)\n",
              "260\n",
              "\n",
              "The `memory_usage` parameter allows deep introspection mode, specially\n",
              "useful for big DataFrames and fine-tune memory optimization:\n",
              "\n",
              "&gt;&gt;&gt; random_strings_array = np.random.choice([&#x27;a&#x27;, &#x27;b&#x27;, &#x27;c&#x27;], 10 ** 6)\n",
              "&gt;&gt;&gt; df = pd.DataFrame({\n",
              "...     &#x27;column_1&#x27;: np.random.choice([&#x27;a&#x27;, &#x27;b&#x27;, &#x27;c&#x27;], 10 ** 6),\n",
              "...     &#x27;column_2&#x27;: np.random.choice([&#x27;a&#x27;, &#x27;b&#x27;, &#x27;c&#x27;], 10 ** 6),\n",
              "...     &#x27;column_3&#x27;: np.random.choice([&#x27;a&#x27;, &#x27;b&#x27;, &#x27;c&#x27;], 10 ** 6)\n",
              "... })\n",
              "&gt;&gt;&gt; df.info()\n",
              "&lt;class &#x27;pandas.core.frame.DataFrame&#x27;&gt;\n",
              "RangeIndex: 1000000 entries, 0 to 999999\n",
              "Data columns (total 3 columns):\n",
              " #   Column    Non-Null Count    Dtype\n",
              "---  ------    --------------    -----\n",
              " 0   column_1  1000000 non-null  object\n",
              " 1   column_2  1000000 non-null  object\n",
              " 2   column_3  1000000 non-null  object\n",
              "dtypes: object(3)\n",
              "memory usage: 22.9+ MB\n",
              "\n",
              "&gt;&gt;&gt; df.info(memory_usage=&#x27;deep&#x27;)\n",
              "&lt;class &#x27;pandas.core.frame.DataFrame&#x27;&gt;\n",
              "RangeIndex: 1000000 entries, 0 to 999999\n",
              "Data columns (total 3 columns):\n",
              " #   Column    Non-Null Count    Dtype\n",
              "---  ------    --------------    -----\n",
              " 0   column_1  1000000 non-null  object\n",
              " 1   column_2  1000000 non-null  object\n",
              " 2   column_3  1000000 non-null  object\n",
              "dtypes: object(3)\n",
              "memory usage: 165.9 MB</pre>\n",
              "      <script>\n",
              "      if (google.colab.kernel.accessAllowed && google.colab.files && google.colab.files.view) {\n",
              "        for (const element of document.querySelectorAll('.filepath')) {\n",
              "          element.style.display = 'block'\n",
              "          element.onclick = (event) => {\n",
              "            event.preventDefault();\n",
              "            event.stopPropagation();\n",
              "            google.colab.files.view(element.textContent, 3345);\n",
              "          };\n",
              "        }\n",
              "      }\n",
              "      for (const element of document.querySelectorAll('.function-repr-contents')) {\n",
              "        element.onclick = (event) => {\n",
              "          event.preventDefault();\n",
              "          event.stopPropagation();\n",
              "          element.classList.toggle('function-repr-contents-collapsed');\n",
              "        };\n",
              "      }\n",
              "      </script>\n",
              "      </div>"
            ]
          },
          "metadata": {},
          "execution_count": 28
        }
      ],
      "source": [
        "df_clients_reclamations.info"
      ]
    },
    {
      "cell_type": "code",
      "execution_count": 29,
      "id": "f58ae487-0ba8-4d47-9279-9447a42c324f",
      "metadata": {
        "colab": {
          "base_uri": "https://localhost:8080/"
        },
        "id": "f58ae487-0ba8-4d47-9279-9447a42c324f",
        "outputId": "7ccc17d3-1add-4894-b03d-aa4994b3a51b"
      },
      "outputs": [
        {
          "output_type": "execute_result",
          "data": {
            "text/plain": [
              "Id_client                     float64\n",
              "Tranche_age                    object\n",
              "Sexe                           object\n",
              "Nationalite                    object\n",
              "Situation_familiale            object\n",
              "CSP                            object\n",
              "Secteur_activite               object\n",
              "Type_marche                    object\n",
              "Type_personne                  object\n",
              "Ville                          object\n",
              "Code_postal                   float64\n",
              "Pays                           object\n",
              "Statut_client                  object\n",
              "Agence_rattachement           float64\n",
              "REFERENCE                      object\n",
              "DATREC                 datetime64[ns]\n",
              "DAT_ENRGREC            datetime64[ns]\n",
              "NUMCPT                        float64\n",
              "MAIL_CLT                      float64\n",
              "MAIL_ENV_CLT                  float64\n",
              "FICHIERJOINT                   object\n",
              "UTILISATEUR                     int64\n",
              "SUPPORT                        object\n",
              "DATOPER                datetime64[ns]\n",
              "OBSERVATION                    object\n",
              "TYPDOC                         object\n",
              "NUMDOC                        float64\n",
              "CHARG_CLIENT                  float64\n",
              "DESCRIPTION                    object\n",
              "MOTIF_CLOTURE                  object\n",
              "TYPE_RECLAM                    object\n",
              "DATTRAIT               datetime64[ns]\n",
              "DATE_CLOTURE           datetime64[ns]\n",
              "SORT                           object\n",
              "DESCRIPTION_SORT               object\n",
              "MOTIF_CLO                     float64\n",
              "SEGMENT_NMR                    object\n",
              "SPECIFICITE                    object\n",
              "dtype: object"
            ]
          },
          "metadata": {},
          "execution_count": 29
        }
      ],
      "source": [
        "df_clients_reclamations.dtypes"
      ]
    },
    {
      "cell_type": "code",
      "execution_count": 30,
      "id": "3eae1636-e2ab-4cc5-be2f-517969f1d3ac",
      "metadata": {
        "id": "3eae1636-e2ab-4cc5-be2f-517969f1d3ac"
      },
      "outputs": [],
      "source": [
        "# Remplacer '56 ans et plus' par '56<=' dans la colonne Tranche_age\n",
        "df_clients_reclamations['Tranche_age'] = df_clients_reclamations['Tranche_age'].replace('56 ans et plus', '56<=')"
      ]
    },
    {
      "cell_type": "code",
      "execution_count": 31,
      "id": "33737bf2-7720-40bc-9cce-a562274f2f6e",
      "metadata": {
        "colab": {
          "base_uri": "https://localhost:8080/",
          "height": 304,
          "referenced_widgets": [
            "b07d28b8f5f5423fb5f028830db4af97",
            "86d84684b46b45939ee216c1fded0f33",
            "3ba4de4c74bb457c88f4d912d4bb0c8b",
            "8d4c5f64590e4b4889a4d7cabe22bece",
            "ecd88f0167224d92b374e46e692cb0bc",
            "5f5aa64195cd45fca0574574924c40f5",
            "1f69b4d859614a8cbc18b4d83b64903a",
            "dc9746d54a3b4e6b9cfafc7737c6d999",
            "c53da3e7f3244216aac158627a82f04d",
            "8678b8f0958f44988f7f14d665a754d9",
            "f10242b2eb4a4f60853ff463ed0fa332",
            "8de6433f944846d69a888c5335767020",
            "98017d96c14549dc8b0dd79c5a09ea2b",
            "1c6d5f0302d14452a2cf8f8d40eacf1f",
            "711fe78d79e541a5bf716717e66f86ef",
            "c7854969cc194764b40a32b7ab0d27f8",
            "086ad0a2dbba4794b0b7ef47498d2219",
            "dc3f17e68fc240e1b35cf6677cc46f6d",
            "7203805725844db887abfdd4f67c1406",
            "a2f93aab52244174b1630b36bbe79125",
            "6b64cae19a8e4ebaaa8f323e0e0a334d",
            "11a7a66d8a674046ab4deabcf885eeb5",
            "555153a144e543468927e4b9d1735923",
            "db461d232f894dd8a59ecb5b6acada03",
            "8ef78751122747c0a951764839a18675",
            "4d61788853544848ba863a679b8e8cfa",
            "e357d254e9544f9892ce85e2cf0ff062",
            "1f30f9c23b5a467c8c506473c43f0595",
            "0a32fff2407c44f3818543768fcd80f6",
            "46194e6c831f4329b2136e05895cfb54",
            "929583ac29c5467386b22e4e6680bd79",
            "538d084266a6464db1e686158900c338",
            "6d725f81a9d3484bb7c0e79333a12a00",
            "8211c8b35a694d2683dfdb49e8025988",
            "a77beee6ffcf45708f4aed9ef7867ba3",
            "bb50cfa0d37f41b4929877adb9dd01a9",
            "fb37e1f4256745da917814397ef9e53d",
            "3964a47b07504ee2b05b190d84201db7",
            "6e7fd66695ab495ea22906ff23048cdd",
            "6a7baffaea3442f0a7010d69f73d6858",
            "ac300050a98e450fb29306254f7fb168",
            "6526b2d776134389b82406cf13a4d36c",
            "8befe1bf0bec427d8c7d08481ca1fc0f",
            "21b52425e17148efbf4f113f08feb03c"
          ]
        },
        "id": "33737bf2-7720-40bc-9cce-a562274f2f6e",
        "outputId": "4602eb3e-89f8-432a-be1f-de5902523ca7"
      },
      "outputs": [
        {
          "output_type": "stream",
          "name": "stderr",
          "text": [
            "No model was supplied, defaulted to distilbert/distilbert-base-uncased-finetuned-sst-2-english and revision af0f99b (https://huggingface.co/distilbert/distilbert-base-uncased-finetuned-sst-2-english).\n",
            "Using a pipeline without specifying a model name and revision in production is not recommended.\n",
            "/usr/local/lib/python3.10/dist-packages/huggingface_hub/utils/_token.py:88: UserWarning: \n",
            "The secret `HF_TOKEN` does not exist in your Colab secrets.\n",
            "To authenticate with the Hugging Face Hub, create a token in your settings tab (https://huggingface.co/settings/tokens), set it as secret in your Google Colab and restart your session.\n",
            "You will be able to reuse this secret in all of your notebooks.\n",
            "Please note that authentication is recommended but still optional to access public models or datasets.\n",
            "  warnings.warn(\n"
          ]
        },
        {
          "output_type": "display_data",
          "data": {
            "text/plain": [
              "config.json:   0%|          | 0.00/629 [00:00<?, ?B/s]"
            ],
            "application/vnd.jupyter.widget-view+json": {
              "version_major": 2,
              "version_minor": 0,
              "model_id": "b07d28b8f5f5423fb5f028830db4af97"
            }
          },
          "metadata": {}
        },
        {
          "output_type": "display_data",
          "data": {
            "text/plain": [
              "model.safetensors:   0%|          | 0.00/268M [00:00<?, ?B/s]"
            ],
            "application/vnd.jupyter.widget-view+json": {
              "version_major": 2,
              "version_minor": 0,
              "model_id": "8de6433f944846d69a888c5335767020"
            }
          },
          "metadata": {}
        },
        {
          "output_type": "display_data",
          "data": {
            "text/plain": [
              "tokenizer_config.json:   0%|          | 0.00/48.0 [00:00<?, ?B/s]"
            ],
            "application/vnd.jupyter.widget-view+json": {
              "version_major": 2,
              "version_minor": 0,
              "model_id": "555153a144e543468927e4b9d1735923"
            }
          },
          "metadata": {}
        },
        {
          "output_type": "display_data",
          "data": {
            "text/plain": [
              "vocab.txt:   0%|          | 0.00/232k [00:00<?, ?B/s]"
            ],
            "application/vnd.jupyter.widget-view+json": {
              "version_major": 2,
              "version_minor": 0,
              "model_id": "8211c8b35a694d2683dfdb49e8025988"
            }
          },
          "metadata": {}
        }
      ],
      "source": [
        "# Initialize the sentiment analysis model\n",
        "sentiment_model = pipeline(\"sentiment-analysis\")\n"
      ]
    },
    {
      "cell_type": "code",
      "execution_count": 32,
      "id": "5b6ac0be-4cea-43a0-8bfd-0253f95b3b13",
      "metadata": {
        "id": "5b6ac0be-4cea-43a0-8bfd-0253f95b3b13"
      },
      "outputs": [],
      "source": [
        "# Preprocess the data\n",
        "def preprocess_data(text):\n",
        "    # Replace any HTML tags with an empty string\n",
        "    text = re.sub('<.*?>', '', text)\n",
        "    # Replace any non-alphabetic characters with a space\n",
        "    text = re.sub('[^a-zA-Z]', ' ', text)\n",
        "    # Convert the text to lowercase\n",
        "    text = text.lower()\n",
        "    # Return the preprocessed text\n",
        "    return text"
      ]
    },
    {
      "cell_type": "code",
      "execution_count": 33,
      "id": "aa670210-bc26-452c-aac8-af7d91625dbe",
      "metadata": {
        "id": "aa670210-bc26-452c-aac8-af7d91625dbe"
      },
      "outputs": [],
      "source": [
        "# Preprocess the review text\n",
        "df_clients_reclamations['DESC_CLEAN'] = df_clients_reclamations['DESCRIPTION'].apply(preprocess_data)"
      ]
    },
    {
      "cell_type": "code",
      "execution_count": 34,
      "id": "81dd08a5-7256-4048-a2f5-adde78e2dfab",
      "metadata": {
        "colab": {
          "base_uri": "https://localhost:8080/"
        },
        "id": "81dd08a5-7256-4048-a2f5-adde78e2dfab",
        "outputId": "f94cda0c-71ce-4502-953f-ed793d49a192"
      },
      "outputs": [
        {
          "output_type": "execute_result",
          "data": {
            "text/plain": [
              "0                                    blocage non utilis  \n",
              "1       la relation webank n arrive pas a consulter le...\n",
              "2                r gularisation cpte carte tech debiteur \n",
              "3       bonour  x   d   x   d  pri re de nous valider ...\n",
              "4       bonjour  x   d   x   d  pri re de valider l   ...\n",
              "                              ...                        \n",
              "4494    redressement retrait especes effectue par erre...\n",
              "4495    retard de traitement de contrat d hypoth que  ...\n",
              "4496    bonjour  x   d   x   d  priere de debloquer la...\n",
              "4497     x   d   x   d  bonjour  x   d   x   d  priere...\n",
              "4498    bonjour  x   d   x   d  priere de debloquer la...\n",
              "Name: DESC_CLEAN, Length: 4499, dtype: object"
            ]
          },
          "metadata": {},
          "execution_count": 34
        }
      ],
      "source": [
        "df_clients_reclamations['DESC_CLEAN']"
      ]
    },
    {
      "cell_type": "code",
      "execution_count": 35,
      "id": "f3a54077-08b9-41b6-937b-dc6f628a08e0",
      "metadata": {
        "id": "f3a54077-08b9-41b6-937b-dc6f628a08e0"
      },
      "outputs": [],
      "source": [
        "df_clients_reclamations.to_csv('clients_reclamations.csv', index=False)"
      ]
    },
    {
      "cell_type": "code",
      "execution_count": 36,
      "id": "4d3e7fdd-962d-4f83-840c-e2aff4cec5de",
      "metadata": {
        "id": "4d3e7fdd-962d-4f83-840c-e2aff4cec5de"
      },
      "outputs": [],
      "source": [
        "def get_sentiment_textblob(text):\n",
        "    blob = TextBlob(text)\n",
        "    sentiment = blob.sentiment.polarity\n",
        "\n",
        "    return sentiment"
      ]
    },
    {
      "cell_type": "code",
      "execution_count": 37,
      "id": "166399c9-1c46-4313-87c6-6da5abb5b7a7",
      "metadata": {
        "id": "166399c9-1c46-4313-87c6-6da5abb5b7a7"
      },
      "outputs": [],
      "source": [
        "def analyze_sentiment(df, column, sentiment_func):\n",
        "    df[column + '_sentiment'] = df[column].apply(sentiment_func)\n",
        "\n",
        "    return df"
      ]
    },
    {
      "cell_type": "code",
      "execution_count": 38,
      "id": "50b38048",
      "metadata": {
        "id": "50b38048"
      },
      "outputs": [],
      "source": [
        "df_clients_reclamations = analyze_sentiment(df_clients_reclamations, 'DESC_CLEAN', get_sentiment_textblob)"
      ]
    },
    {
      "cell_type": "code",
      "execution_count": 39,
      "id": "f74d2a30-9a22-40ad-8735-2ef45cdab782",
      "metadata": {
        "id": "f74d2a30-9a22-40ad-8735-2ef45cdab782"
      },
      "outputs": [],
      "source": [
        "df_clients_reclamations.to_csv('clients_reclamations.csv', index=False)"
      ]
    },
    {
      "cell_type": "code",
      "execution_count": 40,
      "id": "c4fcf2d8-fafd-4d15-be34-e5ecef9e10c3",
      "metadata": {
        "colab": {
          "base_uri": "https://localhost:8080/"
        },
        "id": "c4fcf2d8-fafd-4d15-be34-e5ecef9e10c3",
        "outputId": "01c5ecdf-2473-4bd5-e6ac-fe5879cb2b3b"
      },
      "outputs": [
        {
          "output_type": "stream",
          "name": "stdout",
          "text": [
            "Index(['Id_client', 'Tranche_age', 'Sexe', 'Nationalite',\n",
            "       'Situation_familiale', 'CSP', 'Secteur_activite', 'Type_marche',\n",
            "       'Type_personne', 'Ville', 'Code_postal', 'Pays', 'Statut_client',\n",
            "       'Agence_rattachement', 'REFERENCE', 'DATREC', 'DAT_ENRGREC', 'NUMCPT',\n",
            "       'MAIL_CLT', 'MAIL_ENV_CLT', 'FICHIERJOINT', 'UTILISATEUR', 'SUPPORT',\n",
            "       'DATOPER', 'OBSERVATION', 'TYPDOC', 'NUMDOC', 'CHARG_CLIENT',\n",
            "       'DESCRIPTION', 'MOTIF_CLOTURE', 'TYPE_RECLAM', 'DATTRAIT',\n",
            "       'DATE_CLOTURE', 'SORT', 'DESCRIPTION_SORT', 'MOTIF_CLO', 'SEGMENT_NMR',\n",
            "       'SPECIFICITE', 'DESC_CLEAN', 'DESC_CLEAN_sentiment'],\n",
            "      dtype='object')\n"
          ]
        }
      ],
      "source": [
        "print(df_clients_reclamations.columns)"
      ]
    },
    {
      "cell_type": "code",
      "execution_count": 41,
      "id": "628b5bb6-6f0b-4bd0-b363-08adfb8e19cd",
      "metadata": {
        "colab": {
          "base_uri": "https://localhost:8080/"
        },
        "id": "628b5bb6-6f0b-4bd0-b363-08adfb8e19cd",
        "outputId": "df9594ba-43e8-4b5f-f3d2-c552f5b965fe"
      },
      "outputs": [
        {
          "output_type": "stream",
          "name": "stdout",
          "text": [
            "   Id_client Tranche_age   Sexe Nationalite Situation_familiale  \\\n",
            "0       16.0        56<=  Homme  Tunisienne            Marié(e)   \n",
            "1       16.0        56<=  Homme  Tunisienne            Marié(e)   \n",
            "2       16.0        56<=  Homme  Tunisienne            Marié(e)   \n",
            "3       16.0        56<=  Homme  Tunisienne            Marié(e)   \n",
            "4       16.0        56<=  Homme  Tunisienne            Marié(e)   \n",
            "\n",
            "                     CSP Secteur_activite Type_marche Type_personne   Ville  \\\n",
            "0  Professeur secondaire         Services         TRE        Morale  Mahdia   \n",
            "1  Professeur secondaire         Services         TRE        Morale  Mahdia   \n",
            "2  Professeur secondaire         Services         TRE        Morale  Mahdia   \n",
            "3  Professeur secondaire         Services         TRE        Morale  Mahdia   \n",
            "4  Professeur secondaire         Services         TRE        Morale  Mahdia   \n",
            "\n",
            "   ...            DATTRAIT DATE_CLOTURE                   SORT  \\\n",
            "0  ... 2024-02-09 13:45:59   2024-02-10  Validation traitement   \n",
            "1  ... 2024-02-09 10:23:57   2024-02-09  Validation traitement   \n",
            "2  ... 2024-02-09 10:11:37   2024-02-10  Validation traitement   \n",
            "3  ... 2024-02-09 11:11:03   2024-02-10       Manque documents   \n",
            "4  ... 2024-02-12 13:59:53   2024-02-13       Manque documents   \n",
            "\n",
            "                                    DESCRIPTION_SORT MOTIF_CLO  \\\n",
            "0                                                 nf       NaN   \n",
            "1                nécessaire fait veuillez reessayer        NaN   \n",
            "2                                                 nf       NaN   \n",
            "3  MERCI D'UTILISER LE COMPTE COMMISSION PLUS TVA...       NaN   \n",
            "4  merci de remplacer le compte inter siège par l...       NaN   \n",
            "\n",
            "      SEGMENT_NMR SPECIFICITE  \\\n",
            "0    S3 ESSENTIEL         NaN   \n",
            "1  NOUVEAU CLIENT         NaN   \n",
            "2    S3 ESSENTIEL         NaN   \n",
            "3    S3 ESSENTIEL         NaN   \n",
            "4    S3 ESSENTIEL         NaN   \n",
            "\n",
            "                                          DESC_CLEAN  DESC_CLEAN_sentiment  \\\n",
            "0                               blocage non utilis                     0.0   \n",
            "1  la relation webank n arrive pas a consulter le...                   0.0   \n",
            "2           r gularisation cpte carte tech debiteur                    0.0   \n",
            "3  bonour  x   d   x   d  pri re de nous valider ...                   0.0   \n",
            "4  bonjour  x   d   x   d  pri re de valider l   ...                   0.0   \n",
            "\n",
            "   sentiment  \n",
            "0        0.0  \n",
            "1        0.0  \n",
            "2        0.0  \n",
            "3        0.0  \n",
            "4        0.0  \n",
            "\n",
            "[5 rows x 41 columns]\n"
          ]
        }
      ],
      "source": [
        "# Add a new column called 'sentiment'\n",
        "df_clients_reclamations['sentiment'] = 0.0\n",
        "\n",
        "# Loop through each reclamation and calculate its sentiment score\n",
        "for i, row in df_clients_reclamations.iterrows():\n",
        "    text = row['DESC_CLEAN']\n",
        "    blob = TextBlob(text)\n",
        "    sentiment_score = blob.sentiment.polarity\n",
        "    df_clients_reclamations.at[i, 'sentiment'] = sentiment_score\n",
        "\n",
        "# Display the updated DataFrame\n",
        "print(df_clients_reclamations.head())"
      ]
    },
    {
      "cell_type": "code",
      "execution_count": 42,
      "id": "8f1a979f-0097-4aee-b637-109eb4e5efdd",
      "metadata": {
        "id": "8f1a979f-0097-4aee-b637-109eb4e5efdd"
      },
      "outputs": [],
      "source": [
        "df_clients_reclamations['DESCRIPTION'] = df_clients_reclamations['DESCRIPTION'].astype(str)\n",
        "df_clients_reclamations['DESCRIPTION'] = df_clients_reclamations['DESCRIPTION'].fillna('').astype(str)"
      ]
    },
    {
      "cell_type": "code",
      "execution_count": 43,
      "id": "eef53711-11b1-4edf-a2dd-75b9fe402caa",
      "metadata": {
        "id": "eef53711-11b1-4edf-a2dd-75b9fe402caa"
      },
      "outputs": [],
      "source": [
        "def clean_text(text):\n",
        "    \"\"\"\n",
        "    Clean text data for sentiment analysis.\n",
        "\n",
        "    Parameters:\n",
        "    text (str): Text data\n",
        "\n",
        "    Returns:\n",
        "    str: Cleaned text data\n",
        "    \"\"\"\n",
        "\n",
        "    # Remove punctuation\n",
        "    text = text.translate(str.maketrans(\"\", \"\", string.punctuation))\n",
        "\n",
        "    # Replace \"xd\" with an empty string\n",
        "    text = text.replace(\"xd\", \"\")\n",
        "\n",
        "    # Convert to lowercase\n",
        "    text = text.lower()\n",
        "\n",
        "    # Remove non-alphabetic characters\n",
        "    text = re.sub(r'[^a-z\\s]', '', text)\n",
        "\n",
        "    # Remove URLs\n",
        "    text = re.sub(r'http\\S+', '', text)\n",
        "\n",
        "    # Remove mentions\n",
        "    text = re.sub(r'@\\w+', '', text)\n",
        "\n",
        "    # Remove numbers\n",
        "    text = re.sub(r'\\d+', '', text)\n",
        "\n",
        "    # Remove stop words\n",
        "    stop = stopwords.words('french')\n",
        "    filtered_tokens = [token for token in text.split() if token not in stop]\n",
        "\n",
        "    # Lemmatize\n",
        "    lemmatizer = WordNetLemmatizer()\n",
        "    lemmatized_tokens = [lemmatizer.lemmatize(token) for token in filtered_tokens]\n",
        "\n",
        "    # Join the tokens back into a string\n",
        "    processed_text = ' '.join(lemmatized_tokens)\n",
        "\n",
        "    return processed_text\n"
      ]
    },
    {
      "cell_type": "code",
      "execution_count": 44,
      "id": "7cb4dbc7-8ec5-4bd2-9aff-627f21ca8a02",
      "metadata": {
        "id": "7cb4dbc7-8ec5-4bd2-9aff-627f21ca8a02"
      },
      "outputs": [],
      "source": [
        "df_clients_reclamations['cleaned_reclamation'] = df_clients_reclamations['DESCRIPTION'].apply(clean_text)"
      ]
    },
    {
      "cell_type": "code",
      "execution_count": 45,
      "id": "c88e4a44-fa3a-452d-b1d3-d185b0b1d6ea",
      "metadata": {
        "colab": {
          "base_uri": "https://localhost:8080/"
        },
        "id": "c88e4a44-fa3a-452d-b1d3-d185b0b1d6ea",
        "outputId": "d7b0ebc4-f23b-420b-beb8-f4b1bbbe5425"
      },
      "outputs": [
        {
          "output_type": "execute_result",
          "data": {
            "text/plain": [
              "0                                   blocage non utilis\n",
              "1    relation webank narrive a consulter compte via...\n",
              "2               rgularisation cpte carte tech debiteur\n",
              "3    bonourxd xd prire valider lod xd cj accord dir...\n",
              "4    bonjour xd xd prire valider lod suite accord d...\n",
              "Name: cleaned_reclamation, dtype: object"
            ]
          },
          "metadata": {},
          "execution_count": 45
        }
      ],
      "source": [
        "df_clients_reclamations['cleaned_reclamation'].head()"
      ]
    },
    {
      "cell_type": "code",
      "execution_count": 46,
      "id": "b46802eb-ec32-43b6-9a28-3cba2176f2b4",
      "metadata": {
        "id": "b46802eb-ec32-43b6-9a28-3cba2176f2b4"
      },
      "outputs": [],
      "source": [
        "df_clients_reclamations.to_csv('clients_reclamations.csv', index=False)"
      ]
    },
    {
      "cell_type": "code",
      "execution_count": 47,
      "id": "7662577b-4003-43d0-9f3d-4f6afaecdd2f",
      "metadata": {
        "colab": {
          "base_uri": "https://localhost:8080/"
        },
        "id": "7662577b-4003-43d0-9f3d-4f6afaecdd2f",
        "outputId": "68b68a84-38ce-4354-a899-9cdd96ff4f2d"
      },
      "outputs": [
        {
          "output_type": "stream",
          "name": "stderr",
          "text": [
            "[nltk_data] Downloading package vader_lexicon to /root/nltk_data...\n"
          ]
        }
      ],
      "source": [
        "import nltk\n",
        "nltk.download('vader_lexicon')\n",
        "from nltk.sentiment.vader import SentimentIntensityAnalyzer\n",
        "\n",
        "def analyze_sentiment(text):\n",
        "    \"\"\"\n",
        "    Analyze the sentiment of a given text.\n",
        "\n",
        "    Parameters:\n",
        "    text (str): Text data\n",
        "\n",
        "    Returns:\n",
        "    str: Sentiment label\n",
        "    \"\"\"\n",
        "\n",
        "    sid = SentimentIntensityAnalyzer()\n",
        "    sentiment_scores = sid.polarity_scores(text)\n",
        "\n",
        "    if sentiment_scores['compound'] >= 0.05:\n",
        "        sentiment_label = 'Positive'\n",
        "    elif sentiment_scores['compound'] <= -0.05:\n",
        "        sentiment_label = 'Negative'\n",
        "    else:\n",
        "        sentiment_label = 'Neutral'\n",
        "\n",
        "    return sentiment_label\n",
        "\n",
        "df_clients_reclamations['sentiment'] = df_clients_reclamations['cleaned_reclamation'].apply(analyze_sentiment)"
      ]
    },
    {
      "cell_type": "code",
      "execution_count": 48,
      "id": "ab7d07f6-f0c0-41b7-87d1-30024480b051",
      "metadata": {
        "colab": {
          "base_uri": "https://localhost:8080/",
          "height": 564
        },
        "id": "ab7d07f6-f0c0-41b7-87d1-30024480b051",
        "outputId": "755d7a58-b4b7-4d56-c3c1-ad27ac5d7b25"
      },
      "outputs": [
        {
          "output_type": "display_data",
          "data": {
            "text/plain": [
              "<Figure size 800x600 with 1 Axes>"
            ],
            "image/png": "[encoded data removed]"
          },
          "metadata": {}
        }
      ],
      "source": [
        "import matplotlib.pyplot as plt\n",
        "\n",
        "sentiments = df_clients_reclamations['sentiment'].value_counts()\n",
        "\n",
        "plt.figure(figsize=(8,6))\n",
        "plt.bar(sentiments.index, sentiments.values)\n",
        "plt.title('Sentiment Distribution')\n",
        "plt.xlabel('Sentiment')\n",
        "plt.ylabel('Count')\n",
        "plt.show()"
      ]
    },
    {
      "cell_type": "code",
      "execution_count": 49,
      "id": "ad6ee2f3-30f3-4174-9a42-a65b5b2838b5",
      "metadata": {
        "id": "ad6ee2f3-30f3-4174-9a42-a65b5b2838b5"
      },
      "outputs": [],
      "source": [
        "df_clients_reclamations.to_csv('clients_reclamations.csv', index=False)"
      ]
    },
    {
      "cell_type": "code",
      "execution_count": 50,
      "id": "4c49a9bf-84f2-42dd-be81-9f9b710f133b",
      "metadata": {
        "id": "4c49a9bf-84f2-42dd-be81-9f9b710f133b"
      },
      "outputs": [],
      "source": [
        "from sklearn.model_selection import train_test_split"
      ]
    },
    {
      "cell_type": "code",
      "execution_count": 51,
      "id": "b0303560-018e-4a6e-8542-2476db82d5c4",
      "metadata": {
        "id": "b0303560-018e-4a6e-8542-2476db82d5c4"
      },
      "outputs": [],
      "source": [
        "X = df_clients_reclamations['cleaned_reclamation']\n",
        "y = df_clients_reclamations['DESC_CLEAN_sentiment']  # replace 'sentiment_score' with your sentiment score column\n",
        "\n",
        "# split data into train and validation sets\n",
        "X_train, X_val, y_train, y_val = train_test_split(X, y, test_size=0.2, random_state=42)\n",
        "\n",
        "# create new DataFrames\n",
        "df_train = pd.DataFrame(X_train, columns=['cleaned_reclamation'])\n",
        "df_train['DESC_CLEAN_sentiment'] = y_train\n",
        "\n",
        "df_val = pd.DataFrame(X_val, columns=['cleaned_reclamation'])\n",
        "df_val['DESC_CLEAN_sentiment'] = y_val"
      ]
    },
    {
      "cell_type": "code",
      "execution_count": null,
      "id": "b934b1f9-cb4e-4065-a485-7869a7ab90bc",
      "metadata": {
        "id": "b934b1f9-cb4e-4065-a485-7869a7ab90bc"
      },
      "outputs": [],
      "source": [
        "import pandas as pd\n",
        "import re\n",
        "import nltk\n",
        "from nltk.corpus import stopwords\n",
        "from nltk.stem import WordNetLemmatizer\n",
        "from sklearn.feature_extraction.text import CountVectorizer\n",
        "from sklearn.linear_model import LinearRegression\n",
        "from sklearn.metrics import mean_squared_error, r2_score\n",
        "\n",
        "# Pre-processing of data\n",
        "def text_transformation(df_col):\n",
        "    corpus = []\n",
        "    for item in df_col:\n",
        "        new_item = re.sub('[^a-zA-Z]', ' ', str(item))\n",
        "        new_item = new_item.lower()\n",
        "        new_item = new_item.split()\n",
        "        new_item = [lm.lemmatize(word) for word in new_item if word not in set(stopwords.words('french'))]\n",
        "        corpus.append(' '.join(str(x) for x in new_item))\n",
        "    return corpus\n",
        "\n",
        "lm = WordNetLemmatizer()\n",
        "\n",
        "# Apply pre-processing\n",
        "X_train_preprocessed = text_transformation(df_train['cleaned_reclamation'])\n",
        "X_val_preprocessed = text_transformation(df_val['cleaned_reclamation'])\n",
        "\n",
        "# Vectorization\n",
        "vectorizer = CountVectorizer()\n",
        "X_train_vectorized = vectorizer.fit_transform(X_train_preprocessed)\n",
        "X_val_vectorized = vectorizer.transform(X_val_preprocessed)\n",
        "\n",
        "# Train the model\n",
        "model = LinearRegression()\n",
        "model.fit(X_train_vectorized, df_train['DESC_CLEAN_sentiment'])\n",
        "\n",
        "# Model evaluation\n",
        "y_train_pred = model.predict(X_train_vectorized)\n",
        "y_val_pred = model.predict(X_val_vectorized)\n",
        "\n",
        "train_mse = mean_squared_error(df_train['DESC_CLEAN_sentiment'], y_train_pred)\n",
        "train_r2 = r2_score(df_train['DESC_CLEAN_sentiment'], y_train_pred)\n",
        "\n",
        "val_mse = mean_squared_error(df_val['DESC_CLEAN_sentiment'], y_val_pred)\n",
        "val_r2 = r2_score(df_val['DESC_CLEAN_sentiment'], y_val_pred)\n",
        "\n",
        "print(\"Train MSE: \", train_mse)\n",
        "print(\"Train R2: \", train_r2)\n",
        "\n",
        "print(\"Validation MSE: \", val_mse)\n",
        "print(\"Validation R2: \", val_r2)"
      ]
    },
    {
      "cell_type": "code",
      "execution_count": null,
      "id": "99e7c82a-20a0-4fa8-8ba8-3b0115e884b3",
      "metadata": {
        "id": "99e7c82a-20a0-4fa8-8ba8-3b0115e884b3"
      },
      "outputs": [],
      "source": [
        "import matplotlib.pyplot as plt\n",
        "\n",
        "# Plot actual sentiment scores vs. predicted sentiment scores\n",
        "plt.scatter(df_train['DESC_CLEAN_sentiment'], y_train_pred)\n",
        "plt.xlabel('Actual Sentiment Scores')\n",
        "plt.ylabel('Predicted Sentiment Scores')\n",
        "plt.title('Linear Regression Model (Training Set)')\n",
        "plt.show()\n",
        "\n",
        "plt.scatter(df_val['DESC_CLEAN_sentiment'], y_val_pred)\n",
        "plt.xlabel('Actual Sentiment Scores')\n",
        "plt.ylabel('Predicted Sentiment Scores')\n",
        "plt.title('Linear Regression Model (Validation Set)')\n",
        "plt.show()"
      ]
    },
    {
      "cell_type": "code",
      "execution_count": null,
      "id": "1d46f438-ee80-4e69-9e1b-70a943391c56",
      "metadata": {
        "id": "1d46f438-ee80-4e69-9e1b-70a943391c56"
      },
      "outputs": [],
      "source": [
        "df_train['sentiment_score'] = df_train['cleaned_reclamation'].apply(lambda x: model.predict(vectorizer.transform([x]))[0])\n",
        "df_val['sentiment_score'] = df_val['cleaned_reclamation'].apply(lambda x: model.predict(vectorizer.transform([x]))[0])"
      ]
    },
    {
      "cell_type": "code",
      "execution_count": null,
      "id": "da23ac0c-aef0-4857-8ccc-6874181ab267",
      "metadata": {
        "id": "da23ac0c-aef0-4857-8ccc-6874181ab267"
      },
      "outputs": [],
      "source": [
        "df_train['sentiment_score']"
      ]
    },
    {
      "cell_type": "code",
      "execution_count": null,
      "id": "b337f2f8-615f-4710-8561-52611c3e8163",
      "metadata": {
        "id": "b337f2f8-615f-4710-8561-52611c3e8163"
      },
      "outputs": [],
      "source": [
        "df_val['sentiment_score']"
      ]
    },
    {
      "cell_type": "code",
      "execution_count": null,
      "id": "b97d67d9-0320-40e2-bdd5-42e9c79075ec",
      "metadata": {
        "id": "b97d67d9-0320-40e2-bdd5-42e9c79075ec"
      },
      "outputs": [],
      "source": [
        "def predict_sentiment_score(row):\n",
        "    input_ids = vectorizer.transform([row['cleaned_reclamation']])\n",
        "    return model.predict(input_ids)[0]"
      ]
    },
    {
      "cell_type": "code",
      "execution_count": null,
      "id": "e8d4b6a9-0fa6-4ce1-b6ed-e8316102be53",
      "metadata": {
        "id": "e8d4b6a9-0fa6-4ce1-b6ed-e8316102be53"
      },
      "outputs": [],
      "source": [
        "df_clients_reclamations['sentiment_score'] = df_clients_reclamations.apply(predict_sentiment_score, axis=1)"
      ]
    },
    {
      "cell_type": "code",
      "execution_count": null,
      "id": "203e1ecd-7852-4791-988e-5c6c368c36de",
      "metadata": {
        "id": "203e1ecd-7852-4791-988e-5c6c368c36de"
      },
      "outputs": [],
      "source": [
        "def predict_sentiment_score(row):\n",
        "    input_ids = vectorizer.transform([row['cleaned_reclamation']])\n",
        "    return model.predict(input_ids)[0]\n",
        "\n",
        "df_clients_reclamations['sentiment_score'] = df_clients_reclamations.apply(predict_sentiment_score, axis=1)\n",
        "\n",
        "print(df_clients_reclamations.head())"
      ]
    },
    {
      "cell_type": "code",
      "execution_count": null,
      "id": "12c0112c-7dda-4ce6-9cf8-83c92f016b7d",
      "metadata": {
        "id": "12c0112c-7dda-4ce6-9cf8-83c92f016b7d"
      },
      "outputs": [],
      "source": [
        "def assign_sentiment_label(score):\n",
        "    if score <= 0.0:\n",
        "        return 'Negative'\n",
        "    else:\n",
        "        return 'Positive'"
      ]
    },
    {
      "cell_type": "code",
      "execution_count": null,
      "id": "7bd3d465-954e-4293-97df-d575dadc5f6e",
      "metadata": {
        "id": "7bd3d465-954e-4293-97df-d575dadc5f6e"
      },
      "outputs": [],
      "source": [
        "df_clients_reclamations['sentiment_label'] = df_clients_reclamations['sentiment_score'].apply(assign_sentiment_label)"
      ]
    },
    {
      "cell_type": "code",
      "execution_count": null,
      "id": "d5f2c3cd-b190-413a-909a-0aee4b8d66e9",
      "metadata": {
        "id": "d5f2c3cd-b190-413a-909a-0aee4b8d66e9"
      },
      "outputs": [],
      "source": [
        "def assign_sentiment_label(score):\n",
        "    if score <= -0.5:\n",
        "        return 'Negative'\n",
        "    elif score < 0.5:\n",
        "        return 'Neutral'\n",
        "    else:\n",
        "        return 'Positive'"
      ]
    },
    {
      "cell_type": "code",
      "execution_count": null,
      "id": "b040d6b3-fbc6-43ec-9ea9-737a71de2c83",
      "metadata": {
        "id": "b040d6b3-fbc6-43ec-9ea9-737a71de2c83"
      },
      "outputs": [],
      "source": [
        "df_clients_reclamations['sentiment_label_2'] = df_clients_reclamations['sentiment_score'].apply(assign_sentiment_label)"
      ]
    },
    {
      "cell_type": "code",
      "execution_count": null,
      "id": "90c85712-6dd1-410d-8bcd-a67f7023a825",
      "metadata": {
        "id": "90c85712-6dd1-410d-8bcd-a67f7023a825"
      },
      "outputs": [],
      "source": [
        "df_clients_reclamations['sentiment_label_2']"
      ]
    },
    {
      "cell_type": "code",
      "execution_count": null,
      "id": "a35007df-1ab4-42be-a6da-61bd87cfa6ce",
      "metadata": {
        "id": "a35007df-1ab4-42be-a6da-61bd87cfa6ce"
      },
      "outputs": [],
      "source": [
        "df_clients_reclamations['sentiment_label']"
      ]
    },
    {
      "cell_type": "code",
      "execution_count": null,
      "id": "9de6f45c-5ee7-4f11-a894-73b57c23ad95",
      "metadata": {
        "id": "9de6f45c-5ee7-4f11-a894-73b57c23ad95"
      },
      "outputs": [],
      "source": [
        "df_clients_reclamations.to_csv('clients_reclamations.csv', index=False)"
      ]
    },
    {
      "cell_type": "code",
      "execution_count": null,
      "id": "a30af973-c6df-417e-a2c4-fec140df0629",
      "metadata": {
        "id": "a30af973-c6df-417e-a2c4-fec140df0629"
      },
      "outputs": [],
      "source": [
        "from textblob import TextBlob\n",
        "\n",
        "def textblob_sentiment_analysis(text):\n",
        "    blob = TextBlob(text)\n",
        "    polarity = blob.sentiment.polarity\n",
        "    if polarity > 0.5:\n",
        "        return 'Positive'\n",
        "    elif polarity < -0.5:\n",
        "        return 'Negative'\n",
        "    else:\n",
        "        return 'Neutral'"
      ]
    },
    {
      "cell_type": "code",
      "execution_count": null,
      "id": "4a7f9d97-85dc-4c21-a76f-575ec821f6ca",
      "metadata": {
        "id": "4a7f9d97-85dc-4c21-a76f-575ec821f6ca"
      },
      "outputs": [],
      "source": [
        "df_clients_reclamations['textblob_sentiment_label'] = df_clients_reclamations['cleaned_reclamation'].apply(textblob_sentiment_analysis)"
      ]
    },
    {
      "cell_type": "code",
      "execution_count": null,
      "id": "301fe7d3-1575-4557-8839-bd906bf27be5",
      "metadata": {
        "id": "301fe7d3-1575-4557-8839-bd906bf27be5"
      },
      "outputs": [],
      "source": [
        "def textblob_sentiment_score(text):\n",
        "    blob = TextBlob(text)\n",
        "    polarity = blob.sentiment.polarity\n",
        "    return polarity\n",
        "\n",
        "df_clients_reclamations['textblob_sentiment_score'] = df_clients_reclamations['cleaned_reclamation'].apply(textblob_sentiment_score)"
      ]
    },
    {
      "cell_type": "code",
      "execution_count": null,
      "id": "900d98bd-7633-4299-9fe0-199ff700fc00",
      "metadata": {
        "id": "900d98bd-7633-4299-9fe0-199ff700fc00"
      },
      "outputs": [],
      "source": [
        "df_clients_reclamations['textblob_sentiment_score']"
      ]
    },
    {
      "cell_type": "code",
      "execution_count": null,
      "id": "d8eafef5-34ab-43ef-add0-c2821a26427a",
      "metadata": {
        "id": "d8eafef5-34ab-43ef-add0-c2821a26427a"
      },
      "outputs": [],
      "source": [
        "df_clients_reclamations['textblob_sentiment_score'].head(60)"
      ]
    },
    {
      "cell_type": "code",
      "execution_count": null,
      "id": "a2e1b077-62ee-4eb1-beac-6e55b46e0792",
      "metadata": {
        "id": "a2e1b077-62ee-4eb1-beac-6e55b46e0792"
      },
      "outputs": [],
      "source": [
        "df_clients_reclamations.to_csv('clients_reclamations.csv', index=False)"
      ]
    },
    {
      "cell_type": "code",
      "execution_count": null,
      "id": "93280408-e42a-4973-ade3-c3fb523c4415",
      "metadata": {
        "id": "93280408-e42a-4973-ade3-c3fb523c4415"
      },
      "outputs": [],
      "source": [
        "import nltk\n",
        "nltk.download('vader_lexicon')\n",
        "sid=SentimentIntensityAnalyzer()\n",
        "ps=lambda x:sid.polarity_scores(x)\n",
        "sentiment_scores_vader=df_clients_reclamations.cleaned_reclamation.apply(ps)\n",
        "sentiment_scores_vader"
      ]
    },
    {
      "cell_type": "code",
      "execution_count": null,
      "id": "67eaea41-57c8-4ece-abfd-85ee65d37ca8",
      "metadata": {
        "id": "67eaea41-57c8-4ece-abfd-85ee65d37ca8"
      },
      "outputs": [],
      "source": [
        "sentiment_df=pd.DataFrame(data=list(sentiment_scores_vader))\n",
        "display(sentiment_df)"
      ]
    },
    {
      "cell_type": "code",
      "execution_count": null,
      "id": "3194da25-e387-453d-968d-ee3f23ea3804",
      "metadata": {
        "id": "3194da25-e387-453d-968d-ee3f23ea3804"
      },
      "outputs": [],
      "source": [
        "labelize=lambda x:'neutral' if x==0 else('positive' if x>0 else 'negative')\n",
        "sentiment_df['label_vader']=sentiment_df.compound.apply(labelize)\n",
        "display(sentiment_df.head(10))"
      ]
    },
    {
      "cell_type": "code",
      "execution_count": null,
      "id": "82856903-436b-4d9c-8c66-ab2d6cde2f1d",
      "metadata": {
        "id": "82856903-436b-4d9c-8c66-ab2d6cde2f1d"
      },
      "outputs": [],
      "source": [
        "display(df_clients_reclamations.head(5))\n",
        "data=df_clients_reclamations.join(sentiment_df.label_vader)\n",
        "display(data.head(5))"
      ]
    },
    {
      "cell_type": "code",
      "execution_count": null,
      "id": "681481d1-e65d-4384-b919-dd6a4b145a00",
      "metadata": {
        "id": "681481d1-e65d-4384-b919-dd6a4b145a00"
      },
      "outputs": [],
      "source": [
        "counts_df=data.label_vader.value_counts().reset_index()\n",
        "display(counts_df)"
      ]
    },
    {
      "cell_type": "code",
      "execution_count": null,
      "id": "b0aab124-bb46-4ed6-a53c-7b2eee7e228b",
      "metadata": {
        "id": "b0aab124-bb46-4ed6-a53c-7b2eee7e228b"
      },
      "outputs": [],
      "source": [
        "from sklearn.feature_extraction.text import CountVectorizer\n",
        "from sklearn.naive_bayes import MultinomialNB\n",
        "from sklearn.metrics import accuracy_score\n",
        "\n",
        "# Sélectionner les textes des réclamations\n",
        "texts = df_clients_reclamations['cleaned_reclamation'].tolist()\n",
        "\n",
        "# Vectorisation du texte\n",
        "vectorizer = CountVectorizer()\n",
        "X = vectorizer.fit_transform(texts)\n",
        "\n",
        "# Entraînement du modèle Naive Bayes\n",
        "model = MultinomialNB()\n",
        "model.fit(X, texts)  # Utilisation du texte lui-même comme cible pour une approche non supervisée\n",
        "\n",
        "# Prédiction sur les données d'entraînement\n",
        "y_pred = model.predict(X)\n",
        "\n",
        "# Évaluation de la précision du modèle (approche non supervisée)\n",
        "accuracy = accuracy_score(texts, y_pred)\n",
        "print(\"Précision du modèle : {:.2f}\".format(accuracy))"
      ]
    },
    {
      "cell_type": "code",
      "execution_count": null,
      "id": "2c5af404-d950-4c32-9ee4-5e389aa52ee3",
      "metadata": {
        "id": "2c5af404-d950-4c32-9ee4-5e389aa52ee3"
      },
      "outputs": [],
      "source": [
        "#TEXTBLOB\n",
        "\n",
        "# Analyse de sentiment pour chaque texte de la table\n",
        "for index, row in data.iterrows():\n",
        "    texte = row['cleaned_reclamation']\n",
        "    blob = TextBlob(texte)\n",
        "    polarite = blob.sentiment.polarity\n",
        "    subjectivite = blob.sentiment.subjectivity\n",
        "\n",
        "    # Affichage des résultats pour chaque texte\n",
        "    print(\"Texte:\", texte)\n",
        "    print(\"Polarité du sentiment : \", polarite)\n",
        "    print(\"Subjectivité du sentiment : \", subjectivite)\n",
        "    print(\"\\n\")"
      ]
    },
    {
      "cell_type": "code",
      "execution_count": null,
      "id": "33e6f881-15e8-4361-9ec9-6264c69b0ebb",
      "metadata": {
        "id": "33e6f881-15e8-4361-9ec9-6264c69b0ebb"
      },
      "outputs": [],
      "source": [
        "\n",
        "from nltk.tokenize import word_tokenize\n",
        "from nltk.probability import FreqDist\n",
        "import matplotlib.pyplot as plt\n",
        "\n",
        "# Sélectionner les textes des réclamations\n",
        "texts = df_clients_reclamations['cleaned_reclamation'].tolist()\n",
        "\n",
        "# Tokeniser les textes\n",
        "tokenized_texts = [word_tokenize(text.lower()) for text in texts]\n",
        "\n",
        "# Filtrer les mots vides (stop words)\n",
        "stop_words = set(stopwords.words('french'))\n",
        "filtered_texts = [[word for word in text if word.isalnum() and word not in stop_words] for text in tokenized_texts]\n",
        "\n",
        "# Calculer la fréquence des mots\n",
        "all_words = [word for text in filtered_texts for word in text]\n",
        "fdist = FreqDist(all_words)\n",
        "\n",
        "# Afficher les 10 mots les plus fréquents\n",
        "print(\"Les 30 mots les plus fréquents :\")\n",
        "print(fdist.most_common(30))\n",
        "\n",
        "# Afficher un graphique de la distribution des mots\n",
        "fdist.plot(30, cumulative=False)\n",
        "plt.show()"
      ]
    },
    {
      "cell_type": "code",
      "execution_count": null,
      "id": "ed47ce28-3a3c-4657-82d1-460581c0a474",
      "metadata": {
        "id": "ed47ce28-3a3c-4657-82d1-460581c0a474"
      },
      "outputs": [],
      "source": [
        "# Sélectionner les textes des réclamations\n",
        "texts = df_clients_reclamations['cleaned_reclamation'].tolist()\n",
        "\n",
        "# Tokeniser les textes\n",
        "tokenizer = nltk.tokenize.word_tokenize\n",
        "tokenized_texts = [tokenizer(text) for text in texts]\n",
        "\n",
        "# Extraire les mots-clés\n",
        "stop_words = set(nltk.corpus.stopwords.words('french'))\n",
        "keywords = []\n",
        "for text in tokenized_texts:\n",
        "    for word in text:\n",
        "        if word not in stop_words:\n",
        "            keywords.append(word)\n",
        "\n",
        "# Afficher les mots-clés\n",
        "print(keywords)"
      ]
    },
    {
      "cell_type": "code",
      "execution_count": null,
      "id": "1de44bb1-4008-4aeb-8e0d-f71e9c37e822",
      "metadata": {
        "id": "1de44bb1-4008-4aeb-8e0d-f71e9c37e822"
      },
      "outputs": [],
      "source": [
        "def analyser_reclamation(df3):\n",
        "\n",
        "    # Tokeniser la réclamation\n",
        "    mots = word_tokenize(df3)\n",
        "\n",
        "    # Supprimer les stopwords\n",
        "    mots_utiles = [mot for mot in mots if mot not in stopwords.words('french')]\n",
        "    return mots_utiles"
      ]
    },
    {
      "cell_type": "code",
      "execution_count": null,
      "id": "78e95f19-4bc8-42ff-8a66-22a379ac5bfa",
      "metadata": {
        "id": "78e95f19-4bc8-42ff-8a66-22a379ac5bfa"
      },
      "outputs": [],
      "source": [
        "df_clients_reclamations['mots_utiles'] = df_clients_reclamations['cleaned_reclamation'].apply(analyser_reclamation)"
      ]
    },
    {
      "cell_type": "code",
      "execution_count": null,
      "id": "9d484651-1f84-47c5-a11f-903794c5c01d",
      "metadata": {
        "id": "9d484651-1f84-47c5-a11f-903794c5c01d"
      },
      "outputs": [],
      "source": [
        "df_clients_reclamations['mots_utiles'].head(50)"
      ]
    },
    {
      "cell_type": "code",
      "execution_count": null,
      "id": "621f0d87-b408-4ab0-b30a-b65916939351",
      "metadata": {
        "id": "621f0d87-b408-4ab0-b30a-b65916939351"
      },
      "outputs": [],
      "source": [
        "df_clients_reclamations.head()"
      ]
    },
    {
      "cell_type": "code",
      "execution_count": null,
      "id": "b1ceac0a-34a8-4331-ae77-83a76da6e551",
      "metadata": {
        "id": "b1ceac0a-34a8-4331-ae77-83a76da6e551"
      },
      "outputs": [],
      "source": [
        "stop_words=set(STOP_WORDS)\n",
        "\n",
        "deselect_stop_words = ['n\\'', 'ne','pas','plus','personne','aucun','ni','aucune','rien']\n",
        "for w in deselect_stop_words:\n",
        "    if w in stop_words:\n",
        "        stop_words.remove(w)\n",
        "    else:\n",
        "        continue"
      ]
    },
    {
      "cell_type": "code",
      "execution_count": null,
      "id": "31458efb-9cb4-40c0-8a5d-59be65097813",
      "metadata": {
        "id": "31458efb-9cb4-40c0-8a5d-59be65097813"
      },
      "outputs": [],
      "source": [
        "AllfilteredREC=[]\n",
        "for cleaned_reclamation in df_clients_reclamations[\"mots_utiles\"]:\n",
        "    filteredREC = [w for w in cleaned_reclamation if not ((w in stop_words) or (len(w) == 1))]\n",
        "    AllfilteredREC.append(' '.join(filteredREC))"
      ]
    },
    {
      "cell_type": "code",
      "execution_count": null,
      "id": "5da19011-1c22-436e-9a6d-e469d70a0c3b",
      "metadata": {
        "id": "5da19011-1c22-436e-9a6d-e469d70a0c3b"
      },
      "outputs": [],
      "source": [
        "df_clients_reclamations[\"DESCAferPreproc\"]=AllfilteredREC\n",
        "df_clients_reclamations.head()"
      ]
    },
    {
      "cell_type": "code",
      "execution_count": null,
      "id": "9e036ee5-8fad-44a0-9d90-b199b94bad09",
      "metadata": {
        "id": "9e036ee5-8fad-44a0-9d90-b199b94bad09"
      },
      "outputs": [],
      "source": [
        "texte_reclamation = df_clients_reclamations.cleaned_reclamation"
      ]
    },
    {
      "cell_type": "code",
      "source": [
        "!python -m spacy download fr_core_news_sm"
      ],
      "metadata": {
        "id": "F3tTOGdwklig"
      },
      "id": "F3tTOGdwklig",
      "execution_count": null,
      "outputs": []
    },
    {
      "cell_type": "code",
      "execution_count": null,
      "id": "1bb185dc-cf6e-4139-a947-1954dc705a9c",
      "metadata": {
        "id": "1bb185dc-cf6e-4139-a947-1954dc705a9c"
      },
      "outputs": [],
      "source": [
        "nlp = spacy.load('fr_core_news_sm')\n",
        "texte_reclamation = df_clients_reclamations.cleaned_reclamation"
      ]
    },
    {
      "cell_type": "code",
      "execution_count": null,
      "id": "665a80fc-d457-4bab-bd27-c60ea6221f53",
      "metadata": {
        "id": "665a80fc-d457-4bab-bd27-c60ea6221f53"
      },
      "outputs": [],
      "source": [
        "docs = texte_reclamation.apply(nlp)"
      ]
    },
    {
      "cell_type": "code",
      "execution_count": null,
      "id": "67a203da-3071-4ef3-ab6a-fd9e392dca81",
      "metadata": {
        "id": "67a203da-3071-4ef3-ab6a-fd9e392dca81"
      },
      "outputs": [],
      "source": [
        "docs.head()"
      ]
    },
    {
      "cell_type": "code",
      "execution_count": null,
      "id": "df260789-3332-4780-8337-0c071d23f767",
      "metadata": {
        "id": "df260789-3332-4780-8337-0c071d23f767"
      },
      "outputs": [],
      "source": [
        "df_clients_reclamations.head(10)"
      ]
    },
    {
      "cell_type": "code",
      "execution_count": null,
      "id": "68197c7f-c32d-4ba2-9bd4-782d6b10f789",
      "metadata": {
        "id": "68197c7f-c32d-4ba2-9bd4-782d6b10f789"
      },
      "outputs": [],
      "source": [
        "df_clients_reclamations['mots_utiles'] = df_clients_reclamations['cleaned_reclamation'].apply(analyser_reclamation)"
      ]
    },
    {
      "cell_type": "code",
      "execution_count": null,
      "id": "3211e40a-e13d-4dcb-b6b6-0fe024153c9f",
      "metadata": {
        "id": "3211e40a-e13d-4dcb-b6b6-0fe024153c9f"
      },
      "outputs": [],
      "source": [
        "# Sélectionner les textes des réclamations\n",
        "texts = df_clients_reclamations['cleaned_reclamation'].tolist()\n",
        "\n",
        "# Tokeniser les textes\n",
        "tokenizer = nltk.tokenize.word_tokenize\n",
        "tokenized_texts = [tokenizer(text) for text in texts]\n",
        "\n",
        "# Extraire les mots-clés\n",
        "stop_words = set(nltk.corpus.stopwords.words('french'))\n",
        "keywords = []\n",
        "for text in tokenized_texts:\n",
        "    for word in text:\n",
        "        if word not in stop_words:\n",
        "            keywords.append(word)\n",
        "\n",
        "# Afficher les mots-clés\n",
        "print(keywords)"
      ]
    },
    {
      "cell_type": "code",
      "execution_count": null,
      "id": "ec522aa2-0030-46e4-b838-f64c2e8487d3",
      "metadata": {
        "id": "ec522aa2-0030-46e4-b838-f64c2e8487d3"
      },
      "outputs": [],
      "source": [
        "df_clients_reclamations['DESCAferPreproc'] = df_clients_reclamations['DESCAferPreproc'].str.replace('xd', '')\n",
        "df_clients_reclamations['cleaned_reclamation'] = df_clients_reclamations['cleaned_reclamation'].str.replace('xd', '')"
      ]
    },
    {
      "cell_type": "code",
      "execution_count": null,
      "id": "1f420357-4baf-4e36-8ac4-8971d993b274",
      "metadata": {
        "id": "1f420357-4baf-4e36-8ac4-8971d993b274"
      },
      "outputs": [],
      "source": [
        "def analyser_reclamation(df3):\n",
        "\n",
        "    # Tokeniser la réclamation\n",
        "    mots = word_tokenize(df3)\n",
        "\n",
        "    # Supprimer les stopwords\n",
        "    mots_utiles = [mot for mot in mots if mot not in stopwords.words('french')]\n",
        "    return mots_utiles"
      ]
    },
    {
      "cell_type": "code",
      "execution_count": null,
      "id": "097b2638-94b3-4de1-b6e7-5f1ab5012e0d",
      "metadata": {
        "id": "097b2638-94b3-4de1-b6e7-5f1ab5012e0d"
      },
      "outputs": [],
      "source": [
        "# Sélectionner les textes des réclamations\n",
        "texts = df_clients_reclamations['cleaned_reclamation'].tolist()\n",
        "\n",
        "# Tokeniser les textes\n",
        "tokenizer = nltk.tokenize.word_tokenize\n",
        "tokenized_texts = [tokenizer(text) for text in texts]\n",
        "\n",
        "# Extraire les mots-clés\n",
        "stop_words = set(nltk.corpus.stopwords.words('french'))\n",
        "keywords = []\n",
        "for text in tokenized_texts:\n",
        "    for word in text:\n",
        "        if word not in stop_words:\n",
        "            keywords.append(word)\n",
        "\n",
        "# Afficher les mots-clés\n",
        "print(keywords)"
      ]
    },
    {
      "cell_type": "code",
      "execution_count": null,
      "id": "63e1346a-b250-43e1-a1b6-5f9f94d0af55",
      "metadata": {
        "id": "63e1346a-b250-43e1-a1b6-5f9f94d0af55"
      },
      "outputs": [],
      "source": [
        "df_clients_reclamations['mots_utiles'] = df_clients_reclamations['cleaned_reclamation'].apply(analyser_reclamation)"
      ]
    },
    {
      "cell_type": "code",
      "execution_count": null,
      "id": "5b13e5ef-060f-4778-93c5-80fb51cac13e",
      "metadata": {
        "id": "5b13e5ef-060f-4778-93c5-80fb51cac13e"
      },
      "outputs": [],
      "source": [
        "df_clients_reclamations['mots_utiles'].head(50)"
      ]
    },
    {
      "cell_type": "code",
      "execution_count": null,
      "id": "59ac6169-81cf-4d08-b10e-01695bd90113",
      "metadata": {
        "id": "59ac6169-81cf-4d08-b10e-01695bd90113"
      },
      "outputs": [],
      "source": [
        "df_clients_reclamations.head(10)"
      ]
    },
    {
      "cell_type": "code",
      "execution_count": null,
      "id": "33d99536-9792-47d6-9003-72414e62a1bc",
      "metadata": {
        "id": "33d99536-9792-47d6-9003-72414e62a1bc"
      },
      "outputs": [],
      "source": [
        "df_clients_reclamations.to_csv('clients_reclamations.csv', index=False)"
      ]
    },
    {
      "cell_type": "code",
      "execution_count": null,
      "id": "c4f87e10-670b-4acd-9a42-b5cc74f7691f",
      "metadata": {
        "id": "c4f87e10-670b-4acd-9a42-b5cc74f7691f"
      },
      "outputs": [],
      "source": [
        "def generer_num_doc(TYPDOC):\n",
        "    if isinstance(TYPDOC, str):\n",
        "        if 'CIN' in TYPDOC:\n",
        "            return ''.join(str(np.random.randint(0, 9)) for _ in range(8))\n",
        "        elif 'Identité Fiscale' in TYPDOC or 'Registre de commerce' in TYPDOC:\n",
        "            return ''.join(str(np.random.randint(0, 9)) for _ in range(6)) + random.choice(string.ascii_uppercase)\n",
        "        elif 'Passeport' in TYPDOC:\n",
        "            return ''.join(random.choice(string.ascii_letters + string.digits) for _ in range(9))\n",
        "        elif 'Carte de séjour' in TYPDOC:\n",
        "            return ''.join(str(np.random.randint(0, 9)) for _ in range(10))\n",
        "    return None  # retourner None si TYPDOC n'est pas une chaîne\n",
        "df_clients_reclamations['NUM_Doc'] = df_clients_reclamations['TYPDOC'].apply(generer_num_doc)"
      ]
    },
    {
      "cell_type": "code",
      "execution_count": null,
      "id": "3ab24610-1df3-40c0-ac7a-6a9916190051",
      "metadata": {
        "id": "3ab24610-1df3-40c0-ac7a-6a9916190051"
      },
      "outputs": [],
      "source": [
        "df_clients_reclamations.NUM_Doc.head(50)"
      ]
    },
    {
      "cell_type": "code",
      "execution_count": null,
      "id": "7e8c7a1a-2228-4065-b780-123d8a2dc6cd",
      "metadata": {
        "id": "7e8c7a1a-2228-4065-b780-123d8a2dc6cd"
      },
      "outputs": [],
      "source": [
        "df_clients_reclamations.dtypes"
      ]
    },
    {
      "cell_type": "code",
      "execution_count": null,
      "id": "10410299-b2f0-4f0f-b503-c0076cbec352",
      "metadata": {
        "id": "10410299-b2f0-4f0f-b503-c0076cbec352"
      },
      "outputs": [],
      "source": [
        "# Générer des numéros de compte aléatoires pour toutes les réclamations\n",
        "df_clients_reclamations['NUMCPT'] = df_clients_reclamations['Id_client'].apply(lambda x: random.randint(1000000000, 9999999999))"
      ]
    },
    {
      "cell_type": "code",
      "execution_count": null,
      "id": "a2f0daef-fd8f-4c9f-b8b5-608a9b78628c",
      "metadata": {
        "id": "a2f0daef-fd8f-4c9f-b8b5-608a9b78628c"
      },
      "outputs": [],
      "source": [
        "df_clients_reclamations.NUMCPT.head()"
      ]
    },
    {
      "cell_type": "code",
      "execution_count": null,
      "id": "150a9775-afdb-401a-b909-5ea5e05d1bb7",
      "metadata": {
        "id": "150a9775-afdb-401a-b909-5ea5e05d1bb7"
      },
      "outputs": [],
      "source": [
        "df_clients_reclamations.to_csv('clients_reclamations.csv', index=False)"
      ]
    },
    {
      "cell_type": "code",
      "execution_count": null,
      "id": "4c921bcc-bf8e-4788-bbac-69034b4a35e9",
      "metadata": {
        "id": "4c921bcc-bf8e-4788-bbac-69034b4a35e9"
      },
      "outputs": [],
      "source": [
        "df_clients_reclamations['NUMCPT_2'] = np.nan"
      ]
    },
    {
      "cell_type": "code",
      "execution_count": null,
      "id": "e5fde409-f42c-4646-aa57-3336be54495b",
      "metadata": {
        "id": "e5fde409-f42c-4646-aa57-3336be54495b"
      },
      "outputs": [],
      "source": [
        "nombre_id_client_uniques = df_clients_reclamations['Id_client'].nunique()"
      ]
    },
    {
      "cell_type": "code",
      "execution_count": null,
      "id": "884a372b-96cc-4692-814c-d90f9d7236a5",
      "metadata": {
        "id": "884a372b-96cc-4692-814c-d90f9d7236a5"
      },
      "outputs": [],
      "source": [
        "nombre_id_client_uniques"
      ]
    },
    {
      "cell_type": "code",
      "execution_count": null,
      "id": "ee7a3870-5b7b-453d-8aa7-72bcb532e890",
      "metadata": {
        "id": "ee7a3870-5b7b-453d-8aa7-72bcb532e890"
      },
      "outputs": [],
      "source": [
        "# Sélectionner 300 ID clients aléatoires\n",
        "selected_ids = np.random.choice(df_clients_reclamations['Id_client'], 300, replace=False)"
      ]
    },
    {
      "cell_type": "code",
      "execution_count": null,
      "id": "211bf1ec-e375-4753-ac8e-c9b8fb8c06b1",
      "metadata": {
        "id": "211bf1ec-e375-4753-ac8e-c9b8fb8c06b1"
      },
      "outputs": [],
      "source": [
        "# Générer un deuxième numéro de compte pour les ID clients sélectionnés\n",
        "df_clients_reclamations.loc[df_clients_reclamations['Id_client'].isin(selected_ids), 'NUMCPT_2'] = [random.randint(1000000000, 9999999999) for _ in range(df_clients_reclamations['Id_client'].isin(selected_ids).sum())]"
      ]
    },
    {
      "cell_type": "code",
      "execution_count": null,
      "id": "6f9c4852-7e27-4632-83a5-721e66b0fc9c",
      "metadata": {
        "id": "6f9c4852-7e27-4632-83a5-721e66b0fc9c"
      },
      "outputs": [],
      "source": [
        "df_clients_reclamations.head(50)"
      ]
    },
    {
      "cell_type": "code",
      "execution_count": null,
      "id": "ca87aaf2-5cd2-404a-9de2-4adb95fc71d1",
      "metadata": {
        "id": "ca87aaf2-5cd2-404a-9de2-4adb95fc71d1"
      },
      "outputs": [],
      "source": [
        "df_clients_reclamations.to_csv('clients_reclamations.csv', index=False)"
      ]
    },
    {
      "cell_type": "code",
      "execution_count": null,
      "id": "5791c3cd-41d8-425f-b4ac-ff36979c3527",
      "metadata": {
        "id": "5791c3cd-41d8-425f-b4ac-ff36979c3527"
      },
      "outputs": [],
      "source": [
        "df_clients_reclamations['NUMCPT_2'] = df_clients_reclamations['NUMCPT_2'].fillna(0)#remplacer NAN par 0"
      ]
    },
    {
      "cell_type": "code",
      "execution_count": null,
      "id": "ea21fd7e-c59f-4fdd-a785-d212623ba3fb",
      "metadata": {
        "id": "ea21fd7e-c59f-4fdd-a785-d212623ba3fb"
      },
      "outputs": [],
      "source": [
        "df_clients_reclamations['NUMCPT_2'] = df_clients_reclamations['NUMCPT_2'].astype('int64')"
      ]
    },
    {
      "cell_type": "code",
      "execution_count": null,
      "id": "580a98a0-4135-4d6e-8e51-6bf15c729c2b",
      "metadata": {
        "id": "580a98a0-4135-4d6e-8e51-6bf15c729c2b"
      },
      "outputs": [],
      "source": [
        "df_clients_reclamations.to_csv('clients_reclamations.csv', index=False)"
      ]
    },
    {
      "cell_type": "code",
      "execution_count": null,
      "id": "c4215cba-2698-4fb3-bb77-a7d758b52a50",
      "metadata": {
        "id": "c4215cba-2698-4fb3-bb77-a7d758b52a50"
      },
      "outputs": [],
      "source": [
        "df_clients_reclamations.head(50)"
      ]
    },
    {
      "cell_type": "code",
      "execution_count": null,
      "id": "15631888-4e65-48af-b821-1d5ee07b4455",
      "metadata": {
        "id": "15631888-4e65-48af-b821-1d5ee07b4455"
      },
      "outputs": [],
      "source": [
        "df_keywords_departments=pd.read_csv(\"/content/mots_cles.csv\",sep=';')"
      ]
    },
    {
      "cell_type": "code",
      "execution_count": null,
      "id": "2409878a-e26e-40f1-824d-f63244766405",
      "metadata": {
        "id": "2409878a-e26e-40f1-824d-f63244766405"
      },
      "outputs": [],
      "source": [
        "df_keywords_departments"
      ]
    },
    {
      "cell_type": "code",
      "execution_count": null,
      "id": "6d682564-2e76-4dee-bb7b-edae989ed78f",
      "metadata": {
        "id": "6d682564-2e76-4dee-bb7b-edae989ed78f"
      },
      "outputs": [],
      "source": [
        "df_keywords_departments.columns"
      ]
    },
    {
      "cell_type": "markdown",
      "id": "5ca9f663-7bb0-4e7a-840f-69cfcbe27942",
      "metadata": {
        "id": "5ca9f663-7bb0-4e7a-840f-69cfcbe27942"
      },
      "source": [
        "df_clients_reclamations_VF['Departements'] = None"
      ]
    },
    {
      "cell_type": "code",
      "execution_count": null,
      "id": "d7cabd16-aec1-493e-ba55-33bf6b023464",
      "metadata": {
        "id": "d7cabd16-aec1-493e-ba55-33bf6b023464"
      },
      "outputs": [],
      "source": [
        "from sklearn.cluster import KMeans"
      ]
    },
    {
      "cell_type": "code",
      "execution_count": null,
      "id": "66fdcd74-6129-48a9-a51e-b876410f8c70",
      "metadata": {
        "id": "66fdcd74-6129-48a9-a51e-b876410f8c70"
      },
      "outputs": [],
      "source": [
        "# Créer un vectorizer TF-IDF\n",
        "vectorizer = TfidfVectorizer()\n",
        "\n",
        "# Créer un modèle KMeans pour classer les réclamations dans les départements\n",
        "kmeans = KMeans(n_clusters=len(df_keywords_departments['departement'].unique()), n_init=10, random_state=0)"
      ]
    },
    {
      "cell_type": "code",
      "execution_count": null,
      "id": "120a8e2b-6ad4-499a-a693-3a2738a630b5",
      "metadata": {
        "id": "120a8e2b-6ad4-499a-a693-3a2738a630b5"
      },
      "outputs": [],
      "source": [
        "# Pour chaque ligne du DataFrame des réclamations\n",
        "for i, row in df_clients_reclamations.iterrows():\n",
        "    # Si TYPE_RECLAM est 'RECLAMATION'\n",
        "    if row['TYPE_RECLAM'] == 'RECLAMATION':\n",
        "        # Vectoriser le contenu DESCAferPreproc\n",
        "        X = vectorizer.fit_transform(df_clients_reclamations.loc[df_clients_reclamations['TYPE_RECLAM'] == 'RECLAMATION', 'DESCAferPreproc'])\n",
        "\n",
        "        # Utiliser KMeans pour prédire le département\n",
        "        predicted_department = kmeans.fit_predict(X)\n",
        "\n",
        "        # Affecter le département convenant à la colonne 'Departements'\n",
        "        df_clients_reclamations.loc[df_clients_reclamations['TYPE_RECLAM'] == 'RECLAMATION', 'Departements'] = [df_keywords_departments['departement'].unique()[i] for i in predicted_department]"
      ]
    },
    {
      "cell_type": "markdown",
      "id": "2a4044a2-4228-4815-a1ce-87f4f3ccbbb7",
      "metadata": {
        "id": "2a4044a2-4228-4815-a1ce-87f4f3ccbbb7"
      },
      "source": [
        "UTILISATION DE GENSIM"
      ]
    },
    {
      "cell_type": "code",
      "execution_count": null,
      "id": "8cceecc8-2353-49a8-b1d6-b77a2f75d351",
      "metadata": {
        "id": "8cceecc8-2353-49a8-b1d6-b77a2f75d351"
      },
      "outputs": [],
      "source": [
        "from gensim.models import Word2Vec\n",
        "from sklearn.cluster import KMeans\n",
        "ref_file_path=\"/content/mots_cles.csv\"\n",
        "class NLPModule:\n",
        "    def __init__(self, ref_file_path):\n",
        "        # Charger le référentiel externe\n",
        "        self.df_keywords_departments = pd.read_csv(ref_file_path, sep=';')\n",
        "        self.model = Word2Vec(min_count=1)\n",
        "        self.kmeans = KMeans(n_clusters=len(self.df_keywords_departments['departement'].unique()), random_state=0)\n",
        "\n",
        "    def process_claim(self, claim):\n",
        "        # Préparer les données pour Word2Vec\n",
        "        data = [word.split() for word in claim]\n",
        "\n",
        "        # Entraîner le modèle Word2Vec\n",
        "        self.model.build_vocab(data, progress_per=10000)\n",
        "        self.model.train(data, total_examples=self.model.corpus_count, epochs=self.model.epochs)\n",
        "\n",
        "        # Obtenir le vecteur de la réclamation\n",
        "        claim_vector = self.model.wv.get_vector(claim)\n",
        "\n",
        "        # Utiliser KMeans pour prédire le département\n",
        "        predicted_department = self.kmeans.fit_predict([claim_vector])\n",
        "\n",
        "        # Retourner le département convenant\n",
        "        return self.df_keywords_departments['departement'].unique()[predicted_department[0]]\n"
      ]
    },
    {
      "cell_type": "code",
      "source": [
        "df_clients_reclamations"
      ],
      "metadata": {
        "id": "5LNLVde2uFem"
      },
      "id": "5LNLVde2uFem",
      "execution_count": null,
      "outputs": []
    },
    {
      "cell_type": "code",
      "source": [
        "# Extraire les lignes où statut_client est égal à 'Prospect'\n",
        "df_prospect = df_clients_reclamations[df_clients_reclamations['Statut_client'] == 'Prospect']"
      ],
      "metadata": {
        "id": "qjYO2QFFu3AE"
      },
      "id": "qjYO2QFFu3AE",
      "execution_count": null,
      "outputs": []
    },
    {
      "cell_type": "code",
      "source": [
        "# Enregistrer le DataFrame extrait dans un nouveau fichier csv\n",
        "df_prospect.to_csv('prospect.csv', index=False)"
      ],
      "metadata": {
        "id": "NsJCIhwcu8hF"
      },
      "id": "NsJCIhwcu8hF",
      "execution_count": null,
      "outputs": []
    },
    {
      "cell_type": "markdown",
      "source": [
        "sentiment_label est le plus précis"
      ],
      "metadata": {
        "id": "d-Kfwfxnvc5A"
      },
      "id": "d-Kfwfxnvc5A"
    },
    {
      "cell_type": "code",
      "source": [
        "df_prospect.head(100)"
      ],
      "metadata": {
        "id": "C4Ll5hXLvH34"
      },
      "id": "C4Ll5hXLvH34",
      "execution_count": null,
      "outputs": []
    },
    {
      "cell_type": "markdown",
      "source": [
        "DETECTER SI LE TYPE EST BIEN IDENTIFIE\n"
      ],
      "metadata": {
        "id": "QXm1JJ3Jnxxl"
      },
      "id": "QXm1JJ3Jnxxl"
    },
    {
      "cell_type": "code",
      "source": [
        "from sklearn.feature_extraction.text import CountVectorizer\n",
        "from sklearn.naive_bayes import MultinomialNB"
      ],
      "metadata": {
        "id": "O85zwxwYn2ko"
      },
      "id": "O85zwxwYn2ko",
      "execution_count": null,
      "outputs": []
    },
    {
      "cell_type": "code",
      "source": [
        "class ClientProspectClassifier:\n",
        "    def __init__(self, df_clients_reclamations):\n",
        "        # Préparer les données\n",
        "        self.vectorizer = CountVectorizer()\n",
        "        X = self.vectorizer.fit_transform(df_clients_reclamations['DESCAferPreproc'])\n",
        "        y = df_clients_reclamations['Type_personne']  # Assurez-vous que 'type' est la colonne qui indique si la réclamation est d'un client ou d'un prospect\n",
        "\n",
        "        # Entraîner le modèle\n",
        "        self.model = MultinomialNB()\n",
        "        self.model.fit(X, y)\n",
        "\n",
        "    def classify(self, claim):\n",
        "        # Préparer la réclamation\n",
        "        X = self.vectorizer.transform([claim])\n",
        "\n",
        "        # Prédire le type\n",
        "        predicted_type = self.model.predict(X)[0]\n",
        "\n",
        "        # Vérifier si le type prédit est incorrect\n",
        "        if predicted_type == 'prospect':\n",
        "            return \"Alerte : Le client a été incorrectement classé comme prospect.\"\n",
        "\n",
        "        return \"La réclamation a été correctement classée.\""
      ],
      "metadata": {
        "id": "w-im4c0xxYEI"
      },
      "id": "w-im4c0xxYEI",
      "execution_count": null,
      "outputs": []
    },
    {
      "cell_type": "code",
      "source": [
        "df_clients_reclamations = df_clients_reclamations.fillna('')\n"
      ],
      "metadata": {
        "id": "dIuY5JAxzbAf"
      },
      "id": "dIuY5JAxzbAf",
      "execution_count": null,
      "outputs": []
    },
    {
      "cell_type": "code",
      "source": [
        "classifier = ClientProspectClassifier(df_clients_reclamations)"
      ],
      "metadata": {
        "id": "-4zNR5SBxeZZ"
      },
      "id": "-4zNR5SBxeZZ",
      "execution_count": null,
      "outputs": []
    },
    {
      "cell_type": "code",
      "source": [
        "# Analyser chaque réclamation dans la colonne de réclamations\n",
        "results = []\n",
        "for claim in df_clients_reclamations['DESCAferPreproc']:\n",
        "    alert = classifier.classify(claim)\n",
        "    results.append(alert)\n",
        "\n",
        "# Print the results\n",
        "for result in results:\n",
        "    print(result)\n"
      ],
      "metadata": {
        "id": "2jssepNMzd4P"
      },
      "id": "2jssepNMzd4P",
      "execution_count": null,
      "outputs": []
    },
    {
      "cell_type": "code",
      "source": [
        "df_clients_reclamations.to_csv('prospect.csv', index=False)"
      ],
      "metadata": {
        "id": "BAbelLOE0mUz"
      },
      "id": "BAbelLOE0mUz",
      "execution_count": null,
      "outputs": []
    },
    {
      "cell_type": "markdown",
      "source": [
        "CONNECTION AVEC **mongoDB**"
      ],
      "metadata": {
        "id": "7enBMGA81IKl"
      },
      "id": "7enBMGA81IKl"
    },
    {
      "cell_type": "code",
      "source": [
        "pip install pymongo"
      ],
      "metadata": {
        "id": "v6x8Y4QZ1Dbi"
      },
      "id": "v6x8Y4QZ1Dbi",
      "execution_count": null,
      "outputs": []
    },
    {
      "cell_type": "code",
      "source": [
        "import pymongo"
      ],
      "metadata": {
        "id": "JyF_yTcA1SOw"
      },
      "id": "JyF_yTcA1SOw",
      "execution_count": null,
      "outputs": []
    },
    {
      "cell_type": "code",
      "source": [
        "from pymongo import MongoClient"
      ],
      "metadata": {
        "id": "H2p6606x1Zc6"
      },
      "id": "H2p6606x1Zc6",
      "execution_count": null,
      "outputs": []
    },
    {
      "cell_type": "code",
      "source": [],
      "metadata": {
        "id": "JP7VtSoA1fHB"
      },
      "id": "JP7VtSoA1fHB",
      "execution_count": null,
      "outputs": []
    }
  ],
  "metadata": {
    "kernelspec": {
      "display_name": "Python 3",
      "name": "python3"
    },
    "language_info": {
      "codemirror_mode": {
        "name": "ipython",
        "version": 3
      },
      "file_extension": ".py",
      "mimetype": "text/x-python",
      "name": "python",
      "nbconvert_exporter": "python",
      "pygments_lexer": "ipython3",
      "version": "3.11.5"
    },
    "colab": {
      "provenance": [],
      "gpuType": "T4",
      "include_colab_link": true
    },
    "accelerator": "GPU",
    "widgets": {
      "application/vnd.jupyter.widget-state+json": {
        "b07d28b8f5f5423fb5f028830db4af97": {
          "model_module": "@jupyter-widgets/controls",
          "model_name": "HBoxModel",
          "model_module_version": "1.5.0",
          "state": {
            "_dom_classes": [],
            "_model_module": "@jupyter-widgets/controls",
            "_model_module_version": "1.5.0",
            "_model_name": "HBoxModel",
            "_view_count": null,
            "_view_module": "@jupyter-widgets/controls",
            "_view_module_version": "1.5.0",
            "_view_name": "HBoxView",
            "box_style": "",
            "children": [
              "IPY_MODEL_86d84684b46b45939ee216c1fded0f33",
              "IPY_MODEL_3ba4de4c74bb457c88f4d912d4bb0c8b",
              "IPY_MODEL_8d4c5f64590e4b4889a4d7cabe22bece"
            ],
            "layout": "IPY_MODEL_ecd88f0167224d92b374e46e692cb0bc"
          }
        },
        "86d84684b46b45939ee216c1fded0f33": {
          "model_module": "@jupyter-widgets/controls",
          "model_name": "HTMLModel",
          "model_module_version": "1.5.0",
          "state": {
            "_dom_classes": [],
            "_model_module": "@jupyter-widgets/controls",
            "_model_module_version": "1.5.0",
            "_model_name": "HTMLModel",
            "_view_count": null,
            "_view_module": "@jupyter-widgets/controls",
            "_view_module_version": "1.5.0",
            "_view_name": "HTMLView",
            "description": "",
            "description_tooltip": null,
            "layout": "IPY_MODEL_5f5aa64195cd45fca0574574924c40f5",
            "placeholder": "​",
            "style": "IPY_MODEL_1f69b4d859614a8cbc18b4d83b64903a",
            "value": "config.json: 100%"
          }
        },
        "3ba4de4c74bb457c88f4d912d4bb0c8b": {
          "model_module": "@jupyter-widgets/controls",
          "model_name": "FloatProgressModel",
          "model_module_version": "1.5.0",
          "state": {
            "_dom_classes": [],
            "_model_module": "@jupyter-widgets/controls",
            "_model_module_version": "1.5.0",
            "_model_name": "FloatProgressModel",
            "_view_count": null,
            "_view_module": "@jupyter-widgets/controls",
            "_view_module_version": "1.5.0",
            "_view_name": "ProgressView",
            "bar_style": "success",
            "description": "",
            "description_tooltip": null,
            "layout": "IPY_MODEL_dc9746d54a3b4e6b9cfafc7737c6d999",
            "max": 629,
            "min": 0,
            "orientation": "horizontal",
            "style": "IPY_MODEL_c53da3e7f3244216aac158627a82f04d",
            "value": 629
          }
        },
        "8d4c5f64590e4b4889a4d7cabe22bece": {
          "model_module": "@jupyter-widgets/controls",
          "model_name": "HTMLModel",
          "model_module_version": "1.5.0",
          "state": {
            "_dom_classes": [],
            "_model_module": "@jupyter-widgets/controls",
            "_model_module_version": "1.5.0",
            "_model_name": "HTMLModel",
            "_view_count": null,
            "_view_module": "@jupyter-widgets/controls",
            "_view_module_version": "1.5.0",
            "_view_name": "HTMLView",
            "description": "",
            "description_tooltip": null,
            "layout": "IPY_MODEL_8678b8f0958f44988f7f14d665a754d9",
            "placeholder": "​",
            "style": "IPY_MODEL_f10242b2eb4a4f60853ff463ed0fa332",
            "value": " 629/629 [00:00&lt;00:00, 15.8kB/s]"
          }
        },
        "ecd88f0167224d92b374e46e692cb0bc": {
          "model_module": "@jupyter-widgets/base",
          "model_name": "LayoutModel",
          "model_module_version": "1.2.0",
          "state": {
            "_model_module": "@jupyter-widgets/base",
            "_model_module_version": "1.2.0",
            "_model_name": "LayoutModel",
            "_view_count": null,
            "_view_module": "@jupyter-widgets/base",
            "_view_module_version": "1.2.0",
            "_view_name": "LayoutView",
            "align_content": null,
            "align_items": null,
            "align_self": null,
            "border": null,
            "bottom": null,
            "display": null,
            "flex": null,
            "flex_flow": null,
            "grid_area": null,
            "grid_auto_columns": null,
            "grid_auto_flow": null,
            "grid_auto_rows": null,
            "grid_column": null,
            "grid_gap": null,
            "grid_row": null,
            "grid_template_areas": null,
            "grid_template_columns": null,
            "grid_template_rows": null,
            "height": null,
            "justify_content": null,
            "justify_items": null,
            "left": null,
            "margin": null,
            "max_height": null,
            "max_width": null,
            "min_height": null,
            "min_width": null,
            "object_fit": null,
            "object_position": null,
            "order": null,
            "overflow": null,
            "overflow_x": null,
            "overflow_y": null,
            "padding": null,
            "right": null,
            "top": null,
            "visibility": null,
            "width": null
          }
        },
        "5f5aa64195cd45fca0574574924c40f5": {
          "model_module": "@jupyter-widgets/base",
          "model_name": "LayoutModel",
          "model_module_version": "1.2.0",
          "state": {
            "_model_module": "@jupyter-widgets/base",
            "_model_module_version": "1.2.0",
            "_model_name": "LayoutModel",
            "_view_count": null,
            "_view_module": "@jupyter-widgets/base",
            "_view_module_version": "1.2.0",
            "_view_name": "LayoutView",
            "align_content": null,
            "align_items": null,
            "align_self": null,
            "border": null,
            "bottom": null,
            "display": null,
            "flex": null,
            "flex_flow": null,
            "grid_area": null,
            "grid_auto_columns": null,
            "grid_auto_flow": null,
            "grid_auto_rows": null,
            "grid_column": null,
            "grid_gap": null,
            "grid_row": null,
            "grid_template_areas": null,
            "grid_template_columns": null,
            "grid_template_rows": null,
            "height": null,
            "justify_content": null,
            "justify_items": null,
            "left": null,
            "margin": null,
            "max_height": null,
            "max_width": null,
            "min_height": null,
            "min_width": null,
            "object_fit": null,
            "object_position": null,
            "order": null,
            "overflow": null,
            "overflow_x": null,
            "overflow_y": null,
            "padding": null,
            "right": null,
            "top": null,
            "visibility": null,
            "width": null
          }
        },
        "1f69b4d859614a8cbc18b4d83b64903a": {
          "model_module": "@jupyter-widgets/controls",
          "model_name": "DescriptionStyleModel",
          "model_module_version": "1.5.0",
          "state": {
            "_model_module": "@jupyter-widgets/controls",
            "_model_module_version": "1.5.0",
            "_model_name": "DescriptionStyleModel",
            "_view_count": null,
            "_view_module": "@jupyter-widgets/base",
            "_view_module_version": "1.2.0",
            "_view_name": "StyleView",
            "description_width": ""
          }
        },
        "dc9746d54a3b4e6b9cfafc7737c6d999": {
          "model_module": "@jupyter-widgets/base",
          "model_name": "LayoutModel",
          "model_module_version": "1.2.0",
          "state": {
            "_model_module": "@jupyter-widgets/base",
            "_model_module_version": "1.2.0",
            "_model_name": "LayoutModel",
            "_view_count": null,
            "_view_module": "@jupyter-widgets/base",
            "_view_module_version": "1.2.0",
            "_view_name": "LayoutView",
            "align_content": null,
            "align_items": null,
            "align_self": null,
            "border": null,
            "bottom": null,
            "display": null,
            "flex": null,
            "flex_flow": null,
            "grid_area": null,
            "grid_auto_columns": null,
            "grid_auto_flow": null,
            "grid_auto_rows": null,
            "grid_column": null,
            "grid_gap": null,
            "grid_row": null,
            "grid_template_areas": null,
            "grid_template_columns": null,
            "grid_template_rows": null,
            "height": null,
            "justify_content": null,
            "justify_items": null,
            "left": null,
            "margin": null,
            "max_height": null,
            "max_width": null,
            "min_height": null,
            "min_width": null,
            "object_fit": null,
            "object_position": null,
            "order": null,
            "overflow": null,
            "overflow_x": null,
            "overflow_y": null,
            "padding": null,
            "right": null,
            "top": null,
            "visibility": null,
            "width": null
          }
        },
        "c53da3e7f3244216aac158627a82f04d": {
          "model_module": "@jupyter-widgets/controls",
          "model_name": "ProgressStyleModel",
          "model_module_version": "1.5.0",
          "state": {
            "_model_module": "@jupyter-widgets/controls",
            "_model_module_version": "1.5.0",
            "_model_name": "ProgressStyleModel",
            "_view_count": null,
            "_view_module": "@jupyter-widgets/base",
            "_view_module_version": "1.2.0",
            "_view_name": "StyleView",
            "bar_color": null,
            "description_width": ""
          }
        },
        "8678b8f0958f44988f7f14d665a754d9": {
          "model_module": "@jupyter-widgets/base",
          "model_name": "LayoutModel",
          "model_module_version": "1.2.0",
          "state": {
            "_model_module": "@jupyter-widgets/base",
            "_model_module_version": "1.2.0",
            "_model_name": "LayoutModel",
            "_view_count": null,
            "_view_module": "@jupyter-widgets/base",
            "_view_module_version": "1.2.0",
            "_view_name": "LayoutView",
            "align_content": null,
            "align_items": null,
            "align_self": null,
            "border": null,
            "bottom": null,
            "display": null,
            "flex": null,
            "flex_flow": null,
            "grid_area": null,
            "grid_auto_columns": null,
            "grid_auto_flow": null,
            "grid_auto_rows": null,
            "grid_column": null,
            "grid_gap": null,
            "grid_row": null,
            "grid_template_areas": null,
            "grid_template_columns": null,
            "grid_template_rows": null,
            "height": null,
            "justify_content": null,
            "justify_items": null,
            "left": null,
            "margin": null,
            "max_height": null,
            "max_width": null,
            "min_height": null,
            "min_width": null,
            "object_fit": null,
            "object_position": null,
            "order": null,
            "overflow": null,
            "overflow_x": null,
            "overflow_y": null,
            "padding": null,
            "right": null,
            "top": null,
            "visibility": null,
            "width": null
          }
        },
        "f10242b2eb4a4f60853ff463ed0fa332": {
          "model_module": "@jupyter-widgets/controls",
          "model_name": "DescriptionStyleModel",
          "model_module_version": "1.5.0",
          "state": {
            "_model_module": "@jupyter-widgets/controls",
            "_model_module_version": "1.5.0",
            "_model_name": "DescriptionStyleModel",
            "_view_count": null,
            "_view_module": "@jupyter-widgets/base",
            "_view_module_version": "1.2.0",
            "_view_name": "StyleView",
            "description_width": ""
          }
        },
        "8de6433f944846d69a888c5335767020": {
          "model_module": "@jupyter-widgets/controls",
          "model_name": "HBoxModel",
          "model_module_version": "1.5.0",
          "state": {
            "_dom_classes": [],
            "_model_module": "@jupyter-widgets/controls",
            "_model_module_version": "1.5.0",
            "_model_name": "HBoxModel",
            "_view_count": null,
            "_view_module": "@jupyter-widgets/controls",
            "_view_module_version": "1.5.0",
            "_view_name": "HBoxView",
            "box_style": "",
            "children": [
              "IPY_MODEL_98017d96c14549dc8b0dd79c5a09ea2b",
              "IPY_MODEL_1c6d5f0302d14452a2cf8f8d40eacf1f",
              "IPY_MODEL_711fe78d79e541a5bf716717e66f86ef"
            ],
            "layout": "IPY_MODEL_c7854969cc194764b40a32b7ab0d27f8"
          }
        },
        "98017d96c14549dc8b0dd79c5a09ea2b": {
          "model_module": "@jupyter-widgets/controls",
          "model_name": "HTMLModel",
          "model_module_version": "1.5.0",
          "state": {
            "_dom_classes": [],
            "_model_module": "@jupyter-widgets/controls",
            "_model_module_version": "1.5.0",
            "_model_name": "HTMLModel",
            "_view_count": null,
            "_view_module": "@jupyter-widgets/controls",
            "_view_module_version": "1.5.0",
            "_view_name": "HTMLView",
            "description": "",
            "description_tooltip": null,
            "layout": "IPY_MODEL_086ad0a2dbba4794b0b7ef47498d2219",
            "placeholder": "​",
            "style": "IPY_MODEL_dc3f17e68fc240e1b35cf6677cc46f6d",
            "value": "model.safetensors: 100%"
          }
        },
        "1c6d5f0302d14452a2cf8f8d40eacf1f": {
          "model_module": "@jupyter-widgets/controls",
          "model_name": "FloatProgressModel",
          "model_module_version": "1.5.0",
          "state": {
            "_dom_classes": [],
            "_model_module": "@jupyter-widgets/controls",
            "_model_module_version": "1.5.0",
            "_model_name": "FloatProgressModel",
            "_view_count": null,
            "_view_module": "@jupyter-widgets/controls",
            "_view_module_version": "1.5.0",
            "_view_name": "ProgressView",
            "bar_style": "success",
            "description": "",
            "description_tooltip": null,
            "layout": "IPY_MODEL_7203805725844db887abfdd4f67c1406",
            "max": 267832558,
            "min": 0,
            "orientation": "horizontal",
            "style": "IPY_MODEL_a2f93aab52244174b1630b36bbe79125",
            "value": 267832558
          }
        },
        "711fe78d79e541a5bf716717e66f86ef": {
          "model_module": "@jupyter-widgets/controls",
          "model_name": "HTMLModel",
          "model_module_version": "1.5.0",
          "state": {
            "_dom_classes": [],
            "_model_module": "@jupyter-widgets/controls",
            "_model_module_version": "1.5.0",
            "_model_name": "HTMLModel",
            "_view_count": null,
            "_view_module": "@jupyter-widgets/controls",
            "_view_module_version": "1.5.0",
            "_view_name": "HTMLView",
            "description": "",
            "description_tooltip": null,
            "layout": "IPY_MODEL_6b64cae19a8e4ebaaa8f323e0e0a334d",
            "placeholder": "​",
            "style": "IPY_MODEL_11a7a66d8a674046ab4deabcf885eeb5",
            "value": " 268M/268M [00:01&lt;00:00, 240MB/s]"
          }
        },
        "c7854969cc194764b40a32b7ab0d27f8": {
          "model_module": "@jupyter-widgets/base",
          "model_name": "LayoutModel",
          "model_module_version": "1.2.0",
          "state": {
            "_model_module": "@jupyter-widgets/base",
            "_model_module_version": "1.2.0",
            "_model_name": "LayoutModel",
            "_view_count": null,
            "_view_module": "@jupyter-widgets/base",
            "_view_module_version": "1.2.0",
            "_view_name": "LayoutView",
            "align_content": null,
            "align_items": null,
            "align_self": null,
            "border": null,
            "bottom": null,
            "display": null,
            "flex": null,
            "flex_flow": null,
            "grid_area": null,
            "grid_auto_columns": null,
            "grid_auto_flow": null,
            "grid_auto_rows": null,
            "grid_column": null,
            "grid_gap": null,
            "grid_row": null,
            "grid_template_areas": null,
            "grid_template_columns": null,
            "grid_template_rows": null,
            "height": null,
            "justify_content": null,
            "justify_items": null,
            "left": null,
            "margin": null,
            "max_height": null,
            "max_width": null,
            "min_height": null,
            "min_width": null,
            "object_fit": null,
            "object_position": null,
            "order": null,
            "overflow": null,
            "overflow_x": null,
            "overflow_y": null,
            "padding": null,
            "right": null,
            "top": null,
            "visibility": null,
            "width": null
          }
        },
        "086ad0a2dbba4794b0b7ef47498d2219": {
          "model_module": "@jupyter-widgets/base",
          "model_name": "LayoutModel",
          "model_module_version": "1.2.0",
          "state": {
            "_model_module": "@jupyter-widgets/base",
            "_model_module_version": "1.2.0",
            "_model_name": "LayoutModel",
            "_view_count": null,
            "_view_module": "@jupyter-widgets/base",
            "_view_module_version": "1.2.0",
            "_view_name": "LayoutView",
            "align_content": null,
            "align_items": null,
            "align_self": null,
            "border": null,
            "bottom": null,
            "display": null,
            "flex": null,
            "flex_flow": null,
            "grid_area": null,
            "grid_auto_columns": null,
            "grid_auto_flow": null,
            "grid_auto_rows": null,
            "grid_column": null,
            "grid_gap": null,
            "grid_row": null,
            "grid_template_areas": null,
            "grid_template_columns": null,
            "grid_template_rows": null,
            "height": null,
            "justify_content": null,
            "justify_items": null,
            "left": null,
            "margin": null,
            "max_height": null,
            "max_width": null,
            "min_height": null,
            "min_width": null,
            "object_fit": null,
            "object_position": null,
            "order": null,
            "overflow": null,
            "overflow_x": null,
            "overflow_y": null,
            "padding": null,
            "right": null,
            "top": null,
            "visibility": null,
            "width": null
          }
        },
        "dc3f17e68fc240e1b35cf6677cc46f6d": {
          "model_module": "@jupyter-widgets/controls",
          "model_name": "DescriptionStyleModel",
          "model_module_version": "1.5.0",
          "state": {
            "_model_module": "@jupyter-widgets/controls",
            "_model_module_version": "1.5.0",
            "_model_name": "DescriptionStyleModel",
            "_view_count": null,
            "_view_module": "@jupyter-widgets/base",
            "_view_module_version": "1.2.0",
            "_view_name": "StyleView",
            "description_width": ""
          }
        },
        "7203805725844db887abfdd4f67c1406": {
          "model_module": "@jupyter-widgets/base",
          "model_name": "LayoutModel",
          "model_module_version": "1.2.0",
          "state": {
            "_model_module": "@jupyter-widgets/base",
            "_model_module_version": "1.2.0",
            "_model_name": "LayoutModel",
            "_view_count": null,
            "_view_module": "@jupyter-widgets/base",
            "_view_module_version": "1.2.0",
            "_view_name": "LayoutView",
            "align_content": null,
            "align_items": null,
            "align_self": null,
            "border": null,
            "bottom": null,
            "display": null,
            "flex": null,
            "flex_flow": null,
            "grid_area": null,
            "grid_auto_columns": null,
            "grid_auto_flow": null,
            "grid_auto_rows": null,
            "grid_column": null,
            "grid_gap": null,
            "grid_row": null,
            "grid_template_areas": null,
            "grid_template_columns": null,
            "grid_template_rows": null,
            "height": null,
            "justify_content": null,
            "justify_items": null,
            "left": null,
            "margin": null,
            "max_height": null,
            "max_width": null,
            "min_height": null,
            "min_width": null,
            "object_fit": null,
            "object_position": null,
            "order": null,
            "overflow": null,
            "overflow_x": null,
            "overflow_y": null,
            "padding": null,
            "right": null,
            "top": null,
            "visibility": null,
            "width": null
          }
        },
        "a2f93aab52244174b1630b36bbe79125": {
          "model_module": "@jupyter-widgets/controls",
          "model_name": "ProgressStyleModel",
          "model_module_version": "1.5.0",
          "state": {
            "_model_module": "@jupyter-widgets/controls",
            "_model_module_version": "1.5.0",
            "_model_name": "ProgressStyleModel",
            "_view_count": null,
            "_view_module": "@jupyter-widgets/base",
            "_view_module_version": "1.2.0",
            "_view_name": "StyleView",
            "bar_color": null,
            "description_width": ""
          }
        },
        "6b64cae19a8e4ebaaa8f323e0e0a334d": {
          "model_module": "@jupyter-widgets/base",
          "model_name": "LayoutModel",
          "model_module_version": "1.2.0",
          "state": {
            "_model_module": "@jupyter-widgets/base",
            "_model_module_version": "1.2.0",
            "_model_name": "LayoutModel",
            "_view_count": null,
            "_view_module": "@jupyter-widgets/base",
            "_view_module_version": "1.2.0",
            "_view_name": "LayoutView",
            "align_content": null,
            "align_items": null,
            "align_self": null,
            "border": null,
            "bottom": null,
            "display": null,
            "flex": null,
            "flex_flow": null,
            "grid_area": null,
            "grid_auto_columns": null,
            "grid_auto_flow": null,
            "grid_auto_rows": null,
            "grid_column": null,
            "grid_gap": null,
            "grid_row": null,
            "grid_template_areas": null,
            "grid_template_columns": null,
            "grid_template_rows": null,
            "height": null,
            "justify_content": null,
            "justify_items": null,
            "left": null,
            "margin": null,
            "max_height": null,
            "max_width": null,
            "min_height": null,
            "min_width": null,
            "object_fit": null,
            "object_position": null,
            "order": null,
            "overflow": null,
            "overflow_x": null,
            "overflow_y": null,
            "padding": null,
            "right": null,
            "top": null,
            "visibility": null,
            "width": null
          }
        },
        "11a7a66d8a674046ab4deabcf885eeb5": {
          "model_module": "@jupyter-widgets/controls",
          "model_name": "DescriptionStyleModel",
          "model_module_version": "1.5.0",
          "state": {
            "_model_module": "@jupyter-widgets/controls",
            "_model_module_version": "1.5.0",
            "_model_name": "DescriptionStyleModel",
            "_view_count": null,
            "_view_module": "@jupyter-widgets/base",
            "_view_module_version": "1.2.0",
            "_view_name": "StyleView",
            "description_width": ""
          }
        },
        "555153a144e543468927e4b9d1735923": {
          "model_module": "@jupyter-widgets/controls",
          "model_name": "HBoxModel",
          "model_module_version": "1.5.0",
          "state": {
            "_dom_classes": [],
            "_model_module": "@jupyter-widgets/controls",
            "_model_module_version": "1.5.0",
            "_model_name": "HBoxModel",
            "_view_count": null,
            "_view_module": "@jupyter-widgets/controls",
            "_view_module_version": "1.5.0",
            "_view_name": "HBoxView",
            "box_style": "",
            "children": [
              "IPY_MODEL_db461d232f894dd8a59ecb5b6acada03",
              "IPY_MODEL_8ef78751122747c0a951764839a18675",
              "IPY_MODEL_4d61788853544848ba863a679b8e8cfa"
            ],
            "layout": "IPY_MODEL_e357d254e9544f9892ce85e2cf0ff062"
          }
        },
        "db461d232f894dd8a59ecb5b6acada03": {
          "model_module": "@jupyter-widgets/controls",
          "model_name": "HTMLModel",
          "model_module_version": "1.5.0",
          "state": {
            "_dom_classes": [],
            "_model_module": "@jupyter-widgets/controls",
            "_model_module_version": "1.5.0",
            "_model_name": "HTMLModel",
            "_view_count": null,
            "_view_module": "@jupyter-widgets/controls",
            "_view_module_version": "1.5.0",
            "_view_name": "HTMLView",
            "description": "",
            "description_tooltip": null,
            "layout": "IPY_MODEL_1f30f9c23b5a467c8c506473c43f0595",
            "placeholder": "​",
            "style": "IPY_MODEL_0a32fff2407c44f3818543768fcd80f6",
            "value": "tokenizer_config.json: 100%"
          }
        },
        "8ef78751122747c0a951764839a18675": {
          "model_module": "@jupyter-widgets/controls",
          "model_name": "FloatProgressModel",
          "model_module_version": "1.5.0",
          "state": {
            "_dom_classes": [],
            "_model_module": "@jupyter-widgets/controls",
            "_model_module_version": "1.5.0",
            "_model_name": "FloatProgressModel",
            "_view_count": null,
            "_view_module": "@jupyter-widgets/controls",
            "_view_module_version": "1.5.0",
            "_view_name": "ProgressView",
            "bar_style": "success",
            "description": "",
            "description_tooltip": null,
            "layout": "IPY_MODEL_46194e6c831f4329b2136e05895cfb54",
            "max": 48,
            "min": 0,
            "orientation": "horizontal",
            "style": "IPY_MODEL_929583ac29c5467386b22e4e6680bd79",
            "value": 48
          }
        },
        "4d61788853544848ba863a679b8e8cfa": {
          "model_module": "@jupyter-widgets/controls",
          "model_name": "HTMLModel",
          "model_module_version": "1.5.0",
          "state": {
            "_dom_classes": [],
            "_model_module": "@jupyter-widgets/controls",
            "_model_module_version": "1.5.0",
            "_model_name": "HTMLModel",
            "_view_count": null,
            "_view_module": "@jupyter-widgets/controls",
            "_view_module_version": "1.5.0",
            "_view_name": "HTMLView",
            "description": "",
            "description_tooltip": null,
            "layout": "IPY_MODEL_538d084266a6464db1e686158900c338",
            "placeholder": "​",
            "style": "IPY_MODEL_6d725f81a9d3484bb7c0e79333a12a00",
            "value": " 48.0/48.0 [00:00&lt;00:00, 3.21kB/s]"
          }
        },
        "e357d254e9544f9892ce85e2cf0ff062": {
          "model_module": "@jupyter-widgets/base",
          "model_name": "LayoutModel",
          "model_module_version": "1.2.0",
          "state": {
            "_model_module": "@jupyter-widgets/base",
            "_model_module_version": "1.2.0",
            "_model_name": "LayoutModel",
            "_view_count": null,
            "_view_module": "@jupyter-widgets/base",
            "_view_module_version": "1.2.0",
            "_view_name": "LayoutView",
            "align_content": null,
            "align_items": null,
            "align_self": null,
            "border": null,
            "bottom": null,
            "display": null,
            "flex": null,
            "flex_flow": null,
            "grid_area": null,
            "grid_auto_columns": null,
            "grid_auto_flow": null,
            "grid_auto_rows": null,
            "grid_column": null,
            "grid_gap": null,
            "grid_row": null,
            "grid_template_areas": null,
            "grid_template_columns": null,
            "grid_template_rows": null,
            "height": null,
            "justify_content": null,
            "justify_items": null,
            "left": null,
            "margin": null,
            "max_height": null,
            "max_width": null,
            "min_height": null,
            "min_width": null,
            "object_fit": null,
            "object_position": null,
            "order": null,
            "overflow": null,
            "overflow_x": null,
            "overflow_y": null,
            "padding": null,
            "right": null,
            "top": null,
            "visibility": null,
            "width": null
          }
        },
        "1f30f9c23b5a467c8c506473c43f0595": {
          "model_module": "@jupyter-widgets/base",
          "model_name": "LayoutModel",
          "model_module_version": "1.2.0",
          "state": {
            "_model_module": "@jupyter-widgets/base",
            "_model_module_version": "1.2.0",
            "_model_name": "LayoutModel",
            "_view_count": null,
            "_view_module": "@jupyter-widgets/base",
            "_view_module_version": "1.2.0",
            "_view_name": "LayoutView",
            "align_content": null,
            "align_items": null,
            "align_self": null,
            "border": null,
            "bottom": null,
            "display": null,
            "flex": null,
            "flex_flow": null,
            "grid_area": null,
            "grid_auto_columns": null,
            "grid_auto_flow": null,
            "grid_auto_rows": null,
            "grid_column": null,
            "grid_gap": null,
            "grid_row": null,
            "grid_template_areas": null,
            "grid_template_columns": null,
            "grid_template_rows": null,
            "height": null,
            "justify_content": null,
            "justify_items": null,
            "left": null,
            "margin": null,
            "max_height": null,
            "max_width": null,
            "min_height": null,
            "min_width": null,
            "object_fit": null,
            "object_position": null,
            "order": null,
            "overflow": null,
            "overflow_x": null,
            "overflow_y": null,
            "padding": null,
            "right": null,
            "top": null,
            "visibility": null,
            "width": null
          }
        },
        "0a32fff2407c44f3818543768fcd80f6": {
          "model_module": "@jupyter-widgets/controls",
          "model_name": "DescriptionStyleModel",
          "model_module_version": "1.5.0",
          "state": {
            "_model_module": "@jupyter-widgets/controls",
            "_model_module_version": "1.5.0",
            "_model_name": "DescriptionStyleModel",
            "_view_count": null,
            "_view_module": "@jupyter-widgets/base",
            "_view_module_version": "1.2.0",
            "_view_name": "StyleView",
            "description_width": ""
          }
        },
        "46194e6c831f4329b2136e05895cfb54": {
          "model_module": "@jupyter-widgets/base",
          "model_name": "LayoutModel",
          "model_module_version": "1.2.0",
          "state": {
            "_model_module": "@jupyter-widgets/base",
            "_model_module_version": "1.2.0",
            "_model_name": "LayoutModel",
            "_view_count": null,
            "_view_module": "@jupyter-widgets/base",
            "_view_module_version": "1.2.0",
            "_view_name": "LayoutView",
            "align_content": null,
            "align_items": null,
            "align_self": null,
            "border": null,
            "bottom": null,
            "display": null,
            "flex": null,
            "flex_flow": null,
            "grid_area": null,
            "grid_auto_columns": null,
            "grid_auto_flow": null,
            "grid_auto_rows": null,
            "grid_column": null,
            "grid_gap": null,
            "grid_row": null,
            "grid_template_areas": null,
            "grid_template_columns": null,
            "grid_template_rows": null,
            "height": null,
            "justify_content": null,
            "justify_items": null,
            "left": null,
            "margin": null,
            "max_height": null,
            "max_width": null,
            "min_height": null,
            "min_width": null,
            "object_fit": null,
            "object_position": null,
            "order": null,
            "overflow": null,
            "overflow_x": null,
            "overflow_y": null,
            "padding": null,
            "right": null,
            "top": null,
            "visibility": null,
            "width": null
          }
        },
        "929583ac29c5467386b22e4e6680bd79": {
          "model_module": "@jupyter-widgets/controls",
          "model_name": "ProgressStyleModel",
          "model_module_version": "1.5.0",
          "state": {
            "_model_module": "@jupyter-widgets/controls",
            "_model_module_version": "1.5.0",
            "_model_name": "ProgressStyleModel",
            "_view_count": null,
            "_view_module": "@jupyter-widgets/base",
            "_view_module_version": "1.2.0",
            "_view_name": "StyleView",
            "bar_color": null,
            "description_width": ""
          }
        },
        "538d084266a6464db1e686158900c338": {
          "model_module": "@jupyter-widgets/base",
          "model_name": "LayoutModel",
          "model_module_version": "1.2.0",
          "state": {
            "_model_module": "@jupyter-widgets/base",
            "_model_module_version": "1.2.0",
            "_model_name": "LayoutModel",
            "_view_count": null,
            "_view_module": "@jupyter-widgets/base",
            "_view_module_version": "1.2.0",
            "_view_name": "LayoutView",
            "align_content": null,
            "align_items": null,
            "align_self": null,
            "border": null,
            "bottom": null,
            "display": null,
            "flex": null,
            "flex_flow": null,
            "grid_area": null,
            "grid_auto_columns": null,
            "grid_auto_flow": null,
            "grid_auto_rows": null,
            "grid_column": null,
            "grid_gap": null,
            "grid_row": null,
            "grid_template_areas": null,
            "grid_template_columns": null,
            "grid_template_rows": null,
            "height": null,
            "justify_content": null,
            "justify_items": null,
            "left": null,
            "margin": null,
            "max_height": null,
            "max_width": null,
            "min_height": null,
            "min_width": null,
            "object_fit": null,
            "object_position": null,
            "order": null,
            "overflow": null,
            "overflow_x": null,
            "overflow_y": null,
            "padding": null,
            "right": null,
            "top": null,
            "visibility": null,
            "width": null
          }
        },
        "6d725f81a9d3484bb7c0e79333a12a00": {
          "model_module": "@jupyter-widgets/controls",
          "model_name": "DescriptionStyleModel",
          "model_module_version": "1.5.0",
          "state": {
            "_model_module": "@jupyter-widgets/controls",
            "_model_module_version": "1.5.0",
            "_model_name": "DescriptionStyleModel",
            "_view_count": null,
            "_view_module": "@jupyter-widgets/base",
            "_view_module_version": "1.2.0",
            "_view_name": "StyleView",
            "description_width": ""
          }
        },
        "8211c8b35a694d2683dfdb49e8025988": {
          "model_module": "@jupyter-widgets/controls",
          "model_name": "HBoxModel",
          "model_module_version": "1.5.0",
          "state": {
            "_dom_classes": [],
            "_model_module": "@jupyter-widgets/controls",
            "_model_module_version": "1.5.0",
            "_model_name": "HBoxModel",
            "_view_count": null,
            "_view_module": "@jupyter-widgets/controls",
            "_view_module_version": "1.5.0",
            "_view_name": "HBoxView",
            "box_style": "",
            "children": [
              "IPY_MODEL_a77beee6ffcf45708f4aed9ef7867ba3",
              "IPY_MODEL_bb50cfa0d37f41b4929877adb9dd01a9",
              "IPY_MODEL_fb37e1f4256745da917814397ef9e53d"
            ],
            "layout": "IPY_MODEL_3964a47b07504ee2b05b190d84201db7"
          }
        },
        "a77beee6ffcf45708f4aed9ef7867ba3": {
          "model_module": "@jupyter-widgets/controls",
          "model_name": "HTMLModel",
          "model_module_version": "1.5.0",
          "state": {
            "_dom_classes": [],
            "_model_module": "@jupyter-widgets/controls",
            "_model_module_version": "1.5.0",
            "_model_name": "HTMLModel",
            "_view_count": null,
            "_view_module": "@jupyter-widgets/controls",
            "_view_module_version": "1.5.0",
            "_view_name": "HTMLView",
            "description": "",
            "description_tooltip": null,
            "layout": "IPY_MODEL_6e7fd66695ab495ea22906ff23048cdd",
            "placeholder": "​",
            "style": "IPY_MODEL_6a7baffaea3442f0a7010d69f73d6858",
            "value": "vocab.txt: 100%"
          }
        },
        "bb50cfa0d37f41b4929877adb9dd01a9": {
          "model_module": "@jupyter-widgets/controls",
          "model_name": "FloatProgressModel",
          "model_module_version": "1.5.0",
          "state": {
            "_dom_classes": [],
            "_model_module": "@jupyter-widgets/controls",
            "_model_module_version": "1.5.0",
            "_model_name": "FloatProgressModel",
            "_view_count": null,
            "_view_module": "@jupyter-widgets/controls",
            "_view_module_version": "1.5.0",
            "_view_name": "ProgressView",
            "bar_style": "success",
            "description": "",
            "description_tooltip": null,
            "layout": "IPY_MODEL_ac300050a98e450fb29306254f7fb168",
            "max": 231508,
            "min": 0,
            "orientation": "horizontal",
            "style": "IPY_MODEL_6526b2d776134389b82406cf13a4d36c",
            "value": 231508
          }
        },
        "fb37e1f4256745da917814397ef9e53d": {
          "model_module": "@jupyter-widgets/controls",
          "model_name": "HTMLModel",
          "model_module_version": "1.5.0",
          "state": {
            "_dom_classes": [],
            "_model_module": "@jupyter-widgets/controls",
            "_model_module_version": "1.5.0",
            "_model_name": "HTMLModel",
            "_view_count": null,
            "_view_module": "@jupyter-widgets/controls",
            "_view_module_version": "1.5.0",
            "_view_name": "HTMLView",
            "description": "",
            "description_tooltip": null,
            "layout": "IPY_MODEL_8befe1bf0bec427d8c7d08481ca1fc0f",
            "placeholder": "​",
            "style": "IPY_MODEL_21b52425e17148efbf4f113f08feb03c",
            "value": " 232k/232k [00:00&lt;00:00, 2.43MB/s]"
          }
        },
        "3964a47b07504ee2b05b190d84201db7": {
          "model_module": "@jupyter-widgets/base",
          "model_name": "LayoutModel",
          "model_module_version": "1.2.0",
          "state": {
            "_model_module": "@jupyter-widgets/base",
            "_model_module_version": "1.2.0",
            "_model_name": "LayoutModel",
            "_view_count": null,
            "_view_module": "@jupyter-widgets/base",
            "_view_module_version": "1.2.0",
            "_view_name": "LayoutView",
            "align_content": null,
            "align_items": null,
            "align_self": null,
            "border": null,
            "bottom": null,
            "display": null,
            "flex": null,
            "flex_flow": null,
            "grid_area": null,
            "grid_auto_columns": null,
            "grid_auto_flow": null,
            "grid_auto_rows": null,
            "grid_column": null,
            "grid_gap": null,
            "grid_row": null,
            "grid_template_areas": null,
            "grid_template_columns": null,
            "grid_template_rows": null,
            "height": null,
            "justify_content": null,
            "justify_items": null,
            "left": null,
            "margin": null,
            "max_height": null,
            "max_width": null,
            "min_height": null,
            "min_width": null,
            "object_fit": null,
            "object_position": null,
            "order": null,
            "overflow": null,
            "overflow_x": null,
            "overflow_y": null,
            "padding": null,
            "right": null,
            "top": null,
            "visibility": null,
            "width": null
          }
        },
        "6e7fd66695ab495ea22906ff23048cdd": {
          "model_module": "@jupyter-widgets/base",
          "model_name": "LayoutModel",
          "model_module_version": "1.2.0",
          "state": {
            "_model_module": "@jupyter-widgets/base",
            "_model_module_version": "1.2.0",
            "_model_name": "LayoutModel",
            "_view_count": null,
            "_view_module": "@jupyter-widgets/base",
            "_view_module_version": "1.2.0",
            "_view_name": "LayoutView",
            "align_content": null,
            "align_items": null,
            "align_self": null,
            "border": null,
            "bottom": null,
            "display": null,
            "flex": null,
            "flex_flow": null,
            "grid_area": null,
            "grid_auto_columns": null,
            "grid_auto_flow": null,
            "grid_auto_rows": null,
            "grid_column": null,
            "grid_gap": null,
            "grid_row": null,
            "grid_template_areas": null,
            "grid_template_columns": null,
            "grid_template_rows": null,
            "height": null,
            "justify_content": null,
            "justify_items": null,
            "left": null,
            "margin": null,
            "max_height": null,
            "max_width": null,
            "min_height": null,
            "min_width": null,
            "object_fit": null,
            "object_position": null,
            "order": null,
            "overflow": null,
            "overflow_x": null,
            "overflow_y": null,
            "padding": null,
            "right": null,
            "top": null,
            "visibility": null,
            "width": null
          }
        },
        "6a7baffaea3442f0a7010d69f73d6858": {
          "model_module": "@jupyter-widgets/controls",
          "model_name": "DescriptionStyleModel",
          "model_module_version": "1.5.0",
          "state": {
            "_model_module": "@jupyter-widgets/controls",
            "_model_module_version": "1.5.0",
            "_model_name": "DescriptionStyleModel",
            "_view_count": null,
            "_view_module": "@jupyter-widgets/base",
            "_view_module_version": "1.2.0",
            "_view_name": "StyleView",
            "description_width": ""
          }
        },
        "ac300050a98e450fb29306254f7fb168": {
          "model_module": "@jupyter-widgets/base",
          "model_name": "LayoutModel",
          "model_module_version": "1.2.0",
          "state": {
            "_model_module": "@jupyter-widgets/base",
            "_model_module_version": "1.2.0",
            "_model_name": "LayoutModel",
            "_view_count": null,
            "_view_module": "@jupyter-widgets/base",
            "_view_module_version": "1.2.0",
            "_view_name": "LayoutView",
            "align_content": null,
            "align_items": null,
            "align_self": null,
            "border": null,
            "bottom": null,
            "display": null,
            "flex": null,
            "flex_flow": null,
            "grid_area": null,
            "grid_auto_columns": null,
            "grid_auto_flow": null,
            "grid_auto_rows": null,
            "grid_column": null,
            "grid_gap": null,
            "grid_row": null,
            "grid_template_areas": null,
            "grid_template_columns": null,
            "grid_template_rows": null,
            "height": null,
            "justify_content": null,
            "justify_items": null,
            "left": null,
            "margin": null,
            "max_height": null,
            "max_width": null,
            "min_height": null,
            "min_width": null,
            "object_fit": null,
            "object_position": null,
            "order": null,
            "overflow": null,
            "overflow_x": null,
            "overflow_y": null,
            "padding": null,
            "right": null,
            "top": null,
            "visibility": null,
            "width": null
          }
        },
        "6526b2d776134389b82406cf13a4d36c": {
          "model_module": "@jupyter-widgets/controls",
          "model_name": "ProgressStyleModel",
          "model_module_version": "1.5.0",
          "state": {
            "_model_module": "@jupyter-widgets/controls",
            "_model_module_version": "1.5.0",
            "_model_name": "ProgressStyleModel",
            "_view_count": null,
            "_view_module": "@jupyter-widgets/base",
            "_view_module_version": "1.2.0",
            "_view_name": "StyleView",
            "bar_color": null,
            "description_width": ""
          }
        },
        "8befe1bf0bec427d8c7d08481ca1fc0f": {
          "model_module": "@jupyter-widgets/base",
          "model_name": "LayoutModel",
          "model_module_version": "1.2.0",
          "state": {
            "_model_module": "@jupyter-widgets/base",
            "_model_module_version": "1.2.0",
            "_model_name": "LayoutModel",
            "_view_count": null,
            "_view_module": "@jupyter-widgets/base",
            "_view_module_version": "1.2.0",
            "_view_name": "LayoutView",
            "align_content": null,
            "align_items": null,
            "align_self": null,
            "border": null,
            "bottom": null,
            "display": null,
            "flex": null,
            "flex_flow": null,
            "grid_area": null,
            "grid_auto_columns": null,
            "grid_auto_flow": null,
            "grid_auto_rows": null,
            "grid_column": null,
            "grid_gap": null,
            "grid_row": null,
            "grid_template_areas": null,
            "grid_template_columns": null,
            "grid_template_rows": null,
            "height": null,
            "justify_content": null,
            "justify_items": null,
            "left": null,
            "margin": null,
            "max_height": null,
            "max_width": null,
            "min_height": null,
            "min_width": null,
            "object_fit": null,
            "object_position": null,
            "order": null,
            "overflow": null,
            "overflow_x": null,
            "overflow_y": null,
            "padding": null,
            "right": null,
            "top": null,
            "visibility": null,
            "width": null
          }
        },
        "21b52425e17148efbf4f113f08feb03c": {
          "model_module": "@jupyter-widgets/controls",
          "model_name": "DescriptionStyleModel",
          "model_module_version": "1.5.0",
          "state": {
            "_model_module": "@jupyter-widgets/controls",
            "_model_module_version": "1.5.0",
            "_model_name": "DescriptionStyleModel",
            "_view_count": null,
            "_view_module": "@jupyter-widgets/base",
            "_view_module_version": "1.2.0",
            "_view_name": "StyleView",
            "description_width": ""
          }
        }
      }
    }
  },
  "nbformat": 4,
  "nbformat_minor": 5
}